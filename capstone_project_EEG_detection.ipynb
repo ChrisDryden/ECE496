{
 "cells": [
  {
   "cell_type": "markdown",
   "metadata": {},
   "source": [
    "## Part 1: Data Processing"
   ]
  },
  {
   "cell_type": "markdown",
   "metadata": {},
   "source": [
    "### Process both time series and gamma phase-amplitude coupling (GPAC) images into dataframes"
   ]
  },
  {
   "cell_type": "code",
   "execution_count": 1,
   "metadata": {},
   "outputs": [],
   "source": [
    "import mne\n",
    "import numpy as np\n",
    "import os\n",
    "import pandas as pd\n",
    "import scipy.io as sio\n",
    "\n",
    "from IPython.display import display\n",
    "\n",
    "mne.set_log_level('ERROR')"
   ]
  },
  {
   "cell_type": "code",
   "execution_count": 2,
   "metadata": {},
   "outputs": [],
   "source": [
    "NO_LABEL = \"No Label\"\n",
    "BASELINE = \"Baseline\"\n",
    "BLINK = \"Blink\"\n",
    "ELECTRODE_MOVEMENT = \"Electrode Movement\"\n",
    "HAND_MOVEMENT = \"Hand Movement\"\n",
    "EYE_MOVEMENT = \"Eye Movement\"\n",
    "\n",
    "LABELS = {\n",
    "    # START DO NOT CHANGE, THESE MATCH SUPERVISOR DATA\n",
    "    NO_LABEL: -1,\n",
    "    BASELINE: 0,\n",
    "    BLINK: 1,\n",
    "    ELECTRODE_MOVEMENT: 2,\n",
    "    HAND_MOVEMENT: 3,\n",
    "    ## END\n",
    "    EYE_MOVEMENT: 4,\n",
    "}\n",
    "\n",
    "LABEL_NAMES = { label: name for name, label in LABELS.items() }"
   ]
  },
  {
   "cell_type": "code",
   "execution_count": 3,
   "metadata": {},
   "outputs": [],
   "source": [
    "def process_timeseries_data(path):\n",
    "    \"\"\" Reads and processes all time series data from MATLAB files in the provided\n",
    "    path. Only relevant data will be stored for use here.\n",
    "    \"\"\"\n",
    "    all_data = {}\n",
    "\n",
    "    for file_name in os.listdir(path):\n",
    "        # 'data' will contain all relevant data that should be used for training.\n",
    "        # Other keys will hold other useful information that shouldn't be directly\n",
    "        # needed for training.\n",
    "        data = {'data': {}}\n",
    "        \n",
    "        full_file_path = os.path.join(path, file_name)\n",
    "        mat_data = sio.loadmat(full_file_path)\n",
    "\n",
    "        # Time series data with size equal to the number of channels (i.e. electrodes).\n",
    "        # The electrode names can be indexed to find the electrode that a specific\n",
    "        # value in this time series data belongs to.\n",
    "        data['data']['samples'] = list(np.swapaxes(np.array(mat_data['Data']), 0, 1))\n",
    "\n",
    "        # Time points in seconds\n",
    "        data['data']['time'] = np.array(mat_data['Time'][0])\n",
    "\n",
    "        data['data'] = pd.DataFrame(data['data'])\n",
    "        \n",
    "        # List of electrode names following the 10-20 EEG recording system\n",
    "        data['electrodes'] = np.array([item.item() for item in mat_data['Electrodes'][0]])\n",
    "\n",
    "        all_data[full_file_path] = data\n",
    "\n",
    "    return all_data\n",
    "\n",
    "\n",
    "def process_gpac_image_data(path):\n",
    "    \"\"\" Reads and processes all GPAC image data from MATLAB files in the provided\n",
    "    path. Only relevant data will be stored for use here.\n",
    "    \"\"\"\n",
    "    all_data = {}\n",
    "\n",
    "    for file_name in os.listdir(path):\n",
    "        # 'data' will contain all relevant data that should be used for training.\n",
    "        # Other keys will hold other useful information that shouldn't be directly\n",
    "        # needed for training.\n",
    "        data = {'data': {}}\n",
    "        \n",
    "        full_file_path = os.path.join(path, file_name)\n",
    "        mat_data = sio.loadmat(full_file_path)\n",
    "\n",
    "        # Sample point number corresponding to the start of each 2s window\n",
    "        data['data']['window_start'] = np.array(mat_data['data']['wind'][0][0][0])\n",
    "\n",
    "        # GPAC data of size lf x hf, where lf and hf are the dimensions of the GPAC image\n",
    "        # Note that each window has its data flattened to one list of size lf x hf. We need\n",
    "        # to cast the reshaped data as a list so that, for this column, each row contains a\n",
    "        # list of the lf x hf data.\n",
    "        data['data']['fv'] = np.array(mat_data['data']['fv'][0][0])\n",
    "        data['data']['fv'] = list(data['data']['fv'].reshape(data['data']['fv'].shape[0], -1))\n",
    "\n",
    "        # Window labels: baseline interictal (0), blink (1), movement (2), or EMG (3). -1\n",
    "        # means the window wasn't labelled.\n",
    "        data['data']['label'] = np.squeeze(np.array(mat_data['training_labels']), axis=1)\n",
    "\n",
    "        data['data'] = pd.DataFrame(data['data'])\n",
    "\n",
    "        # The duration of the window chosen for analysis, which should always be 2s\n",
    "        data['window_len'] = np.array(mat_data['ws'][0])\n",
    "        \n",
    "        # lf and hf are the frequency values corresponding to the phase range and amplitude\n",
    "        # range of interest in the GPAC feature, respectively.\n",
    "        data['lf'] = np.array(mat_data['lf'][0])\n",
    "        data['hf'] = np.array(mat_data['hf'][0])\n",
    "\n",
    "        all_data[full_file_path] = data\n",
    "\n",
    "    return all_data\n",
    "\n",
    "\n",
    "def process_eye_blinking_data(file_path):\n",
    "    \"\"\" Reads and processes all eye blinking image data from MATLAB files in the provided\n",
    "    path. Only relevant data will be stored for use here. Dataset parsed in this function\n",
    "    was obtained from https://www.sciencedirect.com/science/article/pii/S0925231216001569.\n",
    "    \"\"\"\n",
    "    # 'data' will contain all relevant data that should be used for training.\n",
    "    # Other keys will hold other useful information that shouldn't be directly\n",
    "    # needed for training.\n",
    "    all_data = {}\n",
    "    data = {'data': {}}\n",
    "    mat_data = sio.loadmat(file_path)\n",
    "\n",
    "    mat_data = np.concatenate(\n",
    "        (mat_data['Epochs']['EyeblinkArtifactEpochs'][0,0]['Voluntary'][0,0]['All'][0,0],\n",
    "        mat_data['Epochs']['EyeblinkArtifactEpochs'][0,0]['Involuntary'][0,0]['All'][0,0]),\n",
    "        axis=0\n",
    "    )\n",
    "    mat_data = np.swapaxes(mat_data, 0, 1)\n",
    "\n",
    "    # Time series data with size equal to the number of channels (i.e. electrodes).\n",
    "    # The electrode names can be indexed to find the electrode that a specific\n",
    "    # value in this time series data belongs to.\n",
    "    data['data']['samples'] = list(np.array(mat_data.reshape(-1, mat_data.shape[0])))\n",
    "\n",
    "    # Sample rate is 256Hz\n",
    "    data['data']['time'] = np.arange(0, len(data['data']['samples']) / 256, 1 / 256)\n",
    "\n",
    "    data['data'] = pd.DataFrame(data['data'])\n",
    "    \n",
    "    data['data']['label'] = LABELS[BLINK]\n",
    "\n",
    "    # List of electrode names following the 10-20 EEG recording system\n",
    "    data['electrodes'] = np.array(['FP1', 'FP2', 'F3', 'F4', 'T3', 'C3', 'Cz', 'C4', 'T4', 'P3', 'Pz', 'P4', 'O1', 'O2'])\n",
    "\n",
    "    all_data[file_path] = data\n",
    "    return all_data\n",
    "\n",
    "\n",
    "def process_hand_eye_movement_data(path):\n",
    "    \"\"\" Reads and processes all hand and eye movement data from MATLAB files in the provided\n",
    "    path. Only relevant data will be stored for use here. Dataset parsed in this function\n",
    "    was obtained from https://academic.oup.com/gigascience/article/6/7/gix034/3796323.\n",
    "    \"\"\"\n",
    "    all_data = {}\n",
    "\n",
    "    for file_name in os.listdir(path):\n",
    "        # 'data' will contain all relevant data that should be used for training.\n",
    "        # Other keys will hold other useful information that shouldn't be directly\n",
    "        # needed for training.\n",
    "        data = {'data': {}}\n",
    "\n",
    "        full_file_path = os.path.join(path, file_name)\n",
    "        mat_data = sio.loadmat(full_file_path)\n",
    "        \n",
    "        #\n",
    "        # ------------ HAND MOVEMENT ------------\n",
    "        #\n",
    "        movement_events = mat_data[\"eeg\"][\"movement_event\"][0][0][0]\n",
    "\n",
    "        # Indices that indicate when left or right hand movement begins. This movement lasts for 3 seconds, thus\n",
    "        # movement indices are created by creating a range from <start> to <start + 3> seconds for each index.\n",
    "        # These indices are the same for both the left and right hand movements.\n",
    "        num_time_points_per_window = mat_data[\"eeg\"][\"srate\"][0][0].item() * 3\n",
    "        movement_start_indices, = np.where(movement_events == 1)\n",
    "        movement_indices = np.array(np.ravel([np.arange(start, start + num_time_points_per_window) for start in movement_start_indices]))\n",
    "\n",
    "        # All non-movement data is baseline, so set all labels to baseline and replace movement indices with movement labels\n",
    "        labels = np.full(len(movement_events), LABELS[BASELINE])\n",
    "        labels[movement_indices] = LABELS[HAND_MOVEMENT]\n",
    "        \n",
    "        # Same movement indices for both left and right hand, so concatenate the arrays twice\n",
    "        labels = np.concatenate((labels, labels))\n",
    "\n",
    "        # Movement events specified for both left and right, so multiply length by 2\n",
    "        sample_rate = mat_data[\"eeg\"][\"srate\"][0][0].item()\n",
    "        time = np.arange(0, len(movement_events) * 2 / sample_rate, 1 / sample_rate)\n",
    "\n",
    "        # The data contains 64 EEG channels and 4 EMG channels, take only the EEG channels.\n",
    "        # Data for both left and right hands is concatenated after extracting relevant data\n",
    "        # according to the movement indices.\n",
    "        data['data']['samples'] = list(np.concatenate(\n",
    "            [np.array(np.swapaxes(mat_data[\"eeg\"][movement][0][0][:64], 0, 1)) for movement in [\"movement_left\", \"movement_right\"]]\n",
    "        ))\n",
    "\n",
    "        data['data']['time'] = time\n",
    "        data['data']['label'] = labels\n",
    "\n",
    "        data['data'] = pd.DataFrame(data['data'])\n",
    "\n",
    "        #\n",
    "        # ------------ EYE MOVEMENT ------------\n",
    "        #\n",
    "        eye_samples = list(np.concatenate(\n",
    "            [np.array(np.swapaxes(mat_data[\"eeg\"][\"noise\"][0,0][i][0][:64], 0, 1)) for i in range(1, 3)]\n",
    "        ))\n",
    "        # Appending to end of hand movement, so start time right after previous time ends\n",
    "        eye_start_time = time[-1] + 1 / sample_rate\n",
    "\n",
    "        # 20s worth of data (10s for each type of eye movement)\n",
    "        eye_time = np.arange(eye_start_time, eye_start_time + 20, 1 / sample_rate)\n",
    "        eye_labels = np.full(len(eye_samples), LABELS[EYE_MOVEMENT])\n",
    "\n",
    "        eye_df = pd.DataFrame({'samples': eye_samples, 'time': eye_time, 'label': eye_labels})\n",
    "        data['data'] = pd.concat([data['data'], eye_df], ignore_index=True)\n",
    "\n",
    "        all_data[full_file_path] = data\n",
    "    \n",
    "    return all_data\n",
    "\n",
    "\n",
    "def process_eye_data(path):\n",
    "    \"\"\"\n",
    "    Reads and processes all eye (blink + movement) data from MATLAB files in the provided\n",
    "    path. Stores in the dict all_data which is indexed by path directly to the data\n",
    "    file. Dataset parsed in this function was obtained from https://osf.io/8xwv2/.\n",
    "    \"\"\"\n",
    "    all_data = {}\n",
    "    \n",
    "    for dirs in os.listdir(path):\n",
    "        \n",
    "        if os.path.isdir(os.path.join(path, dirs)):\n",
    "            file_path = os.path.join(path, dirs)\n",
    "            \n",
    "            for file_name in os.listdir(file_path):\n",
    "                # We only read the .set files as they contain the time-series data\n",
    "                if file_name.endswith('.set'):\n",
    "                    # Read the .set file and convert into a pandas dataframe\n",
    "                    data = mne.io.read_epochs_eeglab(os.path.join(file_path, file_name))\n",
    "                    data_df = data.to_data_frame()\n",
    "                    \n",
    "                    # Filter out some of the channels, MISSING FP1 and FP2\n",
    "                    # Note: to select different channels for dataframe, just modify this list\n",
    "                    channels_to_keep = ['time','FPz', 'F3', 'F4','T7','C3','Cz','C4','T8','P3','Pz','P4','O1', 'O2', 'artifactclasses']\n",
    "\n",
    "                    # Some datasets did not have all the desired columns, so this is a check\n",
    "                    if set(channels_to_keep).issubset(data_df.columns): \n",
    "                        data_df = data_df[channels_to_keep]\n",
    "                        data = {}\n",
    "\n",
    "                        # Convert time in ms to s\n",
    "                        data_df['time'] = np.arange(len(data_df)) * 5 / 1000\n",
    "\n",
    "                        data_df['artifactclasses'] = np.where((data_df.artifactclasses == 0), LABELS[NO_LABEL], data_df.artifactclasses)\n",
    "                        data_df['artifactclasses'] = np.where((data_df.artifactclasses <= 4) & (data_df.artifactclasses >= 1), LABELS[EYE_MOVEMENT], data_df.artifactclasses)\n",
    "                        data_df['artifactclasses'] = np.where((data_df.artifactclasses == 5), LABELS[BLINK], data_df.artifactclasses)\n",
    "                        data_df['artifactclasses'] = np.where((data_df.artifactclasses == 6), LABELS[BASELINE], data_df.artifactclasses)\n",
    "                        \n",
    "                        data_df = data_df.rename(columns={'artifactclasses' : 'label'})\n",
    "                        data_df['label'] = data_df['label'].apply(np.int32)\n",
    "                        \n",
    "                        # Convert all of the EEG channel data columns into a list, and create a column for that data\n",
    "                        eeg_channels = ['FPz', 'F3', 'F4','T7','C3','Cz','C4','T8','P3','Pz','P4','O1', 'O2']\n",
    "                        data_df['samples'] = data_df[eeg_channels].values.tolist()\n",
    "\n",
    "                        # Remove the individual EEG channel columns,\n",
    "                        for col in eeg_channels:\n",
    "                            del data_df[col]\n",
    "\n",
    "                        data_df = data_df[['samples', 'time', 'label']]\n",
    "                            \n",
    "                        data['data'] = data_df\n",
    "                        data['electrodes'] = eeg_channels\n",
    "             \n",
    "                        full_file_path = os.path.join(file_path, file_name)\n",
    "                        all_data[full_file_path] = data\n",
    "    \n",
    "    return all_data"
   ]
  },
  {
   "cell_type": "code",
   "execution_count": 4,
   "metadata": {
    "tags": []
   },
   "outputs": [
    {
     "output_type": "stream",
     "name": "stdout",
     "text": [
      "Loaded time-series data\n",
      "Loaded GPAC image data\n",
      "Loaded eye blinking data\n",
      "Loaded hand/eye movement data\n",
      "Loaded eye data\n"
     ]
    }
   ],
   "source": [
    "# Read all relevant data from the MATLAB files\n",
    "BASE_DATA_PATH = \"data\"\n",
    "TIME_SERIES_DATA_PATH = os.path.join(BASE_DATA_PATH, \"TimeSeries\")\n",
    "GPAC_IMAGES_DATA_PATH = os.path.join(BASE_DATA_PATH, \"GPAC_Images_Labelled\")\n",
    "EYE_BLINKING_DATA_PATH = os.path.join(BASE_DATA_PATH, \"Voluntary_Involuntary_Eye_Blinks\", \"Epochs.mat\")\n",
    "HAND_EYE_MOVEMENT_DATA_PATH = os.path.join(BASE_DATA_PATH, \"Left_Right_Hand_MI\", \"mat_data\")\n",
    "EYE_DATA_PATH = os.path.join(BASE_DATA_PATH, 'EEG_Eye_Artifacts')\n",
    "\n",
    "timeseries_data = process_timeseries_data(TIME_SERIES_DATA_PATH)\n",
    "print(\"Loaded time-series data\")\n",
    "gpac_image_data = process_gpac_image_data(GPAC_IMAGES_DATA_PATH)\n",
    "print(\"Loaded GPAC image data\")\n",
    "eye_blinking_data = process_eye_blinking_data(EYE_BLINKING_DATA_PATH)\n",
    "print(\"Loaded eye blinking data\")\n",
    "hand_eye_movement_data = process_hand_eye_movement_data(HAND_EYE_MOVEMENT_DATA_PATH)\n",
    "print(\"Loaded hand/eye movement data\")\n",
    "eye_data = process_eye_data(EYE_DATA_PATH)\n",
    "print(\"Loaded eye data\")"
   ]
  },
  {
   "cell_type": "code",
   "execution_count": 5,
   "metadata": {},
   "outputs": [],
   "source": [
    "# Get some test data to show data structure\n",
    "test_timeseries_data = next(iter(timeseries_data.values()))\n",
    "test_gpac_data = next(iter(gpac_image_data.values()))\n",
    "test_eye_blinking_data = next(iter(eye_blinking_data.values()))\n",
    "test_hand_eye_movement_data = next(iter(hand_eye_movement_data.values()))\n",
    "test_eye_data = next(iter(eye_data.values()))"
   ]
  },
  {
   "cell_type": "code",
   "execution_count": 6,
   "metadata": {},
   "outputs": [
    {
     "output_type": "stream",
     "name": "stdout",
     "text": [
      "---------- TIME SERIES DATA FORMAT ----------\n\n\nData For Training:\n"
     ]
    },
    {
     "output_type": "display_data",
     "data": {
      "text/plain": "                                                  samples      time\n0       [6.108219724308253e-05, 4.1935847751014113e-05...     0.000\n1       [6.0519399017154524e-05, 4.2618500927900726e-0...     0.002\n2       [6.742417259467301e-05, 4.1556992611811064e-05...     0.004\n3       [5.537121535626189e-05, 4.2360979111764424e-05...     0.006\n4       [5.912841684511108e-05, 4.846190553369728e-05,...     0.008\n...                                                   ...       ...\n949494  [-3.11911321717285e-05, 2.3324337114086137e-05...  1898.988\n949495  [-2.9876694427662773e-05, 2.2369713074451038e-...  1898.990\n949496  [-3.09238426711861e-05, 2.1764404072353062e-05...  1898.992\n949497  [-3.018560838381861e-05, 1.9767057467827266e-0...  1898.994\n949498  [-3.111780275691797e-05, 2.0135847751014464e-0...  1898.996\n\n[949499 rows x 2 columns]",
      "text/html": "<div>\n<style scoped>\n    .dataframe tbody tr th:only-of-type {\n        vertical-align: middle;\n    }\n\n    .dataframe tbody tr th {\n        vertical-align: top;\n    }\n\n    .dataframe thead th {\n        text-align: right;\n    }\n</style>\n<table border=\"1\" class=\"dataframe\">\n  <thead>\n    <tr style=\"text-align: right;\">\n      <th></th>\n      <th>samples</th>\n      <th>time</th>\n    </tr>\n  </thead>\n  <tbody>\n    <tr>\n      <th>0</th>\n      <td>[6.108219724308253e-05, 4.1935847751014113e-05...</td>\n      <td>0.000</td>\n    </tr>\n    <tr>\n      <th>1</th>\n      <td>[6.0519399017154524e-05, 4.2618500927900726e-0...</td>\n      <td>0.002</td>\n    </tr>\n    <tr>\n      <th>2</th>\n      <td>[6.742417259467301e-05, 4.1556992611811064e-05...</td>\n      <td>0.004</td>\n    </tr>\n    <tr>\n      <th>3</th>\n      <td>[5.537121535626189e-05, 4.2360979111764424e-05...</td>\n      <td>0.006</td>\n    </tr>\n    <tr>\n      <th>4</th>\n      <td>[5.912841684511108e-05, 4.846190553369728e-05,...</td>\n      <td>0.008</td>\n    </tr>\n    <tr>\n      <th>...</th>\n      <td>...</td>\n      <td>...</td>\n    </tr>\n    <tr>\n      <th>949494</th>\n      <td>[-3.11911321717285e-05, 2.3324337114086137e-05...</td>\n      <td>1898.988</td>\n    </tr>\n    <tr>\n      <th>949495</th>\n      <td>[-2.9876694427662773e-05, 2.2369713074451038e-...</td>\n      <td>1898.990</td>\n    </tr>\n    <tr>\n      <th>949496</th>\n      <td>[-3.09238426711861e-05, 2.1764404072353062e-05...</td>\n      <td>1898.992</td>\n    </tr>\n    <tr>\n      <th>949497</th>\n      <td>[-3.018560838381861e-05, 1.9767057467827266e-0...</td>\n      <td>1898.994</td>\n    </tr>\n    <tr>\n      <th>949498</th>\n      <td>[-3.111780275691797e-05, 2.0135847751014464e-0...</td>\n      <td>1898.996</td>\n    </tr>\n  </tbody>\n</table>\n<p>949499 rows × 2 columns</p>\n</div>"
     },
     "metadata": {}
    },
    {
     "output_type": "stream",
     "name": "stdout",
     "text": [
      "\n\nElectrode Names:\n"
     ]
    },
    {
     "output_type": "display_data",
     "data": {
      "text/plain": "array(['FP1', 'F3', 'C3', 'P3', 'O1', 'F7', 'T3', 'T5', 'F9', 'T9', 'P9',\n       'Fz', 'Cz', 'Pz', 'FP2', 'F8', 'T4', 'T6', 'O2', 'F4', 'C4', 'P4',\n       'F10', 'T10', 'P10'], dtype='<U3')"
     },
     "metadata": {}
    },
    {
     "output_type": "stream",
     "name": "stdout",
     "text": [
      "\n\nNumber of Channels Per Sample: 25\n\n\n\n---------- GPAC IMAGE DATA FORMAT ----------\n\n\nData For Training:\n"
     ]
    },
    {
     "output_type": "display_data",
     "data": {
      "text/plain": "     window_start                                                 fv  label\n0          1436.0  [0.025656345787360417, 0.032179734517346216, 0...      0\n1          2436.0  [0.025213492886223276, 0.025289140962647953, 0...      3\n2          3436.0  [0.023487781808931615, 0.01826561582104771, 0....      1\n3          4436.0  [0.06850261987711749, 0.07487524108974554, 0.0...      2\n4          5436.0  [0.028818125484047188, 0.02471954469685771, 0....      0\n..            ...                                                ...    ...\n941      942436.0  [0.02258746497266887, 0.018580595931532815, 0....     -1\n942      943436.0  [0.03575053160503277, 0.03564018155802227, 0.0...     -1\n943      944436.0  [0.030996596628728112, 0.028858710017469907, 0...     -1\n944      945436.0  [0.030891367009021852, 0.030663095755187705, 0...     -1\n945      946436.0  [0.023734211767239888, 0.02161133872695974, 0....     -1\n\n[946 rows x 3 columns]",
      "text/html": "<div>\n<style scoped>\n    .dataframe tbody tr th:only-of-type {\n        vertical-align: middle;\n    }\n\n    .dataframe tbody tr th {\n        vertical-align: top;\n    }\n\n    .dataframe thead th {\n        text-align: right;\n    }\n</style>\n<table border=\"1\" class=\"dataframe\">\n  <thead>\n    <tr style=\"text-align: right;\">\n      <th></th>\n      <th>window_start</th>\n      <th>fv</th>\n      <th>label</th>\n    </tr>\n  </thead>\n  <tbody>\n    <tr>\n      <th>0</th>\n      <td>1436.0</td>\n      <td>[0.025656345787360417, 0.032179734517346216, 0...</td>\n      <td>0</td>\n    </tr>\n    <tr>\n      <th>1</th>\n      <td>2436.0</td>\n      <td>[0.025213492886223276, 0.025289140962647953, 0...</td>\n      <td>3</td>\n    </tr>\n    <tr>\n      <th>2</th>\n      <td>3436.0</td>\n      <td>[0.023487781808931615, 0.01826561582104771, 0....</td>\n      <td>1</td>\n    </tr>\n    <tr>\n      <th>3</th>\n      <td>4436.0</td>\n      <td>[0.06850261987711749, 0.07487524108974554, 0.0...</td>\n      <td>2</td>\n    </tr>\n    <tr>\n      <th>4</th>\n      <td>5436.0</td>\n      <td>[0.028818125484047188, 0.02471954469685771, 0....</td>\n      <td>0</td>\n    </tr>\n    <tr>\n      <th>...</th>\n      <td>...</td>\n      <td>...</td>\n      <td>...</td>\n    </tr>\n    <tr>\n      <th>941</th>\n      <td>942436.0</td>\n      <td>[0.02258746497266887, 0.018580595931532815, 0....</td>\n      <td>-1</td>\n    </tr>\n    <tr>\n      <th>942</th>\n      <td>943436.0</td>\n      <td>[0.03575053160503277, 0.03564018155802227, 0.0...</td>\n      <td>-1</td>\n    </tr>\n    <tr>\n      <th>943</th>\n      <td>944436.0</td>\n      <td>[0.030996596628728112, 0.028858710017469907, 0...</td>\n      <td>-1</td>\n    </tr>\n    <tr>\n      <th>944</th>\n      <td>945436.0</td>\n      <td>[0.030891367009021852, 0.030663095755187705, 0...</td>\n      <td>-1</td>\n    </tr>\n    <tr>\n      <th>945</th>\n      <td>946436.0</td>\n      <td>[0.023734211767239888, 0.02161133872695974, 0....</td>\n      <td>-1</td>\n    </tr>\n  </tbody>\n</table>\n<p>946 rows × 3 columns</p>\n</div>"
     },
     "metadata": {}
    },
    {
     "output_type": "stream",
     "name": "stdout",
     "text": [
      "\n\nWindow Length (seconds): 2\n\n\nPhase Range Of Interest:\n"
     ]
    },
    {
     "output_type": "display_data",
     "data": {
      "text/plain": "array([ 1. ,  1.1,  1.2,  1.3,  1.4,  1.5,  1.6,  1.7,  1.8,  1.9,  2. ,\n        2.1,  2.2,  2.3,  2.4,  2.5,  2.6,  2.7,  2.8,  2.9,  3. ,  3.1,\n        3.2,  3.3,  3.4,  3.5,  3.6,  3.7,  3.8,  3.9,  4. ,  4.1,  4.2,\n        4.3,  4.4,  4.5,  4.6,  4.7,  4.8,  4.9,  5. ,  5.1,  5.2,  5.3,\n        5.4,  5.5,  5.6,  5.7,  5.8,  5.9,  6. ,  6.1,  6.2,  6.3,  6.4,\n        6.5,  6.6,  6.7,  6.8,  6.9,  7. ,  7.1,  7.2,  7.3,  7.4,  7.5,\n        7.6,  7.7,  7.8,  7.9,  8. ,  8.1,  8.2,  8.3,  8.4,  8.5,  8.6,\n        8.7,  8.8,  8.9,  9. ,  9.1,  9.2,  9.3,  9.4,  9.5,  9.6,  9.7,\n        9.8,  9.9, 10. ])"
     },
     "metadata": {}
    },
    {
     "output_type": "stream",
     "name": "stdout",
     "text": [
      "\n\nAmplitude Range Of Interest:\n"
     ]
    },
    {
     "output_type": "display_data",
     "data": {
      "text/plain": "array([ 20,  21,  22,  23,  24,  25,  26,  27,  28,  29,  30,  31,  32,\n        33,  34,  35,  36,  37,  38,  39,  40,  41,  42,  43,  44,  45,\n        46,  47,  48,  49,  50,  51,  52,  53,  54,  55,  56,  57,  58,\n        59,  60,  61,  62,  63,  64,  65,  66,  67,  68,  69,  70,  71,\n        72,  73,  74,  75,  76,  77,  78,  79,  80,  81,  82,  83,  84,\n        85,  86,  87,  88,  89,  90,  91,  92,  93,  94,  95,  96,  97,\n        98,  99, 100, 101, 102, 103, 104, 105, 106, 107, 108, 109, 110,\n       111, 112, 113, 114, 115, 116, 117, 118, 119, 120, 121, 122, 123,\n       124, 125, 126, 127, 128, 129, 130, 131, 132, 133, 134, 135, 136,\n       137, 138, 139, 140, 141, 142, 143, 144, 145, 146, 147, 148, 149,\n       150], dtype=int64)"
     },
     "metadata": {}
    },
    {
     "output_type": "stream",
     "name": "stdout",
     "text": [
      "\n\nNumber of Datapoints Per GPAC Image: 11921\n\n\n\n---------- EYE BLINKING DATA FORMAT ----------\n\n\nData For Training:\n"
     ]
    },
    {
     "output_type": "display_data",
     "data": {
      "text/plain": "                                                  samples         time  label\n0       [9.709728321448466, 11.525812172656526, 13.811...     0.000000      1\n1       [13.009598524570704, 13.692492531665714, 13.11...     0.003906      1\n2       [9.744855775183703, 11.290155037317742, 12.201...     0.007812      1\n3       [40.81332724299266, 49.899748469388484, 62.085...     0.011719      1\n4       [151.66833596629317, 157.53203247940522, 159.1...     0.015625      1\n...                                                   ...          ...    ...\n893947  [-0.07466539432252636, -0.33331168671831746, -...  3491.980469      1\n893948  [-0.7983416909075477, -0.6307943974575243, -0....  3491.984375      1\n893949  [-1.0631469307127797, -0.9587214956166292, -0....  3491.988281      1\n893950  [-0.4765436059788351, -0.570592790940478, -0.5...  3491.992188      1\n893951  [-0.3224589034947376, -0.2463593809841095, -0....  3491.996094      1\n\n[893952 rows x 3 columns]",
      "text/html": "<div>\n<style scoped>\n    .dataframe tbody tr th:only-of-type {\n        vertical-align: middle;\n    }\n\n    .dataframe tbody tr th {\n        vertical-align: top;\n    }\n\n    .dataframe thead th {\n        text-align: right;\n    }\n</style>\n<table border=\"1\" class=\"dataframe\">\n  <thead>\n    <tr style=\"text-align: right;\">\n      <th></th>\n      <th>samples</th>\n      <th>time</th>\n      <th>label</th>\n    </tr>\n  </thead>\n  <tbody>\n    <tr>\n      <th>0</th>\n      <td>[9.709728321448466, 11.525812172656526, 13.811...</td>\n      <td>0.000000</td>\n      <td>1</td>\n    </tr>\n    <tr>\n      <th>1</th>\n      <td>[13.009598524570704, 13.692492531665714, 13.11...</td>\n      <td>0.003906</td>\n      <td>1</td>\n    </tr>\n    <tr>\n      <th>2</th>\n      <td>[9.744855775183703, 11.290155037317742, 12.201...</td>\n      <td>0.007812</td>\n      <td>1</td>\n    </tr>\n    <tr>\n      <th>3</th>\n      <td>[40.81332724299266, 49.899748469388484, 62.085...</td>\n      <td>0.011719</td>\n      <td>1</td>\n    </tr>\n    <tr>\n      <th>4</th>\n      <td>[151.66833596629317, 157.53203247940522, 159.1...</td>\n      <td>0.015625</td>\n      <td>1</td>\n    </tr>\n    <tr>\n      <th>...</th>\n      <td>...</td>\n      <td>...</td>\n      <td>...</td>\n    </tr>\n    <tr>\n      <th>893947</th>\n      <td>[-0.07466539432252636, -0.33331168671831746, -...</td>\n      <td>3491.980469</td>\n      <td>1</td>\n    </tr>\n    <tr>\n      <th>893948</th>\n      <td>[-0.7983416909075477, -0.6307943974575243, -0....</td>\n      <td>3491.984375</td>\n      <td>1</td>\n    </tr>\n    <tr>\n      <th>893949</th>\n      <td>[-1.0631469307127797, -0.9587214956166292, -0....</td>\n      <td>3491.988281</td>\n      <td>1</td>\n    </tr>\n    <tr>\n      <th>893950</th>\n      <td>[-0.4765436059788351, -0.570592790940478, -0.5...</td>\n      <td>3491.992188</td>\n      <td>1</td>\n    </tr>\n    <tr>\n      <th>893951</th>\n      <td>[-0.3224589034947376, -0.2463593809841095, -0....</td>\n      <td>3491.996094</td>\n      <td>1</td>\n    </tr>\n  </tbody>\n</table>\n<p>893952 rows × 3 columns</p>\n</div>"
     },
     "metadata": {}
    },
    {
     "output_type": "stream",
     "name": "stdout",
     "text": [
      "\n\nElectrode Names:\n"
     ]
    },
    {
     "output_type": "display_data",
     "data": {
      "text/plain": "array(['FP1', 'FP2', 'F3', 'F4', 'T3', 'C3', 'Cz', 'C4', 'T4', 'P3', 'Pz',\n       'P4', 'O1', 'O2'], dtype='<U3')"
     },
     "metadata": {}
    },
    {
     "output_type": "stream",
     "name": "stdout",
     "text": [
      "\n\nNumber of Channels Per Sample: 14\n\n\n\n---------- HAND/EYE MOVEMENT DATA FORMAT ----------\n\n\nData For Training:\n"
     ]
    },
    {
     "output_type": "display_data",
     "data": {
      "text/plain": "                                                  samples        time  label\n0       [-9773.996, -168767.25, -168224.25, 393200.5, ...    0.000000      0\n1       [-9950.996, -168754.5, -168037.5, 393191.25, 4...    0.001953      0\n2       [-10090.496, -168889.75, -168162.75, 392958.0,...    0.003906      0\n3       [-9941.496, -168742.25, -168323.75, 392815.0, ...    0.005859      0\n4       [-10098.996, -168829.0, -168639.5, 392680.25, ...    0.007812      0\n...                                                   ...         ...    ...\n153595  [-13989.996, -179697.0, -179662.5, 405797.25, ...  299.990234      4\n153596  [-13865.996, -179685.0, -179708.5, 405798.0, 5...  299.992188      4\n153597  [-13569.996, -179238.75, -179500.75, 405935.0,...  299.994141      4\n153598  [-13860.496, -179459.0, -179688.5, 405858.25, ...  299.996094      4\n153599  [-13872.246, -179412.75, -179518.5, 405940.0, ...  299.998047      4\n\n[153600 rows x 3 columns]",
      "text/html": "<div>\n<style scoped>\n    .dataframe tbody tr th:only-of-type {\n        vertical-align: middle;\n    }\n\n    .dataframe tbody tr th {\n        vertical-align: top;\n    }\n\n    .dataframe thead th {\n        text-align: right;\n    }\n</style>\n<table border=\"1\" class=\"dataframe\">\n  <thead>\n    <tr style=\"text-align: right;\">\n      <th></th>\n      <th>samples</th>\n      <th>time</th>\n      <th>label</th>\n    </tr>\n  </thead>\n  <tbody>\n    <tr>\n      <th>0</th>\n      <td>[-9773.996, -168767.25, -168224.25, 393200.5, ...</td>\n      <td>0.000000</td>\n      <td>0</td>\n    </tr>\n    <tr>\n      <th>1</th>\n      <td>[-9950.996, -168754.5, -168037.5, 393191.25, 4...</td>\n      <td>0.001953</td>\n      <td>0</td>\n    </tr>\n    <tr>\n      <th>2</th>\n      <td>[-10090.496, -168889.75, -168162.75, 392958.0,...</td>\n      <td>0.003906</td>\n      <td>0</td>\n    </tr>\n    <tr>\n      <th>3</th>\n      <td>[-9941.496, -168742.25, -168323.75, 392815.0, ...</td>\n      <td>0.005859</td>\n      <td>0</td>\n    </tr>\n    <tr>\n      <th>4</th>\n      <td>[-10098.996, -168829.0, -168639.5, 392680.25, ...</td>\n      <td>0.007812</td>\n      <td>0</td>\n    </tr>\n    <tr>\n      <th>...</th>\n      <td>...</td>\n      <td>...</td>\n      <td>...</td>\n    </tr>\n    <tr>\n      <th>153595</th>\n      <td>[-13989.996, -179697.0, -179662.5, 405797.25, ...</td>\n      <td>299.990234</td>\n      <td>4</td>\n    </tr>\n    <tr>\n      <th>153596</th>\n      <td>[-13865.996, -179685.0, -179708.5, 405798.0, 5...</td>\n      <td>299.992188</td>\n      <td>4</td>\n    </tr>\n    <tr>\n      <th>153597</th>\n      <td>[-13569.996, -179238.75, -179500.75, 405935.0,...</td>\n      <td>299.994141</td>\n      <td>4</td>\n    </tr>\n    <tr>\n      <th>153598</th>\n      <td>[-13860.496, -179459.0, -179688.5, 405858.25, ...</td>\n      <td>299.996094</td>\n      <td>4</td>\n    </tr>\n    <tr>\n      <th>153599</th>\n      <td>[-13872.246, -179412.75, -179518.5, 405940.0, ...</td>\n      <td>299.998047</td>\n      <td>4</td>\n    </tr>\n  </tbody>\n</table>\n<p>153600 rows × 3 columns</p>\n</div>"
     },
     "metadata": {}
    },
    {
     "output_type": "stream",
     "name": "stdout",
     "text": [
      "\n\nNumber of Channels Per Sample: 64\n\n\n\n---------- EYE DATA FORMAT ----------\n\n\nData For Training:\n"
     ]
    },
    {
     "output_type": "display_data",
     "data": {
      "text/plain": "                                                 samples     time  label\n0      [-6.567975997924805, -6.800750255584717, -5.99...    0.000      0\n1      [1.3263161182403562, -1.3392481803894043, 1.46...    0.005      0\n2      [-3.2663574218749996, -4.810687065124512, -1.7...    0.010      0\n3      [-7.127173900604248, -14.330775260925293, -6.7...    0.015      0\n4      [-0.7186227440834045, -9.71044635772705, -4.88...    0.020      0\n...                                                  ...      ...    ...\n83195  [14.36747932434082, 15.524653434753418, 10.427...  415.975      0\n83196  [17.503890991210938, 16.9011287689209, 14.0831...  415.980      0\n83197  [21.33043098449707, 21.137893676757812, 20.868...  415.985      0\n83198  [18.068984985351562, 21.00862121582031, 21.293...  415.990      0\n83199  [19.546470642089844, 24.5158634185791, 24.9284...  415.995     -1\n\n[83200 rows x 3 columns]",
      "text/html": "<div>\n<style scoped>\n    .dataframe tbody tr th:only-of-type {\n        vertical-align: middle;\n    }\n\n    .dataframe tbody tr th {\n        vertical-align: top;\n    }\n\n    .dataframe thead th {\n        text-align: right;\n    }\n</style>\n<table border=\"1\" class=\"dataframe\">\n  <thead>\n    <tr style=\"text-align: right;\">\n      <th></th>\n      <th>samples</th>\n      <th>time</th>\n      <th>label</th>\n    </tr>\n  </thead>\n  <tbody>\n    <tr>\n      <th>0</th>\n      <td>[-6.567975997924805, -6.800750255584717, -5.99...</td>\n      <td>0.000</td>\n      <td>0</td>\n    </tr>\n    <tr>\n      <th>1</th>\n      <td>[1.3263161182403562, -1.3392481803894043, 1.46...</td>\n      <td>0.005</td>\n      <td>0</td>\n    </tr>\n    <tr>\n      <th>2</th>\n      <td>[-3.2663574218749996, -4.810687065124512, -1.7...</td>\n      <td>0.010</td>\n      <td>0</td>\n    </tr>\n    <tr>\n      <th>3</th>\n      <td>[-7.127173900604248, -14.330775260925293, -6.7...</td>\n      <td>0.015</td>\n      <td>0</td>\n    </tr>\n    <tr>\n      <th>4</th>\n      <td>[-0.7186227440834045, -9.71044635772705, -4.88...</td>\n      <td>0.020</td>\n      <td>0</td>\n    </tr>\n    <tr>\n      <th>...</th>\n      <td>...</td>\n      <td>...</td>\n      <td>...</td>\n    </tr>\n    <tr>\n      <th>83195</th>\n      <td>[14.36747932434082, 15.524653434753418, 10.427...</td>\n      <td>415.975</td>\n      <td>0</td>\n    </tr>\n    <tr>\n      <th>83196</th>\n      <td>[17.503890991210938, 16.9011287689209, 14.0831...</td>\n      <td>415.980</td>\n      <td>0</td>\n    </tr>\n    <tr>\n      <th>83197</th>\n      <td>[21.33043098449707, 21.137893676757812, 20.868...</td>\n      <td>415.985</td>\n      <td>0</td>\n    </tr>\n    <tr>\n      <th>83198</th>\n      <td>[18.068984985351562, 21.00862121582031, 21.293...</td>\n      <td>415.990</td>\n      <td>0</td>\n    </tr>\n    <tr>\n      <th>83199</th>\n      <td>[19.546470642089844, 24.5158634185791, 24.9284...</td>\n      <td>415.995</td>\n      <td>-1</td>\n    </tr>\n  </tbody>\n</table>\n<p>83200 rows × 3 columns</p>\n</div>"
     },
     "metadata": {}
    },
    {
     "output_type": "stream",
     "name": "stdout",
     "text": [
      "\n\nElectrode Names:\n"
     ]
    },
    {
     "output_type": "display_data",
     "data": {
      "text/plain": "['FPz', 'F3', 'F4', 'T7', 'C3', 'Cz', 'C4', 'T8', 'P3', 'Pz', 'P4', 'O1', 'O2']"
     },
     "metadata": {}
    },
    {
     "output_type": "stream",
     "name": "stdout",
     "text": [
      "\n\nNumber of Channels Per Sample: 13\n"
     ]
    }
   ],
   "source": [
    "# Time series data\n",
    "print(\"---------- TIME SERIES DATA FORMAT ----------\")\n",
    "\n",
    "print(\"\\n\\nData For Training:\")\n",
    "display(test_timeseries_data['data'])\n",
    "\n",
    "print(\"\\n\\nElectrode Names:\")\n",
    "display(test_timeseries_data['electrodes'])\n",
    "\n",
    "print(f\"\\n\\nNumber of Channels Per Sample: {len(test_timeseries_data['data']['samples'][0])}\")\n",
    "\n",
    "\n",
    "# GPAC image data\n",
    "print(\"\\n\\n\\n---------- GPAC IMAGE DATA FORMAT ----------\")\n",
    "\n",
    "print(\"\\n\\nData For Training:\")\n",
    "display(test_gpac_data['data'])\n",
    "\n",
    "print(f\"\\n\\nWindow Length (seconds): {test_gpac_data['window_len'].item()}\")\n",
    "\n",
    "print(\"\\n\\nPhase Range Of Interest:\")\n",
    "display(test_gpac_data['lf'])\n",
    "\n",
    "print(\"\\n\\nAmplitude Range Of Interest:\")\n",
    "display(test_gpac_data['hf'])\n",
    "\n",
    "print(f\"\\n\\nNumber of Datapoints Per GPAC Image: {len(test_gpac_data['data']['fv'][0])}\")\n",
    "\n",
    "\n",
    "# Eye blinking data\n",
    "print(\"\\n\\n\\n---------- EYE BLINKING DATA FORMAT ----------\")\n",
    "\n",
    "print(\"\\n\\nData For Training:\")\n",
    "display(test_eye_blinking_data['data'])\n",
    "\n",
    "print(\"\\n\\nElectrode Names:\")\n",
    "display(test_eye_blinking_data['electrodes'])\n",
    "\n",
    "print(f\"\\n\\nNumber of Channels Per Sample: {len(test_eye_blinking_data['data']['samples'][0])}\")\n",
    "\n",
    "\n",
    "# Hand and eye movement data\n",
    "print(\"\\n\\n\\n---------- HAND/EYE MOVEMENT DATA FORMAT ----------\")\n",
    "\n",
    "print(\"\\n\\nData For Training:\")\n",
    "display(test_hand_eye_movement_data['data'])\n",
    "\n",
    "print(f\"\\n\\nNumber of Channels Per Sample: {len(test_hand_eye_movement_data['data']['samples'][0])}\")\n",
    "\n",
    "\n",
    "# Eye data (blink + movement)\n",
    "print(\"\\n\\n\\n---------- EYE DATA FORMAT ----------\")\n",
    "\n",
    "print(\"\\n\\nData For Training:\")\n",
    "display(test_eye_data['data'])\n",
    "\n",
    "print(\"\\n\\nElectrode Names:\")\n",
    "display(test_eye_data['electrodes'])\n",
    "\n",
    "print(f\"\\n\\nNumber of Channels Per Sample: {len(test_eye_data['data']['samples'][0])}\")"
   ]
  },
  {
   "cell_type": "code",
   "execution_count": 7,
   "metadata": {},
   "outputs": [
    {
     "output_type": "stream",
     "name": "stdout",
     "text": [
      "\n\nAs seen in the GPAC Dataframe in the previous cell, the label begins at t=1436, and below you can see that change:\n"
     ]
    },
    {
     "output_type": "display_data",
     "data": {
      "text/plain": "                                                samples   time  label\n1433  [-3.918726818570923e-05, 3.1590051061025356e-0...  2.866     -1\n1434  [-2.7482217912228493e-05, 3.294411591614816e-0...  2.868     -1\n1435  [-3.871242545568842e-05, 3.251909070927831e-05...  2.870     -1\n1436  [-4.014147248365788e-05, 3.043857439682265e-05...  2.872      0\n1437  [-3.478690402970244e-05, 3.202987604497138e-05...  2.874      0\n1438  [-3.337380150125322e-05, 3.7954873986926406e-0...  2.876      0",
      "text/html": "<div>\n<style scoped>\n    .dataframe tbody tr th:only-of-type {\n        vertical-align: middle;\n    }\n\n    .dataframe tbody tr th {\n        vertical-align: top;\n    }\n\n    .dataframe thead th {\n        text-align: right;\n    }\n</style>\n<table border=\"1\" class=\"dataframe\">\n  <thead>\n    <tr style=\"text-align: right;\">\n      <th></th>\n      <th>samples</th>\n      <th>time</th>\n      <th>label</th>\n    </tr>\n  </thead>\n  <tbody>\n    <tr>\n      <th>1433</th>\n      <td>[-3.918726818570923e-05, 3.1590051061025356e-0...</td>\n      <td>2.866</td>\n      <td>-1</td>\n    </tr>\n    <tr>\n      <th>1434</th>\n      <td>[-2.7482217912228493e-05, 3.294411591614816e-0...</td>\n      <td>2.868</td>\n      <td>-1</td>\n    </tr>\n    <tr>\n      <th>1435</th>\n      <td>[-3.871242545568842e-05, 3.251909070927831e-05...</td>\n      <td>2.870</td>\n      <td>-1</td>\n    </tr>\n    <tr>\n      <th>1436</th>\n      <td>[-4.014147248365788e-05, 3.043857439682265e-05...</td>\n      <td>2.872</td>\n      <td>0</td>\n    </tr>\n    <tr>\n      <th>1437</th>\n      <td>[-3.478690402970244e-05, 3.202987604497138e-05...</td>\n      <td>2.874</td>\n      <td>0</td>\n    </tr>\n    <tr>\n      <th>1438</th>\n      <td>[-3.337380150125322e-05, 3.7954873986926406e-0...</td>\n      <td>2.876</td>\n      <td>0</td>\n    </tr>\n  </tbody>\n</table>\n</div>"
     },
     "metadata": {}
    },
    {
     "output_type": "stream",
     "name": "stdout",
     "text": [
      "\n\nSimilarly, the second label begins at t=2436, and below you can see that change:\n"
     ]
    },
    {
     "output_type": "display_data",
     "data": {
      "text/plain": "                                                samples   time  label\n2433  [6.336374464748228e-05, 6.706071296848414e-05,...  4.866      0\n2434  [5.307997547277073e-05, 6.623601097400111e-05,...  4.868      0\n2435  [5.416560886950276e-05, 6.953586163041345e-05,...  4.870      0\n2436  [6.708489008597993e-05, 7.019486785538814e-05,...  4.872      3\n2437  [7.915946937218587e-05, 7.136690139654629e-05,...  4.874      3\n2438  [7.392872574665033e-05, 7.387425424376896e-05,...  4.876      3",
      "text/html": "<div>\n<style scoped>\n    .dataframe tbody tr th:only-of-type {\n        vertical-align: middle;\n    }\n\n    .dataframe tbody tr th {\n        vertical-align: top;\n    }\n\n    .dataframe thead th {\n        text-align: right;\n    }\n</style>\n<table border=\"1\" class=\"dataframe\">\n  <thead>\n    <tr style=\"text-align: right;\">\n      <th></th>\n      <th>samples</th>\n      <th>time</th>\n      <th>label</th>\n    </tr>\n  </thead>\n  <tbody>\n    <tr>\n      <th>2433</th>\n      <td>[6.336374464748228e-05, 6.706071296848414e-05,...</td>\n      <td>4.866</td>\n      <td>0</td>\n    </tr>\n    <tr>\n      <th>2434</th>\n      <td>[5.307997547277073e-05, 6.623601097400111e-05,...</td>\n      <td>4.868</td>\n      <td>0</td>\n    </tr>\n    <tr>\n      <th>2435</th>\n      <td>[5.416560886950276e-05, 6.953586163041345e-05,...</td>\n      <td>4.870</td>\n      <td>0</td>\n    </tr>\n    <tr>\n      <th>2436</th>\n      <td>[6.708489008597993e-05, 7.019486785538814e-05,...</td>\n      <td>4.872</td>\n      <td>3</td>\n    </tr>\n    <tr>\n      <th>2437</th>\n      <td>[7.915946937218587e-05, 7.136690139654629e-05,...</td>\n      <td>4.874</td>\n      <td>3</td>\n    </tr>\n    <tr>\n      <th>2438</th>\n      <td>[7.392872574665033e-05, 7.387425424376896e-05,...</td>\n      <td>4.876</td>\n      <td>3</td>\n    </tr>\n  </tbody>\n</table>\n</div>"
     },
     "metadata": {}
    },
    {
     "output_type": "stream",
     "name": "stdout",
     "text": [
      "\n\nLabel value statistics of the time-series data:\n-1    889499\n 3     15000\n 2     15000\n 1     15000\n 0     15000\nName: label, dtype: int64\n\n\nLabel value statistics of the GPAC data:\n-1    886\n 3     15\n 2     15\n 1     15\n 0     15\nName: label, dtype: int64\n"
     ]
    }
   ],
   "source": [
    "def label_time_series(all_time_series, all_gpac, gpac_data_path):\n",
    "    \"\"\"\n",
    "    Fucntion that will translate the labels from the GPAC Dataframe to the Time-Series DataFrame \n",
    "    \"\"\"\n",
    "    labelled_time_series = {}\n",
    "\n",
    "    for file_path, time_series in all_time_series.items():\n",
    "        gpac = all_gpac[os.path.join(gpac_data_path, os.path.basename(file_path))] \n",
    "\n",
    "        # Initial label value for all rows in the time_series\n",
    "        time_series['data']['label'] = LABELS[NO_LABEL]\n",
    "\n",
    "        # Iterate through the GPAC rows to obtain the window value and the label \n",
    "        for index, row in gpac['data'].iterrows():\n",
    "            window_start = int(row['window_start'])\n",
    "            label_value = row['label']\n",
    "            \n",
    "            # Set the 'label' value for the time series Dataframe\n",
    "            # Add 1000 to window_start because in time_series it is separated by intervals of 0.002 s.\n",
    "            # 1 window size = 2s, 2 / 0.002 = 1000 rows \n",
    "            time_series['data'].loc[window_start : window_start+1000, 'label'] = label_value\n",
    "        \n",
    "        labelled_time_series[file_path] = time_series\n",
    "    \n",
    "    return labelled_time_series\n",
    "    \n",
    "timeseries_data_labelled = label_time_series(timeseries_data, gpac_image_data, GPAC_IMAGES_DATA_PATH)\n",
    "test_timeseries_data_labelled = next(iter(timeseries_data_labelled.values()))\n",
    "\n",
    "print(\"\\n\\nAs seen in the GPAC Dataframe in the previous cell, the label begins at t=1436, and below you can see that change:\")\n",
    "display(test_timeseries_data_labelled['data'].iloc[1433:1439])\n",
    "\n",
    "print(\"\\n\\nSimilarly, the second label begins at t=2436, and below you can see that change:\")\n",
    "display(test_timeseries_data_labelled['data'].iloc[2433:2439])\n",
    "\n",
    "print(\"\\n\\nLabel value statistics of the time-series data:\")\n",
    "print(test_timeseries_data_labelled['data']['label'].value_counts())\n",
    "\n",
    "print(\"\\n\\nLabel value statistics of the GPAC data:\")\n",
    "print(test_gpac_data['data']['label'].value_counts())"
   ]
  },
  {
   "cell_type": "code",
   "execution_count": 8,
   "metadata": {
    "tags": []
   },
   "outputs": [
    {
     "output_type": "stream",
     "name": "stdout",
     "text": [
      "Amount of Data Per Label\n------------------------\nNo Label: 16080.795s\nBaseline: 12179.812s\nBlink: 4546.257s\nElectrode Movement: 510.002s\nHand Movement: 6750.000s\nEye Movement: 4513.410s\n"
     ]
    }
   ],
   "source": [
    "# Determines time in seconds of each type of label\n",
    "def update_seconds_counts(df):\n",
    "    sample_rate_inv = df['data']['time'][1] - df['data']['time'][0]\n",
    "\n",
    "    # Count number of rows of each label in the data, then get\n",
    "    # number of seconds by dividing by the sample rate.\n",
    "    counts = df['data'].groupby('label').size()\n",
    "    for label in counts.index:\n",
    "        seconds_counts[label] += counts[label] * sample_rate_inv\n",
    "\n",
    "datasets = [\n",
    "    timeseries_data_labelled,\n",
    "    eye_blinking_data,\n",
    "    hand_eye_movement_data,\n",
    "    eye_data\n",
    "]\n",
    "\n",
    "seconds_counts = { label: 0 for label in LABEL_NAMES.keys() }\n",
    "\n",
    "for dataset in datasets:\n",
    "    for file_path, data in dataset.items():\n",
    "        update_seconds_counts(data)\n",
    "\n",
    "print(\"Amount of Data Per Label\")\n",
    "print(\"------------------------\")\n",
    "for label, seconds in seconds_counts.items():\n",
    "    print(f\"{LABEL_NAMES[label]}: {seconds_counts[label]:.3f}s\")"
   ]
  },
  {
   "cell_type": "markdown",
   "metadata": {},
   "source": [
    "## Part 2: Data Transform"
   ]
  },
  {
   "cell_type": "code",
   "execution_count": 9,
   "metadata": {},
   "outputs": [],
   "source": [
    "import numpy as np\n",
    "import pywt\n",
    "import scipy\n",
    "\n",
    "def do_cwt(X,freq,fs,wavename = 'cmor5-0.8125'):\n",
    "    \"\"\"Computes complex wavelet transform for EEG data\n",
    "\n",
    "    Parameters\n",
    "    ----------\n",
    "    X : input data\n",
    "    freq : input frequency range eg. 0.25:0.25:50\n",
    "    fs : sampling frequency\n",
    "    wavename : The default is 'cmor5-0.8125'.\n",
    "\n",
    "    Returns\n",
    "    -------\n",
    "    cwt complex coefficients\n",
    "    frequency range\n",
    "    time\n",
    "    \"\"\"\n",
    "    T = 1.0/fs\n",
    "    t = np.arange(0,len(X)*T,T)\n",
    "    a_coef = pywt.centrfrq(wavename)* (1.0/(freq*T))\n",
    "    \n",
    "    # calculate the wavelet coefficients (distance x frequency x time)\n",
    "    cwt_c = pywt.cwt(X,a_coef,wavename, method='fft')\n",
    "    return cwt_c[0], freq, t\n",
    "\n",
    "def get_all_cwts(X, lf, hf, fs, wavename='cmor5-0.8125'):\n",
    "    n_samples, n_channels = X.shape\n",
    "    rCWT_lf = np.zeros((n_channels, np.size(lf), n_samples), dtype=complex)\n",
    "    rCWT_hf = np.zeros((n_channels, np.size(hf), n_samples), dtype=complex)\n",
    "\n",
    "    for signal in range(n_channels):\n",
    "        data_compute = X[:, signal]\n",
    "        rCWT_lf[signal, :, :], _, _ = do_cwt(data_compute, lf, fs, 'cmor6-0.8125')\n",
    "        rCWT_hf[signal, :, :], _, _ = do_cwt(data_compute, hf, fs, 'cmor6-0.8125')\n",
    "    \n",
    "    return rCWT_lf, rCWT_hf\n",
    "\n",
    "def do_cwt_scipy(X, freq, fs, w=0.8125):\n",
    "    \"\"\"Computes complex wavelet transform for EEG data\n",
    "\n",
    "    Parameters\n",
    "    ----------\n",
    "    X : input data\n",
    "    freq : input frequency range eg. 0.25:0.25:50\n",
    "    fs : sampling frequency\n",
    "    wavename : The default is 'cmor5-0.8125'.\n",
    "\n",
    "    Returns\n",
    "    -------\n",
    "    cwt complex coefficients\n",
    "    frequency range\n",
    "    time\n",
    "    \"\"\"\n",
    "    T = 1.0/fs\n",
    "    t = np.arange(0,len(X)*T,T)\n",
    "    widths = w*fs / (2*freq*np.pi)\n",
    "\n",
    "    # calculate the wavelet coefficients (distance x frequency x time)\n",
    "    print(scipy.__version__)\n",
    "    cwt_c = scipy.signal.cwt(X, scipy.signal.morlet2, widths, dtype=np.complex128, w=w)\n",
    "    return cwt_c, freq, t\n",
    "\n",
    "def do_tort_pac(c1,c2,N=18):\n",
    "    \"\"\"Computes phase-amplitude coupling index based on Tort's algorithm\n",
    "\n",
    "    Parameters\n",
    "    ----------\n",
    "    c1 : cwt coefficients for phase frequencies\n",
    "    c2 : cwt coefficients for amplitude frequencies\n",
    "    N : number of phase bins\n",
    "\n",
    "    Returns\n",
    "    -------\n",
    "    PAC - Phase-Amplitude Coupling Index.\n",
    "\n",
    "    \"\"\"\n",
    "    nphase = c1.shape[0]\n",
    "    namplitude = c2.shape[0]\n",
    "    amp = np.abs(c2)\n",
    "    phi = np.arctan2(np.imag(c1),np.real(c1)) + np.pi\n",
    "    PAC=np.empty([namplitude,nphase])\n",
    "    # for idx1 in tqdm(np.arange(nphase)): # TQDM slows down code\n",
    "    for idx1 in np.arange(nphase):\n",
    "        for idx2 in np.arange(namplitude):\n",
    "            phase = phi[idx1,:]\n",
    "            amplitude = amp[idx2,:]\n",
    "            rng = 2*np.pi/N\n",
    "            Afa = np.zeros([N,1])\n",
    "            for idx3 in np.arange(N):\n",
    "                ST = (idx3)*rng\n",
    "                ET = (idx3+1)*rng\n",
    "                Afa[idx3] = np.mean(amplitude[np.argwhere(np.logical_and(phase>ST, phase<=ET)==True)])\n",
    "            p = Afa/np.sum(Afa)\n",
    "            H = -np.sum(p*np.log(p))\n",
    "            PAC[idx2,idx1] = (np.log(N) - H)/np.log(N)\n",
    "    PAC.shape\n",
    "    PAC[np.isnan(PAC)] = 1\n",
    "    return PAC\n",
    "\n",
    "\n",
    "def do_tort_pac_gpu_cupy_complete_vectorized(c1,c2,N=18):\n",
    "    \"\"\"\n",
    "    Computes PAC coupling index using CuPy\n",
    "\n",
    "    Parameters\n",
    "    ----------\n",
    "    c1 : cwt coefficients for phase frequencies, num_channels x num_phase x num_samples\n",
    "    c2 : cwt coefficients for amplitude frequencies, num_channels x num_amps x num_samples\n",
    "    N : number of phase bins\n",
    "\n",
    "    Returns\n",
    "    -------\n",
    "    PAC - Phase-Amplitude Coupling Index of all channels\n",
    "    \"\"\"\n",
    "\n",
    "    c1 = cp.asarray(c1)\n",
    "    c2 = cp.asarray(c2)\n",
    "    bin_ranges = cp.linspace(0, 2*cp.pi, N + 1)\n",
    "    n_signals = c1.shape[0] # Number of channels\n",
    "    n_samples = c1.shape[2] # Length of signal\n",
    "    n_phases = c1.shape[1] # Number of frequencies of phase signal\n",
    "    n_amps = c2.shape[1] # Number of frequencies of amplitude signal\n",
    "\n",
    "    # Compute phases and amplitudes of coefficients\n",
    "    phase_values = np.tile(cp.angle(c1) + cp.pi, (N, 1, 1, 1)) # num_channels x num_phase x num_samples x N\n",
    "    amp_values = np.tile(cp.absolute(c2), (N, 1, 1, 1)) # num_channels x num_amps x num_samples x N\n",
    "    bin_range_1 = bin_ranges[:-1].reshape(N, 1, 1, 1) # Left side of ranges\n",
    "    bin_range_2 = bin_ranges[1:].reshape(N, 1, 1, 1) # Right side of ranges\n",
    "\n",
    "    # Bin amplitudes based on phase\n",
    "    all_phase_amps = cp.zeros((N, n_signals, n_phases, n_amps)) # num_channels x num_bins x num_phases x num_amps\n",
    "    curr_value = cp.zeros((N, n_signals, n_phases, n_samples)) # Hold binary values of whether phases is in bins, num_channels x num_phase x num_samples\n",
    "    curr_value[(phase_values > bin_range_1) & (phase_values < bin_range_2)] = 1\n",
    "    all_phase_amps = cp.einsum('ijkl,ijlm->ijkm', curr_value, cp.transpose(amp_values, (0, 1, 3, 2)))\n",
    "\n",
    "    # Calculate modulation indices\n",
    "    PAC = cp.zeros((n_signals, n_phases, n_amps))\n",
    "    all_phase_amps = all_phase_amps / cp.sum(all_phase_amps, 0).reshape(1, n_signals, n_phases, n_amps)\n",
    "    all_entropies = -cp.sum(all_phase_amps * cp.log(all_phase_amps), 0) # num_channels x num_phase x num_samples\n",
    "    all_entropies[cp.isnan(all_entropies)] = 0\n",
    "    PAC = (cp.log(N) - all_entropies) / cp.log(N)\n",
    "\n",
    "    return cp.asnumpy(PAC)\n",
    "\n",
    "def do_tort_pac_numpy(c1,c2,N=18):\n",
    "    \"\"\"\n",
    "    Computes PAC coupling index using Numpy\n",
    "\n",
    "    Parameters\n",
    "    ----------\n",
    "    c1 : cwt coefficients for phase frequencies, num_channels x num_phase x num_samples\n",
    "    c2 : cwt coefficients for amplitude frequencies, num_channels x num_amps x num_samples\n",
    "    N : number of phase bins\n",
    "\n",
    "    Returns\n",
    "    -------\n",
    "    PAC - Phase-Amplitude Coupling Index of all channels\n",
    "    \"\"\"\n",
    "    bin_ranges = np.linspace(0, 2*np.pi, N + 1)\n",
    "    n_signals = c1.shape[0] # Number of channels\n",
    "    n_samples = c1.shape[2] # Length of signal\n",
    "    n_phases = c1.shape[1] # Number of frequencies of phase signal\n",
    "    n_amps = c2.shape[1] # Number of frequencies of amplitude signal\n",
    "\n",
    "    # Compute phases and amplitudes of coefficients\n",
    "    phase_value = np.angle(c1) + np.pi # num_channels x num_phase x num_samples\n",
    "    amp_values = np.absolute(c2) # num_channels x num_amps x num_samples\n",
    "\n",
    "    # Bin amplitudes based on phase\n",
    "    all_phase_amps = np.zeros((n_signals, n_phases, n_amps, N)) # num_channels x num_phases x num_amps x num_bins\n",
    "    for b in range(N): # Iterate through each bin\n",
    "        # Hold binary values of whether a phase in in the current bin, num_channels x num_phase x num_samples\n",
    "        curr_value = np.zeros((n_signals, n_phases, n_samples))\n",
    "        curr_value[(phase_value > bin_ranges[b]) & (phase_value < bin_ranges[b + 1])] = 1\n",
    "        all_phase_amps[..., b] = np.einsum('ijk,ikl->ijl', curr_value, np.transpose(amp_values, (0, 2, 1)))\n",
    "\n",
    "    # Calculate modulation indices\n",
    "    PAC = np.zeros((n_signals, n_phases, n_amps))\n",
    "    all_phase_amps = all_phase_amps / np.sum(all_phase_amps, 3).reshape(n_signals, n_phases, n_amps, 1)\n",
    "    all_entropies = -np.sum(all_phase_amps * np.log(all_phase_amps), 3) # num_channels x num_phase x num_samples\n",
    "    all_entropies[np.isnan(all_entropies)] = 0\n",
    "    PAC = (np.log(N) - all_entropies) / np.log(N)\n",
    "\n",
    "    return PAC\n",
    "\n",
    "#print(f'Time elapsed: {((time.time()-t)/60)} mins.')"
   ]
  },
  {
   "cell_type": "code",
   "execution_count": 10,
   "metadata": {},
   "outputs": [
    {
     "output_type": "error",
     "ename": "KeyboardInterrupt",
     "evalue": "",
     "traceback": [
      "\u001b[1;31m---------------------------------------------------------------------------\u001b[0m",
      "\u001b[1;31mKeyboardInterrupt\u001b[0m                         Traceback (most recent call last)",
      "\u001b[1;32m<ipython-input-10-2822a7e50d09>\u001b[0m in \u001b[0;36m<module>\u001b[1;34m\u001b[0m\n\u001b[0;32m     34\u001b[0m                 \u001b[0mplt\u001b[0m\u001b[1;33m.\u001b[0m\u001b[0msavefig\u001b[0m\u001b[1;33m(\u001b[0m\u001b[0mos\u001b[0m\u001b[1;33m.\u001b[0m\u001b[0mpath\u001b[0m\u001b[1;33m.\u001b[0m\u001b[0mjoin\u001b[0m\u001b[1;33m(\u001b[0m\u001b[0mfolder_greyscale_image_dir\u001b[0m\u001b[1;33m,\u001b[0m \u001b[0mos\u001b[0m\u001b[1;33m.\u001b[0m\u001b[0mpath\u001b[0m\u001b[1;33m.\u001b[0m\u001b[0mbasename\u001b[0m\u001b[1;33m(\u001b[0m\u001b[0mfile\u001b[0m\u001b[1;33m)\u001b[0m \u001b[1;33m+\u001b[0m \u001b[1;34mf'{i}.png'\u001b[0m\u001b[1;33m)\u001b[0m\u001b[1;33m,\u001b[0m \u001b[0mbbox_inches\u001b[0m\u001b[1;33m=\u001b[0m\u001b[1;34m'tight'\u001b[0m\u001b[1;33m,\u001b[0m \u001b[0mpad_inches\u001b[0m\u001b[1;33m=\u001b[0m\u001b[1;36m0\u001b[0m\u001b[1;33m)\u001b[0m\u001b[1;33m\u001b[0m\u001b[1;33m\u001b[0m\u001b[0m\n\u001b[0;32m     35\u001b[0m \u001b[1;33m\u001b[0m\u001b[0m\n\u001b[1;32m---> 36\u001b[1;33m \u001b[0mgenerateTrainingImages\u001b[0m\u001b[1;33m(\u001b[0m\u001b[0mgpac_image_data\u001b[0m\u001b[1;33m)\u001b[0m\u001b[1;33m\u001b[0m\u001b[1;33m\u001b[0m\u001b[0m\n\u001b[0m",
      "\u001b[1;32m<ipython-input-10-2822a7e50d09>\u001b[0m in \u001b[0;36mgenerateTrainingImages\u001b[1;34m(gpacData)\u001b[0m\n\u001b[0;32m     32\u001b[0m                 \u001b[0mplt\u001b[0m\u001b[1;33m.\u001b[0m\u001b[0msavefig\u001b[0m\u001b[1;33m(\u001b[0m\u001b[0mos\u001b[0m\u001b[1;33m.\u001b[0m\u001b[0mpath\u001b[0m\u001b[1;33m.\u001b[0m\u001b[0mjoin\u001b[0m\u001b[1;33m(\u001b[0m\u001b[0mfolder_image_dir\u001b[0m\u001b[1;33m,\u001b[0m \u001b[0mos\u001b[0m\u001b[1;33m.\u001b[0m\u001b[0mpath\u001b[0m\u001b[1;33m.\u001b[0m\u001b[0mbasename\u001b[0m\u001b[1;33m(\u001b[0m\u001b[0mfile\u001b[0m\u001b[1;33m)\u001b[0m \u001b[1;33m+\u001b[0m \u001b[1;34mf'{i}.png'\u001b[0m\u001b[1;33m)\u001b[0m\u001b[1;33m,\u001b[0m \u001b[0mbbox_inches\u001b[0m\u001b[1;33m=\u001b[0m\u001b[1;34m'tight'\u001b[0m\u001b[1;33m,\u001b[0m \u001b[0mpad_inches\u001b[0m\u001b[1;33m=\u001b[0m\u001b[1;36m0\u001b[0m\u001b[1;33m)\u001b[0m\u001b[1;33m\u001b[0m\u001b[1;33m\u001b[0m\u001b[0m\n\u001b[0;32m     33\u001b[0m                 \u001b[0mplt\u001b[0m\u001b[1;33m.\u001b[0m\u001b[0mimshow\u001b[0m\u001b[1;33m(\u001b[0m\u001b[0mgpac_img\u001b[0m\u001b[1;33m,\u001b[0m \u001b[0mcmap\u001b[0m\u001b[1;33m=\u001b[0m\u001b[1;34m'gray'\u001b[0m\u001b[1;33m)\u001b[0m\u001b[1;33m\u001b[0m\u001b[1;33m\u001b[0m\u001b[0m\n\u001b[1;32m---> 34\u001b[1;33m                 \u001b[0mplt\u001b[0m\u001b[1;33m.\u001b[0m\u001b[0msavefig\u001b[0m\u001b[1;33m(\u001b[0m\u001b[0mos\u001b[0m\u001b[1;33m.\u001b[0m\u001b[0mpath\u001b[0m\u001b[1;33m.\u001b[0m\u001b[0mjoin\u001b[0m\u001b[1;33m(\u001b[0m\u001b[0mfolder_greyscale_image_dir\u001b[0m\u001b[1;33m,\u001b[0m \u001b[0mos\u001b[0m\u001b[1;33m.\u001b[0m\u001b[0mpath\u001b[0m\u001b[1;33m.\u001b[0m\u001b[0mbasename\u001b[0m\u001b[1;33m(\u001b[0m\u001b[0mfile\u001b[0m\u001b[1;33m)\u001b[0m \u001b[1;33m+\u001b[0m \u001b[1;34mf'{i}.png'\u001b[0m\u001b[1;33m)\u001b[0m\u001b[1;33m,\u001b[0m \u001b[0mbbox_inches\u001b[0m\u001b[1;33m=\u001b[0m\u001b[1;34m'tight'\u001b[0m\u001b[1;33m,\u001b[0m \u001b[0mpad_inches\u001b[0m\u001b[1;33m=\u001b[0m\u001b[1;36m0\u001b[0m\u001b[1;33m)\u001b[0m\u001b[1;33m\u001b[0m\u001b[1;33m\u001b[0m\u001b[0m\n\u001b[0m\u001b[0;32m     35\u001b[0m \u001b[1;33m\u001b[0m\u001b[0m\n\u001b[0;32m     36\u001b[0m \u001b[0mgenerateTrainingImages\u001b[0m\u001b[1;33m(\u001b[0m\u001b[0mgpac_image_data\u001b[0m\u001b[1;33m)\u001b[0m\u001b[1;33m\u001b[0m\u001b[1;33m\u001b[0m\u001b[0m\n",
      "\u001b[1;32mc:\\Users\\elian\\Documents\\Documents\\Programs\\University\\ECE496_Capstone\\venv\\lib\\site-packages\\matplotlib\\pyplot.py\u001b[0m in \u001b[0;36msavefig\u001b[1;34m(*args, **kwargs)\u001b[0m\n\u001b[0;32m    857\u001b[0m \u001b[1;32mdef\u001b[0m \u001b[0msavefig\u001b[0m\u001b[1;33m(\u001b[0m\u001b[1;33m*\u001b[0m\u001b[0margs\u001b[0m\u001b[1;33m,\u001b[0m \u001b[1;33m**\u001b[0m\u001b[0mkwargs\u001b[0m\u001b[1;33m)\u001b[0m\u001b[1;33m:\u001b[0m\u001b[1;33m\u001b[0m\u001b[1;33m\u001b[0m\u001b[0m\n\u001b[0;32m    858\u001b[0m     \u001b[0mfig\u001b[0m \u001b[1;33m=\u001b[0m \u001b[0mgcf\u001b[0m\u001b[1;33m(\u001b[0m\u001b[1;33m)\u001b[0m\u001b[1;33m\u001b[0m\u001b[1;33m\u001b[0m\u001b[0m\n\u001b[1;32m--> 859\u001b[1;33m     \u001b[0mres\u001b[0m \u001b[1;33m=\u001b[0m \u001b[0mfig\u001b[0m\u001b[1;33m.\u001b[0m\u001b[0msavefig\u001b[0m\u001b[1;33m(\u001b[0m\u001b[1;33m*\u001b[0m\u001b[0margs\u001b[0m\u001b[1;33m,\u001b[0m \u001b[1;33m**\u001b[0m\u001b[0mkwargs\u001b[0m\u001b[1;33m)\u001b[0m\u001b[1;33m\u001b[0m\u001b[1;33m\u001b[0m\u001b[0m\n\u001b[0m\u001b[0;32m    860\u001b[0m     \u001b[0mfig\u001b[0m\u001b[1;33m.\u001b[0m\u001b[0mcanvas\u001b[0m\u001b[1;33m.\u001b[0m\u001b[0mdraw_idle\u001b[0m\u001b[1;33m(\u001b[0m\u001b[1;33m)\u001b[0m   \u001b[1;31m# need this if 'transparent=True' to reset colors\u001b[0m\u001b[1;33m\u001b[0m\u001b[1;33m\u001b[0m\u001b[0m\n\u001b[0;32m    861\u001b[0m     \u001b[1;32mreturn\u001b[0m \u001b[0mres\u001b[0m\u001b[1;33m\u001b[0m\u001b[1;33m\u001b[0m\u001b[0m\n",
      "\u001b[1;32mc:\\Users\\elian\\Documents\\Documents\\Programs\\University\\ECE496_Capstone\\venv\\lib\\site-packages\\matplotlib\\figure.py\u001b[0m in \u001b[0;36msavefig\u001b[1;34m(self, fname, transparent, **kwargs)\u001b[0m\n\u001b[0;32m   2309\u001b[0m                 \u001b[0mpatch\u001b[0m\u001b[1;33m.\u001b[0m\u001b[0mset_edgecolor\u001b[0m\u001b[1;33m(\u001b[0m\u001b[1;34m'none'\u001b[0m\u001b[1;33m)\u001b[0m\u001b[1;33m\u001b[0m\u001b[1;33m\u001b[0m\u001b[0m\n\u001b[0;32m   2310\u001b[0m \u001b[1;33m\u001b[0m\u001b[0m\n\u001b[1;32m-> 2311\u001b[1;33m         \u001b[0mself\u001b[0m\u001b[1;33m.\u001b[0m\u001b[0mcanvas\u001b[0m\u001b[1;33m.\u001b[0m\u001b[0mprint_figure\u001b[0m\u001b[1;33m(\u001b[0m\u001b[0mfname\u001b[0m\u001b[1;33m,\u001b[0m \u001b[1;33m**\u001b[0m\u001b[0mkwargs\u001b[0m\u001b[1;33m)\u001b[0m\u001b[1;33m\u001b[0m\u001b[1;33m\u001b[0m\u001b[0m\n\u001b[0m\u001b[0;32m   2312\u001b[0m \u001b[1;33m\u001b[0m\u001b[0m\n\u001b[0;32m   2313\u001b[0m         \u001b[1;32mif\u001b[0m \u001b[0mtransparent\u001b[0m\u001b[1;33m:\u001b[0m\u001b[1;33m\u001b[0m\u001b[1;33m\u001b[0m\u001b[0m\n",
      "\u001b[1;32mc:\\Users\\elian\\Documents\\Documents\\Programs\\University\\ECE496_Capstone\\venv\\lib\\site-packages\\matplotlib\\backend_bases.py\u001b[0m in \u001b[0;36mprint_figure\u001b[1;34m(self, filename, dpi, facecolor, edgecolor, orientation, format, bbox_inches, pad_inches, bbox_extra_artists, backend, **kwargs)\u001b[0m\n\u001b[0;32m   2191\u001b[0m                            else suppress())\n\u001b[0;32m   2192\u001b[0m                     \u001b[1;32mwith\u001b[0m \u001b[0mctx\u001b[0m\u001b[1;33m:\u001b[0m\u001b[1;33m\u001b[0m\u001b[1;33m\u001b[0m\u001b[0m\n\u001b[1;32m-> 2193\u001b[1;33m                         \u001b[0mself\u001b[0m\u001b[1;33m.\u001b[0m\u001b[0mfigure\u001b[0m\u001b[1;33m.\u001b[0m\u001b[0mdraw\u001b[0m\u001b[1;33m(\u001b[0m\u001b[0mrenderer\u001b[0m\u001b[1;33m)\u001b[0m\u001b[1;33m\u001b[0m\u001b[1;33m\u001b[0m\u001b[0m\n\u001b[0m\u001b[0;32m   2194\u001b[0m \u001b[1;33m\u001b[0m\u001b[0m\n\u001b[0;32m   2195\u001b[0m                     bbox_inches = self.figure.get_tightbbox(\n",
      "\u001b[1;32mc:\\Users\\elian\\Documents\\Documents\\Programs\\University\\ECE496_Capstone\\venv\\lib\\site-packages\\matplotlib\\artist.py\u001b[0m in \u001b[0;36mdraw_wrapper\u001b[1;34m(artist, renderer, *args, **kwargs)\u001b[0m\n\u001b[0;32m     39\u001b[0m                 \u001b[0mrenderer\u001b[0m\u001b[1;33m.\u001b[0m\u001b[0mstart_filter\u001b[0m\u001b[1;33m(\u001b[0m\u001b[1;33m)\u001b[0m\u001b[1;33m\u001b[0m\u001b[1;33m\u001b[0m\u001b[0m\n\u001b[0;32m     40\u001b[0m \u001b[1;33m\u001b[0m\u001b[0m\n\u001b[1;32m---> 41\u001b[1;33m             \u001b[1;32mreturn\u001b[0m \u001b[0mdraw\u001b[0m\u001b[1;33m(\u001b[0m\u001b[0martist\u001b[0m\u001b[1;33m,\u001b[0m \u001b[0mrenderer\u001b[0m\u001b[1;33m,\u001b[0m \u001b[1;33m*\u001b[0m\u001b[0margs\u001b[0m\u001b[1;33m,\u001b[0m \u001b[1;33m**\u001b[0m\u001b[0mkwargs\u001b[0m\u001b[1;33m)\u001b[0m\u001b[1;33m\u001b[0m\u001b[1;33m\u001b[0m\u001b[0m\n\u001b[0m\u001b[0;32m     42\u001b[0m         \u001b[1;32mfinally\u001b[0m\u001b[1;33m:\u001b[0m\u001b[1;33m\u001b[0m\u001b[1;33m\u001b[0m\u001b[0m\n\u001b[0;32m     43\u001b[0m             \u001b[1;32mif\u001b[0m \u001b[0martist\u001b[0m\u001b[1;33m.\u001b[0m\u001b[0mget_agg_filter\u001b[0m\u001b[1;33m(\u001b[0m\u001b[1;33m)\u001b[0m \u001b[1;32mis\u001b[0m \u001b[1;32mnot\u001b[0m \u001b[1;32mNone\u001b[0m\u001b[1;33m:\u001b[0m\u001b[1;33m\u001b[0m\u001b[1;33m\u001b[0m\u001b[0m\n",
      "\u001b[1;32mc:\\Users\\elian\\Documents\\Documents\\Programs\\University\\ECE496_Capstone\\venv\\lib\\site-packages\\matplotlib\\figure.py\u001b[0m in \u001b[0;36mdraw\u001b[1;34m(self, renderer)\u001b[0m\n\u001b[0;32m   1861\u001b[0m \u001b[1;33m\u001b[0m\u001b[0m\n\u001b[0;32m   1862\u001b[0m             \u001b[0mself\u001b[0m\u001b[1;33m.\u001b[0m\u001b[0mpatch\u001b[0m\u001b[1;33m.\u001b[0m\u001b[0mdraw\u001b[0m\u001b[1;33m(\u001b[0m\u001b[0mrenderer\u001b[0m\u001b[1;33m)\u001b[0m\u001b[1;33m\u001b[0m\u001b[1;33m\u001b[0m\u001b[0m\n\u001b[1;32m-> 1863\u001b[1;33m             mimage._draw_list_compositing_images(\n\u001b[0m\u001b[0;32m   1864\u001b[0m                 renderer, self, artists, self.suppressComposite)\n\u001b[0;32m   1865\u001b[0m \u001b[1;33m\u001b[0m\u001b[0m\n",
      "\u001b[1;32mc:\\Users\\elian\\Documents\\Documents\\Programs\\University\\ECE496_Capstone\\venv\\lib\\site-packages\\matplotlib\\image.py\u001b[0m in \u001b[0;36m_draw_list_compositing_images\u001b[1;34m(renderer, parent, artists, suppress_composite)\u001b[0m\n\u001b[0;32m    129\u001b[0m     \u001b[1;32mif\u001b[0m \u001b[0mnot_composite\u001b[0m \u001b[1;32mor\u001b[0m \u001b[1;32mnot\u001b[0m \u001b[0mhas_images\u001b[0m\u001b[1;33m:\u001b[0m\u001b[1;33m\u001b[0m\u001b[1;33m\u001b[0m\u001b[0m\n\u001b[0;32m    130\u001b[0m         \u001b[1;32mfor\u001b[0m \u001b[0ma\u001b[0m \u001b[1;32min\u001b[0m \u001b[0martists\u001b[0m\u001b[1;33m:\u001b[0m\u001b[1;33m\u001b[0m\u001b[1;33m\u001b[0m\u001b[0m\n\u001b[1;32m--> 131\u001b[1;33m             \u001b[0ma\u001b[0m\u001b[1;33m.\u001b[0m\u001b[0mdraw\u001b[0m\u001b[1;33m(\u001b[0m\u001b[0mrenderer\u001b[0m\u001b[1;33m)\u001b[0m\u001b[1;33m\u001b[0m\u001b[1;33m\u001b[0m\u001b[0m\n\u001b[0m\u001b[0;32m    132\u001b[0m     \u001b[1;32melse\u001b[0m\u001b[1;33m:\u001b[0m\u001b[1;33m\u001b[0m\u001b[1;33m\u001b[0m\u001b[0m\n\u001b[0;32m    133\u001b[0m         \u001b[1;31m# Composite any adjacent images together\u001b[0m\u001b[1;33m\u001b[0m\u001b[1;33m\u001b[0m\u001b[1;33m\u001b[0m\u001b[0m\n",
      "\u001b[1;32mc:\\Users\\elian\\Documents\\Documents\\Programs\\University\\ECE496_Capstone\\venv\\lib\\site-packages\\matplotlib\\artist.py\u001b[0m in \u001b[0;36mdraw_wrapper\u001b[1;34m(artist, renderer, *args, **kwargs)\u001b[0m\n\u001b[0;32m     39\u001b[0m                 \u001b[0mrenderer\u001b[0m\u001b[1;33m.\u001b[0m\u001b[0mstart_filter\u001b[0m\u001b[1;33m(\u001b[0m\u001b[1;33m)\u001b[0m\u001b[1;33m\u001b[0m\u001b[1;33m\u001b[0m\u001b[0m\n\u001b[0;32m     40\u001b[0m \u001b[1;33m\u001b[0m\u001b[0m\n\u001b[1;32m---> 41\u001b[1;33m             \u001b[1;32mreturn\u001b[0m \u001b[0mdraw\u001b[0m\u001b[1;33m(\u001b[0m\u001b[0martist\u001b[0m\u001b[1;33m,\u001b[0m \u001b[0mrenderer\u001b[0m\u001b[1;33m,\u001b[0m \u001b[1;33m*\u001b[0m\u001b[0margs\u001b[0m\u001b[1;33m,\u001b[0m \u001b[1;33m**\u001b[0m\u001b[0mkwargs\u001b[0m\u001b[1;33m)\u001b[0m\u001b[1;33m\u001b[0m\u001b[1;33m\u001b[0m\u001b[0m\n\u001b[0m\u001b[0;32m     42\u001b[0m         \u001b[1;32mfinally\u001b[0m\u001b[1;33m:\u001b[0m\u001b[1;33m\u001b[0m\u001b[1;33m\u001b[0m\u001b[0m\n\u001b[0;32m     43\u001b[0m             \u001b[1;32mif\u001b[0m \u001b[0martist\u001b[0m\u001b[1;33m.\u001b[0m\u001b[0mget_agg_filter\u001b[0m\u001b[1;33m(\u001b[0m\u001b[1;33m)\u001b[0m \u001b[1;32mis\u001b[0m \u001b[1;32mnot\u001b[0m \u001b[1;32mNone\u001b[0m\u001b[1;33m:\u001b[0m\u001b[1;33m\u001b[0m\u001b[1;33m\u001b[0m\u001b[0m\n",
      "\u001b[1;32mc:\\Users\\elian\\Documents\\Documents\\Programs\\University\\ECE496_Capstone\\venv\\lib\\site-packages\\matplotlib\\cbook\\deprecation.py\u001b[0m in \u001b[0;36mwrapper\u001b[1;34m(*inner_args, **inner_kwargs)\u001b[0m\n\u001b[0;32m    409\u001b[0m                          \u001b[1;32melse\u001b[0m \u001b[0mdeprecation_addendum\u001b[0m\u001b[1;33m,\u001b[0m\u001b[1;33m\u001b[0m\u001b[1;33m\u001b[0m\u001b[0m\n\u001b[0;32m    410\u001b[0m                 **kwargs)\n\u001b[1;32m--> 411\u001b[1;33m         \u001b[1;32mreturn\u001b[0m \u001b[0mfunc\u001b[0m\u001b[1;33m(\u001b[0m\u001b[1;33m*\u001b[0m\u001b[0minner_args\u001b[0m\u001b[1;33m,\u001b[0m \u001b[1;33m**\u001b[0m\u001b[0minner_kwargs\u001b[0m\u001b[1;33m)\u001b[0m\u001b[1;33m\u001b[0m\u001b[1;33m\u001b[0m\u001b[0m\n\u001b[0m\u001b[0;32m    412\u001b[0m \u001b[1;33m\u001b[0m\u001b[0m\n\u001b[0;32m    413\u001b[0m     \u001b[1;32mreturn\u001b[0m \u001b[0mwrapper\u001b[0m\u001b[1;33m\u001b[0m\u001b[1;33m\u001b[0m\u001b[0m\n",
      "\u001b[1;32mc:\\Users\\elian\\Documents\\Documents\\Programs\\University\\ECE496_Capstone\\venv\\lib\\site-packages\\matplotlib\\axes\\_base.py\u001b[0m in \u001b[0;36mdraw\u001b[1;34m(self, renderer, inframe)\u001b[0m\n\u001b[0;32m   2745\u001b[0m             \u001b[0mrenderer\u001b[0m\u001b[1;33m.\u001b[0m\u001b[0mstop_rasterizing\u001b[0m\u001b[1;33m(\u001b[0m\u001b[1;33m)\u001b[0m\u001b[1;33m\u001b[0m\u001b[1;33m\u001b[0m\u001b[0m\n\u001b[0;32m   2746\u001b[0m \u001b[1;33m\u001b[0m\u001b[0m\n\u001b[1;32m-> 2747\u001b[1;33m         \u001b[0mmimage\u001b[0m\u001b[1;33m.\u001b[0m\u001b[0m_draw_list_compositing_images\u001b[0m\u001b[1;33m(\u001b[0m\u001b[0mrenderer\u001b[0m\u001b[1;33m,\u001b[0m \u001b[0mself\u001b[0m\u001b[1;33m,\u001b[0m \u001b[0martists\u001b[0m\u001b[1;33m)\u001b[0m\u001b[1;33m\u001b[0m\u001b[1;33m\u001b[0m\u001b[0m\n\u001b[0m\u001b[0;32m   2748\u001b[0m \u001b[1;33m\u001b[0m\u001b[0m\n\u001b[0;32m   2749\u001b[0m         \u001b[0mrenderer\u001b[0m\u001b[1;33m.\u001b[0m\u001b[0mclose_group\u001b[0m\u001b[1;33m(\u001b[0m\u001b[1;34m'axes'\u001b[0m\u001b[1;33m)\u001b[0m\u001b[1;33m\u001b[0m\u001b[1;33m\u001b[0m\u001b[0m\n",
      "\u001b[1;32mc:\\Users\\elian\\Documents\\Documents\\Programs\\University\\ECE496_Capstone\\venv\\lib\\site-packages\\matplotlib\\image.py\u001b[0m in \u001b[0;36m_draw_list_compositing_images\u001b[1;34m(renderer, parent, artists, suppress_composite)\u001b[0m\n\u001b[0;32m    129\u001b[0m     \u001b[1;32mif\u001b[0m \u001b[0mnot_composite\u001b[0m \u001b[1;32mor\u001b[0m \u001b[1;32mnot\u001b[0m \u001b[0mhas_images\u001b[0m\u001b[1;33m:\u001b[0m\u001b[1;33m\u001b[0m\u001b[1;33m\u001b[0m\u001b[0m\n\u001b[0;32m    130\u001b[0m         \u001b[1;32mfor\u001b[0m \u001b[0ma\u001b[0m \u001b[1;32min\u001b[0m \u001b[0martists\u001b[0m\u001b[1;33m:\u001b[0m\u001b[1;33m\u001b[0m\u001b[1;33m\u001b[0m\u001b[0m\n\u001b[1;32m--> 131\u001b[1;33m             \u001b[0ma\u001b[0m\u001b[1;33m.\u001b[0m\u001b[0mdraw\u001b[0m\u001b[1;33m(\u001b[0m\u001b[0mrenderer\u001b[0m\u001b[1;33m)\u001b[0m\u001b[1;33m\u001b[0m\u001b[1;33m\u001b[0m\u001b[0m\n\u001b[0m\u001b[0;32m    132\u001b[0m     \u001b[1;32melse\u001b[0m\u001b[1;33m:\u001b[0m\u001b[1;33m\u001b[0m\u001b[1;33m\u001b[0m\u001b[0m\n\u001b[0;32m    133\u001b[0m         \u001b[1;31m# Composite any adjacent images together\u001b[0m\u001b[1;33m\u001b[0m\u001b[1;33m\u001b[0m\u001b[1;33m\u001b[0m\u001b[0m\n",
      "\u001b[1;32mc:\\Users\\elian\\Documents\\Documents\\Programs\\University\\ECE496_Capstone\\venv\\lib\\site-packages\\matplotlib\\artist.py\u001b[0m in \u001b[0;36mdraw_wrapper\u001b[1;34m(artist, renderer, *args, **kwargs)\u001b[0m\n\u001b[0;32m     39\u001b[0m                 \u001b[0mrenderer\u001b[0m\u001b[1;33m.\u001b[0m\u001b[0mstart_filter\u001b[0m\u001b[1;33m(\u001b[0m\u001b[1;33m)\u001b[0m\u001b[1;33m\u001b[0m\u001b[1;33m\u001b[0m\u001b[0m\n\u001b[0;32m     40\u001b[0m \u001b[1;33m\u001b[0m\u001b[0m\n\u001b[1;32m---> 41\u001b[1;33m             \u001b[1;32mreturn\u001b[0m \u001b[0mdraw\u001b[0m\u001b[1;33m(\u001b[0m\u001b[0martist\u001b[0m\u001b[1;33m,\u001b[0m \u001b[0mrenderer\u001b[0m\u001b[1;33m,\u001b[0m \u001b[1;33m*\u001b[0m\u001b[0margs\u001b[0m\u001b[1;33m,\u001b[0m \u001b[1;33m**\u001b[0m\u001b[0mkwargs\u001b[0m\u001b[1;33m)\u001b[0m\u001b[1;33m\u001b[0m\u001b[1;33m\u001b[0m\u001b[0m\n\u001b[0m\u001b[0;32m     42\u001b[0m         \u001b[1;32mfinally\u001b[0m\u001b[1;33m:\u001b[0m\u001b[1;33m\u001b[0m\u001b[1;33m\u001b[0m\u001b[0m\n\u001b[0;32m     43\u001b[0m             \u001b[1;32mif\u001b[0m \u001b[0martist\u001b[0m\u001b[1;33m.\u001b[0m\u001b[0mget_agg_filter\u001b[0m\u001b[1;33m(\u001b[0m\u001b[1;33m)\u001b[0m \u001b[1;32mis\u001b[0m \u001b[1;32mnot\u001b[0m \u001b[1;32mNone\u001b[0m\u001b[1;33m:\u001b[0m\u001b[1;33m\u001b[0m\u001b[1;33m\u001b[0m\u001b[0m\n",
      "\u001b[1;32mc:\\Users\\elian\\Documents\\Documents\\Programs\\University\\ECE496_Capstone\\venv\\lib\\site-packages\\matplotlib\\image.py\u001b[0m in \u001b[0;36mdraw\u001b[1;34m(self, renderer, *args, **kwargs)\u001b[0m\n\u001b[0;32m    641\u001b[0m                 \u001b[0mrenderer\u001b[0m\u001b[1;33m.\u001b[0m\u001b[0mdraw_image\u001b[0m\u001b[1;33m(\u001b[0m\u001b[0mgc\u001b[0m\u001b[1;33m,\u001b[0m \u001b[0ml\u001b[0m\u001b[1;33m,\u001b[0m \u001b[0mb\u001b[0m\u001b[1;33m,\u001b[0m \u001b[0mim\u001b[0m\u001b[1;33m,\u001b[0m \u001b[0mtrans\u001b[0m\u001b[1;33m)\u001b[0m\u001b[1;33m\u001b[0m\u001b[1;33m\u001b[0m\u001b[0m\n\u001b[0;32m    642\u001b[0m         \u001b[1;32melse\u001b[0m\u001b[1;33m:\u001b[0m\u001b[1;33m\u001b[0m\u001b[1;33m\u001b[0m\u001b[0m\n\u001b[1;32m--> 643\u001b[1;33m             im, l, b, trans = self.make_image(\n\u001b[0m\u001b[0;32m    644\u001b[0m                 renderer, renderer.get_image_magnification())\n\u001b[0;32m    645\u001b[0m             \u001b[1;32mif\u001b[0m \u001b[0mim\u001b[0m \u001b[1;32mis\u001b[0m \u001b[1;32mnot\u001b[0m \u001b[1;32mNone\u001b[0m\u001b[1;33m:\u001b[0m\u001b[1;33m\u001b[0m\u001b[1;33m\u001b[0m\u001b[0m\n",
      "\u001b[1;32mc:\\Users\\elian\\Documents\\Documents\\Programs\\University\\ECE496_Capstone\\venv\\lib\\site-packages\\matplotlib\\image.py\u001b[0m in \u001b[0;36mmake_image\u001b[1;34m(self, renderer, magnification, unsampled)\u001b[0m\n\u001b[0;32m    926\u001b[0m         clip = ((self.get_clip_box() or self.axes.bbox) if self.get_clip_on()\n\u001b[0;32m    927\u001b[0m                 else self.figure.bbox)\n\u001b[1;32m--> 928\u001b[1;33m         return self._make_image(self._A, bbox, transformed_bbox, clip,\n\u001b[0m\u001b[0;32m    929\u001b[0m                                 magnification, unsampled=unsampled)\n\u001b[0;32m    930\u001b[0m \u001b[1;33m\u001b[0m\u001b[0m\n",
      "\u001b[1;32mc:\\Users\\elian\\Documents\\Documents\\Programs\\University\\ECE496_Capstone\\venv\\lib\\site-packages\\matplotlib\\image.py\u001b[0m in \u001b[0;36m_make_image\u001b[1;34m(self, A, in_bbox, out_bbox, clip_bbox, magnification, unsampled, round_to_pixel_border)\u001b[0m\n\u001b[0;32m    559\u001b[0m             \u001b[1;31m# (of int or float)\u001b[0m\u001b[1;33m\u001b[0m\u001b[1;33m\u001b[0m\u001b[1;33m\u001b[0m\u001b[0m\n\u001b[0;32m    560\u001b[0m             \u001b[1;31m# or an RGBA array of re-sampled input\u001b[0m\u001b[1;33m\u001b[0m\u001b[1;33m\u001b[0m\u001b[1;33m\u001b[0m\u001b[0m\n\u001b[1;32m--> 561\u001b[1;33m             \u001b[0moutput\u001b[0m \u001b[1;33m=\u001b[0m \u001b[0mself\u001b[0m\u001b[1;33m.\u001b[0m\u001b[0mto_rgba\u001b[0m\u001b[1;33m(\u001b[0m\u001b[0moutput\u001b[0m\u001b[1;33m,\u001b[0m \u001b[0mbytes\u001b[0m\u001b[1;33m=\u001b[0m\u001b[1;32mTrue\u001b[0m\u001b[1;33m,\u001b[0m \u001b[0mnorm\u001b[0m\u001b[1;33m=\u001b[0m\u001b[1;32mFalse\u001b[0m\u001b[1;33m)\u001b[0m\u001b[1;33m\u001b[0m\u001b[1;33m\u001b[0m\u001b[0m\n\u001b[0m\u001b[0;32m    562\u001b[0m             \u001b[1;31m# output is now a correctly sized RGBA array of uint8\u001b[0m\u001b[1;33m\u001b[0m\u001b[1;33m\u001b[0m\u001b[1;33m\u001b[0m\u001b[0m\n\u001b[0;32m    563\u001b[0m \u001b[1;33m\u001b[0m\u001b[0m\n",
      "\u001b[1;32mc:\\Users\\elian\\Documents\\Documents\\Programs\\University\\ECE496_Capstone\\venv\\lib\\site-packages\\matplotlib\\cm.py\u001b[0m in \u001b[0;36mto_rgba\u001b[1;34m(self, x, alpha, bytes, norm)\u001b[0m\n\u001b[0;32m    331\u001b[0m         \u001b[1;32mif\u001b[0m \u001b[0mnorm\u001b[0m\u001b[1;33m:\u001b[0m\u001b[1;33m\u001b[0m\u001b[1;33m\u001b[0m\u001b[0m\n\u001b[0;32m    332\u001b[0m             \u001b[0mx\u001b[0m \u001b[1;33m=\u001b[0m \u001b[0mself\u001b[0m\u001b[1;33m.\u001b[0m\u001b[0mnorm\u001b[0m\u001b[1;33m(\u001b[0m\u001b[0mx\u001b[0m\u001b[1;33m)\u001b[0m\u001b[1;33m\u001b[0m\u001b[1;33m\u001b[0m\u001b[0m\n\u001b[1;32m--> 333\u001b[1;33m         \u001b[0mrgba\u001b[0m \u001b[1;33m=\u001b[0m \u001b[0mself\u001b[0m\u001b[1;33m.\u001b[0m\u001b[0mcmap\u001b[0m\u001b[1;33m(\u001b[0m\u001b[0mx\u001b[0m\u001b[1;33m,\u001b[0m \u001b[0malpha\u001b[0m\u001b[1;33m=\u001b[0m\u001b[0malpha\u001b[0m\u001b[1;33m,\u001b[0m \u001b[0mbytes\u001b[0m\u001b[1;33m=\u001b[0m\u001b[0mbytes\u001b[0m\u001b[1;33m)\u001b[0m\u001b[1;33m\u001b[0m\u001b[1;33m\u001b[0m\u001b[0m\n\u001b[0m\u001b[0;32m    334\u001b[0m         \u001b[1;32mreturn\u001b[0m \u001b[0mrgba\u001b[0m\u001b[1;33m\u001b[0m\u001b[1;33m\u001b[0m\u001b[0m\n\u001b[0;32m    335\u001b[0m \u001b[1;33m\u001b[0m\u001b[0m\n",
      "\u001b[1;32mc:\\Users\\elian\\Documents\\Documents\\Programs\\University\\ECE496_Capstone\\venv\\lib\\site-packages\\matplotlib\\colors.py\u001b[0m in \u001b[0;36m__call__\u001b[1;34m(self, X, alpha, bytes)\u001b[0m\n\u001b[0;32m    608\u001b[0m                 \u001b[1;31m# override its alpha just as for any other value.\u001b[0m\u001b[1;33m\u001b[0m\u001b[1;33m\u001b[0m\u001b[1;33m\u001b[0m\u001b[0m\n\u001b[0;32m    609\u001b[0m \u001b[1;33m\u001b[0m\u001b[0m\n\u001b[1;32m--> 610\u001b[1;33m         \u001b[0mrgba\u001b[0m \u001b[1;33m=\u001b[0m \u001b[0mlut\u001b[0m\u001b[1;33m[\u001b[0m\u001b[0mxa\u001b[0m\u001b[1;33m]\u001b[0m\u001b[1;33m\u001b[0m\u001b[1;33m\u001b[0m\u001b[0m\n\u001b[0m\u001b[0;32m    611\u001b[0m         \u001b[1;32mif\u001b[0m \u001b[1;32mnot\u001b[0m \u001b[0mnp\u001b[0m\u001b[1;33m.\u001b[0m\u001b[0miterable\u001b[0m\u001b[1;33m(\u001b[0m\u001b[0mX\u001b[0m\u001b[1;33m)\u001b[0m\u001b[1;33m:\u001b[0m\u001b[1;33m\u001b[0m\u001b[1;33m\u001b[0m\u001b[0m\n\u001b[0;32m    612\u001b[0m             \u001b[1;31m# Return a tuple if the input was a scalar\u001b[0m\u001b[1;33m\u001b[0m\u001b[1;33m\u001b[0m\u001b[1;33m\u001b[0m\u001b[0m\n",
      "\u001b[1;31mKeyboardInterrupt\u001b[0m: "
     ]
    }
   ],
   "source": [
    "import matplotlib.pyplot as plt\n",
    "\n",
    "def generateTrainingImages(gpacData):\n",
    "    \"\"\" Reads and processes all GPAC data from previous preprocessing and convert the data\n",
    "    into images in greyscale and in a heatmap.\n",
    "    \"\"\"\n",
    "    plt.axis('off')\n",
    "    image_dir = os.path.join('data', 'images')\n",
    "    greyscale_image_dir = os.path.join('data', 'greyscaleimages')\n",
    "\n",
    "    if not os.path.exists(image_dir):\n",
    "        os.mkdir(image_dir)\n",
    "    if not os.path.exists(greyscale_image_dir):\n",
    "        os.mkdir(greyscale_image_dir)\n",
    "\n",
    "    for file in gpacData.keys():\n",
    "        for i, gpac in enumerate(gpacData[file]['data']['fv']):\n",
    "            gpac_img = gpac.reshape(len(gpacData[file]['lf']), len(gpacData[file]['hf']))\n",
    "\n",
    "            # Saves all of the images in a heatmap\n",
    "            folder = LABEL_NAMES[gpacData[file]['data']['label'][i]]\n",
    "            if folder != NO_LABEL:\n",
    "                folder_image_dir = os.path.join(image_dir, folder)\n",
    "                folder_greyscale_image_dir = os.path.join(greyscale_image_dir, folder)\n",
    "\n",
    "                if not os.path.exists(folder_image_dir):\n",
    "                    os.mkdir(folder_image_dir)\n",
    "                if not os.path.exists(folder_greyscale_image_dir):\n",
    "                    os.mkdir(folder_greyscale_image_dir)\n",
    "\n",
    "                plt.imshow(gpac_img)\n",
    "                plt.savefig(os.path.join(folder_image_dir, os.path.basename(file) + f'{i}.png'), bbox_inches='tight', pad_inches=0)\n",
    "                plt.imshow(gpac_img, cmap='gray')\n",
    "                plt.savefig(os.path.join(folder_greyscale_image_dir, os.path.basename(file) + f'{i}.png'), bbox_inches='tight', pad_inches=0)\n",
    "\n",
    "generateTrainingImages(gpac_image_data)"
   ]
  },
  {
   "cell_type": "markdown",
   "metadata": {},
   "source": [
    "## Part 3: ML Input-Output Preprocessing"
   ]
  },
  {
   "cell_type": "code",
   "execution_count": 28,
   "metadata": {
    "tags": []
   },
   "outputs": [],
   "source": [
    "data = []\n",
    "labels = []\n",
    "\n",
    "from keras.preprocessing.image import img_to_array\n",
    "from keras.preprocessing.image import load_img\n",
    "\n",
    "for image_label in os.scandir(os.path.join('data', 'images')):\n",
    "    for filename in os.scandir(image_label.path):\n",
    "        if filename.path.endswith(\".png\"):\n",
    "            data.append(img_to_array(load_img(filename.path)))\n",
    "            labels.append(LABELS[image_label.name])"
   ]
  },
  {
   "cell_type": "code",
   "execution_count": 29,
   "metadata": {},
   "outputs": [
    {
     "output_type": "stream",
     "name": "stdout",
     "text": [
      "[3, 3, 3, 3, 3]\n[[[119. 208.  82.]\n  [126. 210.  78.]\n  [197. 223.  33.]\n  ...\n  [ 54.  90. 140.]\n  [ 54.  90. 140.]\n  [ 55.  88. 140.]]\n\n [[139. 213.  70.]\n  [141. 214.  68.]\n  [205. 224.  29.]\n  ...\n  [ 48. 104. 141.]\n  [ 48. 104. 141.]\n  [ 48. 104. 141.]]\n\n [[151. 216.  62.]\n  [157. 217.  58.]\n  [207. 225.  28.]\n  ...\n  [ 43. 115. 142.]\n  [ 43. 116. 142.]\n  [ 43. 116. 142.]]\n\n ...\n\n [[ 68.   3.  87.]\n  [ 68.   3.  87.]\n  [ 68.   3.  87.]\n  ...\n  [ 72.  26. 108.]\n  [ 72.  26. 108.]\n  [ 72.  26. 108.]]\n\n [[ 68.   3.  87.]\n  [ 68.   3.  87.]\n  [ 68.   3.  87.]\n  ...\n  [ 72.  25. 107.]\n  [ 72.  25. 107.]\n  [ 72.  25. 107.]]\n\n [[ 68.   3.  87.]\n  [ 68.   3.  87.]\n  [ 68.   3.  87.]\n  ...\n  [ 72.  25. 107.]\n  [ 72.  25. 107.]\n  [ 72.  25. 107.]]]\n"
     ]
    }
   ],
   "source": [
    "print(labels[-5:])\n",
    "print(data[0])\n"
   ]
  },
  {
   "cell_type": "code",
   "execution_count": 30,
   "metadata": {},
   "outputs": [
    {
     "output_type": "execute_result",
     "data": {
      "text/plain": [
       "                                                 data  labels\n",
       "0   [[[119.0, 208.0, 82.0], [126.0, 210.0, 78.0], ...       0\n",
       "1   [[[202.0, 224.0, 30.0], [199.0, 224.0, 31.0], ...       0\n",
       "2   [[[32.0, 165.0, 133.0], [32.0, 165.0, 133.0], ...       0\n",
       "3   [[[47.0, 179.0, 123.0], [47.0, 179.0, 123.0], ...       0\n",
       "4   [[[129.0, 211.0, 76.0], [129.0, 211.0, 76.0], ...       0\n",
       "5   [[[35.0, 168.0, 131.0], [35.0, 169.0, 130.0], ...       0\n",
       "6   [[[41.0, 175.0, 127.0], [40.0, 174.0, 127.0], ...       0\n",
       "7   [[[33.0, 166.0, 133.0], [33.0, 166.0, 133.0], ...       0\n",
       "8   [[[96.0, 201.0, 96.0], [96.0, 201.0, 96.0], [8...       0\n",
       "9   [[[32.0, 165.0, 133.0], [32.0, 165.0, 133.0], ...       0\n",
       "10  [[[54.0, 184.0, 119.0], [54.0, 184.0, 119.0], ...       0\n",
       "11  [[[43.0, 177.0, 125.0], [41.0, 175.0, 127.0], ...       0\n",
       "12  [[[44.0, 112.0, 142.0], [44.0, 113.0, 142.0], ...       0\n",
       "13  [[[134.0, 212.0, 73.0], [129.0, 211.0, 76.0], ...       0\n",
       "14  [[[197.0, 223.0, 33.0], [194.0, 223.0, 34.0], ...       0\n",
       "15  [[[31.0, 148.0, 139.0], [31.0, 147.0, 139.0], ...       1\n",
       "16  [[[238.0, 229.0, 27.0], [238.0, 229.0, 27.0], ...       1\n",
       "17  [[[114.0, 207.0, 85.0], [109.0, 206.0, 88.0], ...       1\n",
       "18  [[[33.0, 141.0, 140.0], [33.0, 141.0, 140.0], ...       1\n",
       "19  [[[85.0, 198.0, 102.0], [85.0, 198.0, 102.0], ...       1\n",
       "20  [[[31.0, 149.0, 139.0], [31.0, 150.0, 139.0], ...       2\n",
       "21  [[[43.0, 177.0, 125.0], [43.0, 177.0, 125.0], ...       2\n",
       "22  [[[246.0, 230.0, 31.0], [246.0, 230.0, 31.0], ...       2\n",
       "23  [[[149.0, 215.0, 63.0], [149.0, 215.0, 63.0], ...       2\n",
       "24  [[[52.0, 95.0, 141.0], [52.0, 95.0, 141.0], [4...       2\n",
       "25  [[[30.0, 153.0, 138.0], [30.0, 154.0, 137.0], ...       2\n",
       "26  [[[39.0, 126.0, 142.0], [39.0, 126.0, 142.0], ...       2\n",
       "27  [[[48.0, 104.0, 141.0], [47.0, 105.0, 141.0], ...       2\n",
       "28  [[[31.0, 162.0, 134.0], [31.0, 162.0, 134.0], ...       3\n",
       "29  [[[38.0, 128.0, 142.0], [38.0, 128.0, 142.0], ...       3\n",
       "30  [[[181.0, 221.0, 43.0], [175.0, 220.0, 46.0], ...       3\n",
       "31  [[[32.0, 143.0, 140.0], [32.0, 143.0, 140.0], ...       3\n",
       "32  [[[40.0, 174.0, 127.0], [40.0, 174.0, 127.0], ...       3\n",
       "33  [[[39.0, 173.0, 128.0], [41.0, 175.0, 127.0], ...       3\n",
       "34  [[[36.0, 132.0, 141.0], [36.0, 132.0, 141.0], ...       3\n",
       "35  [[[36.0, 133.0, 141.0], [36.0, 133.0, 141.0], ...       3"
      ],
      "text/html": "<div>\n<style scoped>\n    .dataframe tbody tr th:only-of-type {\n        vertical-align: middle;\n    }\n\n    .dataframe tbody tr th {\n        vertical-align: top;\n    }\n\n    .dataframe thead th {\n        text-align: right;\n    }\n</style>\n<table border=\"1\" class=\"dataframe\">\n  <thead>\n    <tr style=\"text-align: right;\">\n      <th></th>\n      <th>data</th>\n      <th>labels</th>\n    </tr>\n  </thead>\n  <tbody>\n    <tr>\n      <th>0</th>\n      <td>[[[119.0, 208.0, 82.0], [126.0, 210.0, 78.0], ...</td>\n      <td>0</td>\n    </tr>\n    <tr>\n      <th>1</th>\n      <td>[[[202.0, 224.0, 30.0], [199.0, 224.0, 31.0], ...</td>\n      <td>0</td>\n    </tr>\n    <tr>\n      <th>2</th>\n      <td>[[[32.0, 165.0, 133.0], [32.0, 165.0, 133.0], ...</td>\n      <td>0</td>\n    </tr>\n    <tr>\n      <th>3</th>\n      <td>[[[47.0, 179.0, 123.0], [47.0, 179.0, 123.0], ...</td>\n      <td>0</td>\n    </tr>\n    <tr>\n      <th>4</th>\n      <td>[[[129.0, 211.0, 76.0], [129.0, 211.0, 76.0], ...</td>\n      <td>0</td>\n    </tr>\n    <tr>\n      <th>5</th>\n      <td>[[[35.0, 168.0, 131.0], [35.0, 169.0, 130.0], ...</td>\n      <td>0</td>\n    </tr>\n    <tr>\n      <th>6</th>\n      <td>[[[41.0, 175.0, 127.0], [40.0, 174.0, 127.0], ...</td>\n      <td>0</td>\n    </tr>\n    <tr>\n      <th>7</th>\n      <td>[[[33.0, 166.0, 133.0], [33.0, 166.0, 133.0], ...</td>\n      <td>0</td>\n    </tr>\n    <tr>\n      <th>8</th>\n      <td>[[[96.0, 201.0, 96.0], [96.0, 201.0, 96.0], [8...</td>\n      <td>0</td>\n    </tr>\n    <tr>\n      <th>9</th>\n      <td>[[[32.0, 165.0, 133.0], [32.0, 165.0, 133.0], ...</td>\n      <td>0</td>\n    </tr>\n    <tr>\n      <th>10</th>\n      <td>[[[54.0, 184.0, 119.0], [54.0, 184.0, 119.0], ...</td>\n      <td>0</td>\n    </tr>\n    <tr>\n      <th>11</th>\n      <td>[[[43.0, 177.0, 125.0], [41.0, 175.0, 127.0], ...</td>\n      <td>0</td>\n    </tr>\n    <tr>\n      <th>12</th>\n      <td>[[[44.0, 112.0, 142.0], [44.0, 113.0, 142.0], ...</td>\n      <td>0</td>\n    </tr>\n    <tr>\n      <th>13</th>\n      <td>[[[134.0, 212.0, 73.0], [129.0, 211.0, 76.0], ...</td>\n      <td>0</td>\n    </tr>\n    <tr>\n      <th>14</th>\n      <td>[[[197.0, 223.0, 33.0], [194.0, 223.0, 34.0], ...</td>\n      <td>0</td>\n    </tr>\n    <tr>\n      <th>15</th>\n      <td>[[[31.0, 148.0, 139.0], [31.0, 147.0, 139.0], ...</td>\n      <td>1</td>\n    </tr>\n    <tr>\n      <th>16</th>\n      <td>[[[238.0, 229.0, 27.0], [238.0, 229.0, 27.0], ...</td>\n      <td>1</td>\n    </tr>\n    <tr>\n      <th>17</th>\n      <td>[[[114.0, 207.0, 85.0], [109.0, 206.0, 88.0], ...</td>\n      <td>1</td>\n    </tr>\n    <tr>\n      <th>18</th>\n      <td>[[[33.0, 141.0, 140.0], [33.0, 141.0, 140.0], ...</td>\n      <td>1</td>\n    </tr>\n    <tr>\n      <th>19</th>\n      <td>[[[85.0, 198.0, 102.0], [85.0, 198.0, 102.0], ...</td>\n      <td>1</td>\n    </tr>\n    <tr>\n      <th>20</th>\n      <td>[[[31.0, 149.0, 139.0], [31.0, 150.0, 139.0], ...</td>\n      <td>2</td>\n    </tr>\n    <tr>\n      <th>21</th>\n      <td>[[[43.0, 177.0, 125.0], [43.0, 177.0, 125.0], ...</td>\n      <td>2</td>\n    </tr>\n    <tr>\n      <th>22</th>\n      <td>[[[246.0, 230.0, 31.0], [246.0, 230.0, 31.0], ...</td>\n      <td>2</td>\n    </tr>\n    <tr>\n      <th>23</th>\n      <td>[[[149.0, 215.0, 63.0], [149.0, 215.0, 63.0], ...</td>\n      <td>2</td>\n    </tr>\n    <tr>\n      <th>24</th>\n      <td>[[[52.0, 95.0, 141.0], [52.0, 95.0, 141.0], [4...</td>\n      <td>2</td>\n    </tr>\n    <tr>\n      <th>25</th>\n      <td>[[[30.0, 153.0, 138.0], [30.0, 154.0, 137.0], ...</td>\n      <td>2</td>\n    </tr>\n    <tr>\n      <th>26</th>\n      <td>[[[39.0, 126.0, 142.0], [39.0, 126.0, 142.0], ...</td>\n      <td>2</td>\n    </tr>\n    <tr>\n      <th>27</th>\n      <td>[[[48.0, 104.0, 141.0], [47.0, 105.0, 141.0], ...</td>\n      <td>2</td>\n    </tr>\n    <tr>\n      <th>28</th>\n      <td>[[[31.0, 162.0, 134.0], [31.0, 162.0, 134.0], ...</td>\n      <td>3</td>\n    </tr>\n    <tr>\n      <th>29</th>\n      <td>[[[38.0, 128.0, 142.0], [38.0, 128.0, 142.0], ...</td>\n      <td>3</td>\n    </tr>\n    <tr>\n      <th>30</th>\n      <td>[[[181.0, 221.0, 43.0], [175.0, 220.0, 46.0], ...</td>\n      <td>3</td>\n    </tr>\n    <tr>\n      <th>31</th>\n      <td>[[[32.0, 143.0, 140.0], [32.0, 143.0, 140.0], ...</td>\n      <td>3</td>\n    </tr>\n    <tr>\n      <th>32</th>\n      <td>[[[40.0, 174.0, 127.0], [40.0, 174.0, 127.0], ...</td>\n      <td>3</td>\n    </tr>\n    <tr>\n      <th>33</th>\n      <td>[[[39.0, 173.0, 128.0], [41.0, 175.0, 127.0], ...</td>\n      <td>3</td>\n    </tr>\n    <tr>\n      <th>34</th>\n      <td>[[[36.0, 132.0, 141.0], [36.0, 132.0, 141.0], ...</td>\n      <td>3</td>\n    </tr>\n    <tr>\n      <th>35</th>\n      <td>[[[36.0, 133.0, 141.0], [36.0, 133.0, 141.0], ...</td>\n      <td>3</td>\n    </tr>\n  </tbody>\n</table>\n</div>"
     },
     "metadata": {},
     "execution_count": 30
    }
   ],
   "source": [
    "df = pd.DataFrame(list(zip(data, labels)), \n",
    "               columns =['data', 'labels']) \n",
    "df"
   ]
  },
  {
   "cell_type": "code",
   "execution_count": 31,
   "metadata": {},
   "outputs": [],
   "source": [
    "df = df.sample(frac=1).reset_index(drop=True)"
   ]
  },
  {
   "cell_type": "markdown",
   "metadata": {},
   "source": [
    "## Part 4: ML Model (Baseline)"
   ]
  },
  {
   "cell_type": "code",
   "execution_count": 32,
   "metadata": {
    "collapsed": true,
    "jupyter": {
     "outputs_hidden": true
    }
   },
   "outputs": [
    {
     "output_type": "stream",
     "name": "stdout",
     "text": [
      "3\n",
      "(217, 313, 3)\n",
      "Shape before one-hot encoding:  (25,)\n",
      "Shape after one-hot encoding:  (25, 4)\n",
      "Epoch 1/20\n",
      "1/1 [==============================] - 3s 3s/step - loss: 37.3803 - accuracy: 0.4000 - val_loss: 49318.6914 - val_accuracy: 0.1818\n",
      "Epoch 2/20\n",
      "1/1 [==============================] - 2s 2s/step - loss: 43033.0938 - accuracy: 0.1200 - val_loss: 78333.0938 - val_accuracy: 0.0909\n",
      "Epoch 3/20\n",
      "1/1 [==============================] - 1s 1s/step - loss: 64301.5547 - accuracy: 0.2800 - val_loss: 64465.5117 - val_accuracy: 0.2727\n",
      "Epoch 4/20\n",
      "1/1 [==============================] - 1s 1s/step - loss: 54964.0234 - accuracy: 0.2000 - val_loss: 52329.6719 - val_accuracy: 0.0909\n",
      "Epoch 5/20\n",
      "1/1 [==============================] - 1s 1s/step - loss: 42260.7344 - accuracy: 0.3200 - val_loss: 42568.2969 - val_accuracy: 0.2727\n",
      "Epoch 6/20\n",
      "1/1 [==============================] - 1s 1s/step - loss: 36027.4141 - accuracy: 0.2000 - val_loss: 27592.8945 - val_accuracy: 0.2727\n",
      "Epoch 7/20\n",
      "1/1 [==============================] - 1s 1s/step - loss: 22195.8477 - accuracy: 0.2000 - val_loss: 22832.6309 - val_accuracy: 0.0909\n",
      "Epoch 8/20\n",
      "1/1 [==============================] - 1s 1s/step - loss: 17909.4766 - accuracy: 0.2800 - val_loss: 14327.6250 - val_accuracy: 0.0909\n",
      "Epoch 9/20\n",
      "1/1 [==============================] - 1s 1s/step - loss: 11110.2754 - accuracy: 0.2800 - val_loss: 9040.2344 - val_accuracy: 0.2727\n",
      "Epoch 10/20\n",
      "1/1 [==============================] - 1s 1s/step - loss: 7778.4424 - accuracy: 0.2000 - val_loss: 4649.4937 - val_accuracy: 0.2727\n",
      "Epoch 11/20\n",
      "1/1 [==============================] - 1s 1s/step - loss: 4660.0171 - accuracy: 0.2000 - val_loss: 2465.9861 - val_accuracy: 0.2727\n",
      "Epoch 12/20\n",
      "1/1 [==============================] - 1s 1s/step - loss: 2936.2935 - accuracy: 0.2000 - val_loss: 2017.8956 - val_accuracy: 0.4545\n",
      "Epoch 13/20\n",
      "1/1 [==============================] - 1s 1s/step - loss: 2498.9543 - accuracy: 0.4000 - val_loss: 2112.2832 - val_accuracy: 0.4545\n",
      "Epoch 14/20\n",
      "1/1 [==============================] - 1s 1s/step - loss: 2461.7527 - accuracy: 0.4000 - val_loss: 1933.0684 - val_accuracy: 0.4545\n",
      "Epoch 15/20\n",
      "1/1 [==============================] - 1s 1s/step - loss: 2144.7256 - accuracy: 0.4000 - val_loss: 1678.3192 - val_accuracy: 0.4545\n",
      "Epoch 16/20\n",
      "1/1 [==============================] - 1s 1s/step - loss: 1655.9213 - accuracy: 0.4000 - val_loss: 1345.5231 - val_accuracy: 0.4545\n",
      "Epoch 17/20\n",
      "1/1 [==============================] - 1s 1s/step - loss: 1030.8723 - accuracy: 0.5200 - val_loss: 2307.4534 - val_accuracy: 0.0909\n",
      "Epoch 18/20\n",
      "1/1 [==============================] - 1s 1s/step - loss: 1707.2728 - accuracy: 0.2800 - val_loss: 2302.2068 - val_accuracy: 0.0909\n",
      "Epoch 19/20\n",
      "1/1 [==============================] - 1s 1s/step - loss: 1702.1097 - accuracy: 0.2800 - val_loss: 1253.1846 - val_accuracy: 0.1818\n",
      "Epoch 20/20\n",
      "1/1 [==============================] - 1s 1s/step - loss: 905.3769 - accuracy: 0.2800 - val_loss: 1085.7437 - val_accuracy: 0.4545\n"
     ]
    }
   ],
   "source": [
    "# keras imports for the dataset and building our neural network\n",
    "from keras.datasets import mnist\n",
    "from keras.models import Sequential\n",
    "from keras.layers import Dense, Dropout, Conv2D, MaxPool2D, Flatten\n",
    "from keras.utils import np_utils\n",
    "\n",
    "# to calculate accuracy\n",
    "from sklearn.metrics import accuracy_score\n",
    "\n",
    "X = data\n",
    "y = labels\n",
    "\n",
    "from sklearn.utils import shuffle\n",
    "X, y = shuffle(X, y, random_state=0)\n",
    "\n",
    "\n",
    "X_train = X[:int(len(X)*0.7)]\n",
    "X_test = X[int(len(X)*0.7):]\n",
    "\n",
    "y_train = y[:int(len(X)*0.7)]\n",
    "y_test = y[int(len(X)*0.7):]\n",
    "\n",
    "print(y_train[0])\n",
    "print(X_train[0].shape)\n",
    "\n",
    "X_train = np.array(X_train).reshape(len(X_train), 313, 217, 3)\n",
    "X_test = np.array(X_test).reshape(len(X_test), 313, 217, 3)\n",
    "X_train = X_train.astype('float32')\n",
    "X_test = X_test.astype('float32')\n",
    "\n",
    "y_train = np.array(y_train)\n",
    "y_test = np.array(y_test)\n",
    "\n",
    "\n",
    "# one-hot encoding using keras' numpy-related utilities\n",
    "n_classes = 4\n",
    "print(\"Shape before one-hot encoding: \", y_train.shape)\n",
    "Y_train = np_utils.to_categorical(y_train, n_classes)\n",
    "Y_test = np_utils.to_categorical(y_test, n_classes)\n",
    "print(\"Shape after one-hot encoding: \", Y_train.shape)\n",
    "\n",
    "# building a linear stack of layers with the sequential model\n",
    "model = Sequential()\n",
    "# convolutional layer\n",
    "model.add(Conv2D(25, kernel_size=(3,3), strides=(1,1), padding='valid', activation='relu', input_shape=(313,217,3)))\n",
    "model.add(MaxPool2D(pool_size=(1,1)))\n",
    "# flatten output of conv\n",
    "model.add(Flatten())\n",
    "# hidden layer\n",
    "model.add(Dense(100, activation='relu'))\n",
    "# output layer\n",
    "model.add(Dense(4, activation='softmax'))\n",
    "\n",
    "# compiling the sequential model\n",
    "model.compile(loss='categorical_crossentropy', metrics=['accuracy'], optimizer='adam')\n",
    "\n",
    "# training the model for 10 epochs\n",
    "history = model.fit(X_train, Y_train, batch_size=128, epochs=20, validation_data=(X_test, Y_test))\n"
   ]
  },
  {
   "cell_type": "code",
   "execution_count": 33,
   "metadata": {},
   "outputs": [
    {
     "output_type": "display_data",
     "data": {
      "text/plain": "<Figure size 432x288 with 1 Axes>",
      "image/svg+xml": "<?xml version=\"1.0\" encoding=\"utf-8\" standalone=\"no\"?>\r\n<!DOCTYPE svg PUBLIC \"-//W3C//DTD SVG 1.1//EN\"\r\n  \"http://www.w3.org/Graphics/SVG/1.1/DTD/svg11.dtd\">\r\n<!-- Created with matplotlib (https://matplotlib.org/) -->\r\n<svg height=\"277.314375pt\" version=\"1.1\" viewBox=\"0 0 385.78125 277.314375\" width=\"385.78125pt\" xmlns=\"http://www.w3.org/2000/svg\" xmlns:xlink=\"http://www.w3.org/1999/xlink\">\r\n <metadata>\r\n  <rdf:RDF xmlns:cc=\"http://creativecommons.org/ns#\" xmlns:dc=\"http://purl.org/dc/elements/1.1/\" xmlns:rdf=\"http://www.w3.org/1999/02/22-rdf-syntax-ns#\">\r\n   <cc:Work>\r\n    <dc:type rdf:resource=\"http://purl.org/dc/dcmitype/StillImage\"/>\r\n    <dc:date>2021-02-28T17:31:15.279684</dc:date>\r\n    <dc:format>image/svg+xml</dc:format>\r\n    <dc:creator>\r\n     <cc:Agent>\r\n      <dc:title>Matplotlib v3.3.3, https://matplotlib.org/</dc:title>\r\n     </cc:Agent>\r\n    </dc:creator>\r\n   </cc:Work>\r\n  </rdf:RDF>\r\n </metadata>\r\n <defs>\r\n  <style type=\"text/css\">*{stroke-linecap:butt;stroke-linejoin:round;}</style>\r\n </defs>\r\n <g id=\"figure_1\">\r\n  <g id=\"patch_1\">\r\n   <path d=\"M 0 277.314375 \r\nL 385.78125 277.314375 \r\nL 385.78125 0 \r\nL 0 0 \r\nz\r\n\" style=\"fill:none;\"/>\r\n  </g>\r\n  <g id=\"axes_1\">\r\n   <g id=\"patch_2\">\r\n    <path d=\"M 43.78125 239.758125 \r\nL 378.58125 239.758125 \r\nL 378.58125 22.318125 \r\nL 43.78125 22.318125 \r\nz\r\n\" style=\"fill:#ffffff;\"/>\r\n   </g>\r\n   <g id=\"matplotlib.axis_1\">\r\n    <g id=\"xtick_1\">\r\n     <g id=\"line2d_1\">\r\n      <defs>\r\n       <path d=\"M 0 0 \r\nL 0 3.5 \r\n\" id=\"m206c3469a7\" style=\"stroke:#000000;stroke-width:0.8;\"/>\r\n      </defs>\r\n      <g>\r\n       <use style=\"stroke:#000000;stroke-width:0.8;\" x=\"58.999432\" xlink:href=\"#m206c3469a7\" y=\"239.758125\"/>\r\n      </g>\r\n     </g>\r\n     <g id=\"text_1\">\r\n      <!-- 0.0 -->\r\n      <g transform=\"translate(51.047869 254.356562)scale(0.1 -0.1)\">\r\n       <defs>\r\n        <path d=\"M 31.78125 66.40625 \r\nQ 24.171875 66.40625 20.328125 58.90625 \r\nQ 16.5 51.421875 16.5 36.375 \r\nQ 16.5 21.390625 20.328125 13.890625 \r\nQ 24.171875 6.390625 31.78125 6.390625 \r\nQ 39.453125 6.390625 43.28125 13.890625 \r\nQ 47.125 21.390625 47.125 36.375 \r\nQ 47.125 51.421875 43.28125 58.90625 \r\nQ 39.453125 66.40625 31.78125 66.40625 \r\nz\r\nM 31.78125 74.21875 \r\nQ 44.046875 74.21875 50.515625 64.515625 \r\nQ 56.984375 54.828125 56.984375 36.375 \r\nQ 56.984375 17.96875 50.515625 8.265625 \r\nQ 44.046875 -1.421875 31.78125 -1.421875 \r\nQ 19.53125 -1.421875 13.0625 8.265625 \r\nQ 6.59375 17.96875 6.59375 36.375 \r\nQ 6.59375 54.828125 13.0625 64.515625 \r\nQ 19.53125 74.21875 31.78125 74.21875 \r\nz\r\n\" id=\"DejaVuSans-48\"/>\r\n        <path d=\"M 10.6875 12.40625 \r\nL 21 12.40625 \r\nL 21 0 \r\nL 10.6875 0 \r\nz\r\n\" id=\"DejaVuSans-46\"/>\r\n       </defs>\r\n       <use xlink:href=\"#DejaVuSans-48\"/>\r\n       <use x=\"63.623047\" xlink:href=\"#DejaVuSans-46\"/>\r\n       <use x=\"95.410156\" xlink:href=\"#DejaVuSans-48\"/>\r\n      </g>\r\n     </g>\r\n    </g>\r\n    <g id=\"xtick_2\">\r\n     <g id=\"line2d_2\">\r\n      <g>\r\n       <use style=\"stroke:#000000;stroke-width:0.8;\" x=\"99.047279\" xlink:href=\"#m206c3469a7\" y=\"239.758125\"/>\r\n      </g>\r\n     </g>\r\n     <g id=\"text_2\">\r\n      <!-- 2.5 -->\r\n      <g transform=\"translate(91.095716 254.356562)scale(0.1 -0.1)\">\r\n       <defs>\r\n        <path d=\"M 19.1875 8.296875 \r\nL 53.609375 8.296875 \r\nL 53.609375 0 \r\nL 7.328125 0 \r\nL 7.328125 8.296875 \r\nQ 12.9375 14.109375 22.625 23.890625 \r\nQ 32.328125 33.6875 34.8125 36.53125 \r\nQ 39.546875 41.84375 41.421875 45.53125 \r\nQ 43.3125 49.21875 43.3125 52.78125 \r\nQ 43.3125 58.59375 39.234375 62.25 \r\nQ 35.15625 65.921875 28.609375 65.921875 \r\nQ 23.96875 65.921875 18.8125 64.3125 \r\nQ 13.671875 62.703125 7.8125 59.421875 \r\nL 7.8125 69.390625 \r\nQ 13.765625 71.78125 18.9375 73 \r\nQ 24.125 74.21875 28.421875 74.21875 \r\nQ 39.75 74.21875 46.484375 68.546875 \r\nQ 53.21875 62.890625 53.21875 53.421875 \r\nQ 53.21875 48.921875 51.53125 44.890625 \r\nQ 49.859375 40.875 45.40625 35.40625 \r\nQ 44.1875 33.984375 37.640625 27.21875 \r\nQ 31.109375 20.453125 19.1875 8.296875 \r\nz\r\n\" id=\"DejaVuSans-50\"/>\r\n        <path d=\"M 10.796875 72.90625 \r\nL 49.515625 72.90625 \r\nL 49.515625 64.59375 \r\nL 19.828125 64.59375 \r\nL 19.828125 46.734375 \r\nQ 21.96875 47.46875 24.109375 47.828125 \r\nQ 26.265625 48.1875 28.421875 48.1875 \r\nQ 40.625 48.1875 47.75 41.5 \r\nQ 54.890625 34.8125 54.890625 23.390625 \r\nQ 54.890625 11.625 47.5625 5.09375 \r\nQ 40.234375 -1.421875 26.90625 -1.421875 \r\nQ 22.3125 -1.421875 17.546875 -0.640625 \r\nQ 12.796875 0.140625 7.71875 1.703125 \r\nL 7.71875 11.625 \r\nQ 12.109375 9.234375 16.796875 8.0625 \r\nQ 21.484375 6.890625 26.703125 6.890625 \r\nQ 35.15625 6.890625 40.078125 11.328125 \r\nQ 45.015625 15.765625 45.015625 23.390625 \r\nQ 45.015625 31 40.078125 35.4375 \r\nQ 35.15625 39.890625 26.703125 39.890625 \r\nQ 22.75 39.890625 18.8125 39.015625 \r\nQ 14.890625 38.140625 10.796875 36.28125 \r\nz\r\n\" id=\"DejaVuSans-53\"/>\r\n       </defs>\r\n       <use xlink:href=\"#DejaVuSans-50\"/>\r\n       <use x=\"63.623047\" xlink:href=\"#DejaVuSans-46\"/>\r\n       <use x=\"95.410156\" xlink:href=\"#DejaVuSans-53\"/>\r\n      </g>\r\n     </g>\r\n    </g>\r\n    <g id=\"xtick_3\">\r\n     <g id=\"line2d_3\">\r\n      <g>\r\n       <use style=\"stroke:#000000;stroke-width:0.8;\" x=\"139.095126\" xlink:href=\"#m206c3469a7\" y=\"239.758125\"/>\r\n      </g>\r\n     </g>\r\n     <g id=\"text_3\">\r\n      <!-- 5.0 -->\r\n      <g transform=\"translate(131.143563 254.356562)scale(0.1 -0.1)\">\r\n       <use xlink:href=\"#DejaVuSans-53\"/>\r\n       <use x=\"63.623047\" xlink:href=\"#DejaVuSans-46\"/>\r\n       <use x=\"95.410156\" xlink:href=\"#DejaVuSans-48\"/>\r\n      </g>\r\n     </g>\r\n    </g>\r\n    <g id=\"xtick_4\">\r\n     <g id=\"line2d_4\">\r\n      <g>\r\n       <use style=\"stroke:#000000;stroke-width:0.8;\" x=\"179.142972\" xlink:href=\"#m206c3469a7\" y=\"239.758125\"/>\r\n      </g>\r\n     </g>\r\n     <g id=\"text_4\">\r\n      <!-- 7.5 -->\r\n      <g transform=\"translate(171.19141 254.356562)scale(0.1 -0.1)\">\r\n       <defs>\r\n        <path d=\"M 8.203125 72.90625 \r\nL 55.078125 72.90625 \r\nL 55.078125 68.703125 \r\nL 28.609375 0 \r\nL 18.3125 0 \r\nL 43.21875 64.59375 \r\nL 8.203125 64.59375 \r\nz\r\n\" id=\"DejaVuSans-55\"/>\r\n       </defs>\r\n       <use xlink:href=\"#DejaVuSans-55\"/>\r\n       <use x=\"63.623047\" xlink:href=\"#DejaVuSans-46\"/>\r\n       <use x=\"95.410156\" xlink:href=\"#DejaVuSans-53\"/>\r\n      </g>\r\n     </g>\r\n    </g>\r\n    <g id=\"xtick_5\">\r\n     <g id=\"line2d_5\">\r\n      <g>\r\n       <use style=\"stroke:#000000;stroke-width:0.8;\" x=\"219.190819\" xlink:href=\"#m206c3469a7\" y=\"239.758125\"/>\r\n      </g>\r\n     </g>\r\n     <g id=\"text_5\">\r\n      <!-- 10.0 -->\r\n      <g transform=\"translate(208.058007 254.356562)scale(0.1 -0.1)\">\r\n       <defs>\r\n        <path d=\"M 12.40625 8.296875 \r\nL 28.515625 8.296875 \r\nL 28.515625 63.921875 \r\nL 10.984375 60.40625 \r\nL 10.984375 69.390625 \r\nL 28.421875 72.90625 \r\nL 38.28125 72.90625 \r\nL 38.28125 8.296875 \r\nL 54.390625 8.296875 \r\nL 54.390625 0 \r\nL 12.40625 0 \r\nz\r\n\" id=\"DejaVuSans-49\"/>\r\n       </defs>\r\n       <use xlink:href=\"#DejaVuSans-49\"/>\r\n       <use x=\"63.623047\" xlink:href=\"#DejaVuSans-48\"/>\r\n       <use x=\"127.246094\" xlink:href=\"#DejaVuSans-46\"/>\r\n       <use x=\"159.033203\" xlink:href=\"#DejaVuSans-48\"/>\r\n      </g>\r\n     </g>\r\n    </g>\r\n    <g id=\"xtick_6\">\r\n     <g id=\"line2d_6\">\r\n      <g>\r\n       <use style=\"stroke:#000000;stroke-width:0.8;\" x=\"259.238666\" xlink:href=\"#m206c3469a7\" y=\"239.758125\"/>\r\n      </g>\r\n     </g>\r\n     <g id=\"text_6\">\r\n      <!-- 12.5 -->\r\n      <g transform=\"translate(248.105854 254.356562)scale(0.1 -0.1)\">\r\n       <use xlink:href=\"#DejaVuSans-49\"/>\r\n       <use x=\"63.623047\" xlink:href=\"#DejaVuSans-50\"/>\r\n       <use x=\"127.246094\" xlink:href=\"#DejaVuSans-46\"/>\r\n       <use x=\"159.033203\" xlink:href=\"#DejaVuSans-53\"/>\r\n      </g>\r\n     </g>\r\n    </g>\r\n    <g id=\"xtick_7\">\r\n     <g id=\"line2d_7\">\r\n      <g>\r\n       <use style=\"stroke:#000000;stroke-width:0.8;\" x=\"299.286513\" xlink:href=\"#m206c3469a7\" y=\"239.758125\"/>\r\n      </g>\r\n     </g>\r\n     <g id=\"text_7\">\r\n      <!-- 15.0 -->\r\n      <g transform=\"translate(288.153701 254.356562)scale(0.1 -0.1)\">\r\n       <use xlink:href=\"#DejaVuSans-49\"/>\r\n       <use x=\"63.623047\" xlink:href=\"#DejaVuSans-53\"/>\r\n       <use x=\"127.246094\" xlink:href=\"#DejaVuSans-46\"/>\r\n       <use x=\"159.033203\" xlink:href=\"#DejaVuSans-48\"/>\r\n      </g>\r\n     </g>\r\n    </g>\r\n    <g id=\"xtick_8\">\r\n     <g id=\"line2d_8\">\r\n      <g>\r\n       <use style=\"stroke:#000000;stroke-width:0.8;\" x=\"339.33436\" xlink:href=\"#m206c3469a7\" y=\"239.758125\"/>\r\n      </g>\r\n     </g>\r\n     <g id=\"text_8\">\r\n      <!-- 17.5 -->\r\n      <g transform=\"translate(328.201548 254.356562)scale(0.1 -0.1)\">\r\n       <use xlink:href=\"#DejaVuSans-49\"/>\r\n       <use x=\"63.623047\" xlink:href=\"#DejaVuSans-55\"/>\r\n       <use x=\"127.246094\" xlink:href=\"#DejaVuSans-46\"/>\r\n       <use x=\"159.033203\" xlink:href=\"#DejaVuSans-53\"/>\r\n      </g>\r\n     </g>\r\n    </g>\r\n    <g id=\"text_9\">\r\n     <!-- epoch -->\r\n     <g transform=\"translate(195.953125 268.034687)scale(0.1 -0.1)\">\r\n      <defs>\r\n       <path d=\"M 56.203125 29.59375 \r\nL 56.203125 25.203125 \r\nL 14.890625 25.203125 \r\nQ 15.484375 15.921875 20.484375 11.0625 \r\nQ 25.484375 6.203125 34.421875 6.203125 \r\nQ 39.59375 6.203125 44.453125 7.46875 \r\nQ 49.3125 8.734375 54.109375 11.28125 \r\nL 54.109375 2.78125 \r\nQ 49.265625 0.734375 44.1875 -0.34375 \r\nQ 39.109375 -1.421875 33.890625 -1.421875 \r\nQ 20.796875 -1.421875 13.15625 6.1875 \r\nQ 5.515625 13.8125 5.515625 26.8125 \r\nQ 5.515625 40.234375 12.765625 48.109375 \r\nQ 20.015625 56 32.328125 56 \r\nQ 43.359375 56 49.78125 48.890625 \r\nQ 56.203125 41.796875 56.203125 29.59375 \r\nz\r\nM 47.21875 32.234375 \r\nQ 47.125 39.59375 43.09375 43.984375 \r\nQ 39.0625 48.390625 32.421875 48.390625 \r\nQ 24.90625 48.390625 20.390625 44.140625 \r\nQ 15.875 39.890625 15.1875 32.171875 \r\nz\r\n\" id=\"DejaVuSans-101\"/>\r\n       <path d=\"M 18.109375 8.203125 \r\nL 18.109375 -20.796875 \r\nL 9.078125 -20.796875 \r\nL 9.078125 54.6875 \r\nL 18.109375 54.6875 \r\nL 18.109375 46.390625 \r\nQ 20.953125 51.265625 25.265625 53.625 \r\nQ 29.59375 56 35.59375 56 \r\nQ 45.5625 56 51.78125 48.09375 \r\nQ 58.015625 40.1875 58.015625 27.296875 \r\nQ 58.015625 14.40625 51.78125 6.484375 \r\nQ 45.5625 -1.421875 35.59375 -1.421875 \r\nQ 29.59375 -1.421875 25.265625 0.953125 \r\nQ 20.953125 3.328125 18.109375 8.203125 \r\nz\r\nM 48.6875 27.296875 \r\nQ 48.6875 37.203125 44.609375 42.84375 \r\nQ 40.53125 48.484375 33.40625 48.484375 \r\nQ 26.265625 48.484375 22.1875 42.84375 \r\nQ 18.109375 37.203125 18.109375 27.296875 \r\nQ 18.109375 17.390625 22.1875 11.75 \r\nQ 26.265625 6.109375 33.40625 6.109375 \r\nQ 40.53125 6.109375 44.609375 11.75 \r\nQ 48.6875 17.390625 48.6875 27.296875 \r\nz\r\n\" id=\"DejaVuSans-112\"/>\r\n       <path d=\"M 30.609375 48.390625 \r\nQ 23.390625 48.390625 19.1875 42.75 \r\nQ 14.984375 37.109375 14.984375 27.296875 \r\nQ 14.984375 17.484375 19.15625 11.84375 \r\nQ 23.34375 6.203125 30.609375 6.203125 \r\nQ 37.796875 6.203125 41.984375 11.859375 \r\nQ 46.1875 17.53125 46.1875 27.296875 \r\nQ 46.1875 37.015625 41.984375 42.703125 \r\nQ 37.796875 48.390625 30.609375 48.390625 \r\nz\r\nM 30.609375 56 \r\nQ 42.328125 56 49.015625 48.375 \r\nQ 55.71875 40.765625 55.71875 27.296875 \r\nQ 55.71875 13.875 49.015625 6.21875 \r\nQ 42.328125 -1.421875 30.609375 -1.421875 \r\nQ 18.84375 -1.421875 12.171875 6.21875 \r\nQ 5.515625 13.875 5.515625 27.296875 \r\nQ 5.515625 40.765625 12.171875 48.375 \r\nQ 18.84375 56 30.609375 56 \r\nz\r\n\" id=\"DejaVuSans-111\"/>\r\n       <path d=\"M 48.78125 52.59375 \r\nL 48.78125 44.1875 \r\nQ 44.96875 46.296875 41.140625 47.34375 \r\nQ 37.3125 48.390625 33.40625 48.390625 \r\nQ 24.65625 48.390625 19.8125 42.84375 \r\nQ 14.984375 37.3125 14.984375 27.296875 \r\nQ 14.984375 17.28125 19.8125 11.734375 \r\nQ 24.65625 6.203125 33.40625 6.203125 \r\nQ 37.3125 6.203125 41.140625 7.25 \r\nQ 44.96875 8.296875 48.78125 10.40625 \r\nL 48.78125 2.09375 \r\nQ 45.015625 0.34375 40.984375 -0.53125 \r\nQ 36.96875 -1.421875 32.421875 -1.421875 \r\nQ 20.0625 -1.421875 12.78125 6.34375 \r\nQ 5.515625 14.109375 5.515625 27.296875 \r\nQ 5.515625 40.671875 12.859375 48.328125 \r\nQ 20.21875 56 33.015625 56 \r\nQ 37.15625 56 41.109375 55.140625 \r\nQ 45.0625 54.296875 48.78125 52.59375 \r\nz\r\n\" id=\"DejaVuSans-99\"/>\r\n       <path d=\"M 54.890625 33.015625 \r\nL 54.890625 0 \r\nL 45.90625 0 \r\nL 45.90625 32.71875 \r\nQ 45.90625 40.484375 42.875 44.328125 \r\nQ 39.84375 48.1875 33.796875 48.1875 \r\nQ 26.515625 48.1875 22.3125 43.546875 \r\nQ 18.109375 38.921875 18.109375 30.90625 \r\nL 18.109375 0 \r\nL 9.078125 0 \r\nL 9.078125 75.984375 \r\nL 18.109375 75.984375 \r\nL 18.109375 46.1875 \r\nQ 21.34375 51.125 25.703125 53.5625 \r\nQ 30.078125 56 35.796875 56 \r\nQ 45.21875 56 50.046875 50.171875 \r\nQ 54.890625 44.34375 54.890625 33.015625 \r\nz\r\n\" id=\"DejaVuSans-104\"/>\r\n      </defs>\r\n      <use xlink:href=\"#DejaVuSans-101\"/>\r\n      <use x=\"61.523438\" xlink:href=\"#DejaVuSans-112\"/>\r\n      <use x=\"125\" xlink:href=\"#DejaVuSans-111\"/>\r\n      <use x=\"186.181641\" xlink:href=\"#DejaVuSans-99\"/>\r\n      <use x=\"241.162109\" xlink:href=\"#DejaVuSans-104\"/>\r\n     </g>\r\n    </g>\r\n   </g>\r\n   <g id=\"matplotlib.axis_2\">\r\n    <g id=\"ytick_1\">\r\n     <g id=\"line2d_9\">\r\n      <defs>\r\n       <path d=\"M 0 0 \r\nL -3.5 0 \r\n\" id=\"m0fa69951aa\" style=\"stroke:#000000;stroke-width:0.8;\"/>\r\n      </defs>\r\n      <g>\r\n       <use style=\"stroke:#000000;stroke-width:0.8;\" x=\"43.78125\" xlink:href=\"#m0fa69951aa\" y=\"225.686508\"/>\r\n      </g>\r\n     </g>\r\n     <g id=\"text_10\">\r\n      <!-- 0.1 -->\r\n      <g transform=\"translate(20.878125 229.485727)scale(0.1 -0.1)\">\r\n       <use xlink:href=\"#DejaVuSans-48\"/>\r\n       <use x=\"63.623047\" xlink:href=\"#DejaVuSans-46\"/>\r\n       <use x=\"95.410156\" xlink:href=\"#DejaVuSans-49\"/>\r\n      </g>\r\n     </g>\r\n    </g>\r\n    <g id=\"ytick_2\">\r\n     <g id=\"line2d_10\">\r\n      <g>\r\n       <use style=\"stroke:#000000;stroke-width:0.8;\" x=\"43.78125\" xlink:href=\"#m0fa69951aa\" y=\"179.618709\"/>\r\n      </g>\r\n     </g>\r\n     <g id=\"text_11\">\r\n      <!-- 0.2 -->\r\n      <g transform=\"translate(20.878125 183.417928)scale(0.1 -0.1)\">\r\n       <use xlink:href=\"#DejaVuSans-48\"/>\r\n       <use x=\"63.623047\" xlink:href=\"#DejaVuSans-46\"/>\r\n       <use x=\"95.410156\" xlink:href=\"#DejaVuSans-50\"/>\r\n      </g>\r\n     </g>\r\n    </g>\r\n    <g id=\"ytick_3\">\r\n     <g id=\"line2d_11\">\r\n      <g>\r\n       <use style=\"stroke:#000000;stroke-width:0.8;\" x=\"43.78125\" xlink:href=\"#m0fa69951aa\" y=\"133.55091\"/>\r\n      </g>\r\n     </g>\r\n     <g id=\"text_12\">\r\n      <!-- 0.3 -->\r\n      <g transform=\"translate(20.878125 137.350129)scale(0.1 -0.1)\">\r\n       <defs>\r\n        <path d=\"M 40.578125 39.3125 \r\nQ 47.65625 37.796875 51.625 33 \r\nQ 55.609375 28.21875 55.609375 21.1875 \r\nQ 55.609375 10.40625 48.1875 4.484375 \r\nQ 40.765625 -1.421875 27.09375 -1.421875 \r\nQ 22.515625 -1.421875 17.65625 -0.515625 \r\nQ 12.796875 0.390625 7.625 2.203125 \r\nL 7.625 11.71875 \r\nQ 11.71875 9.328125 16.59375 8.109375 \r\nQ 21.484375 6.890625 26.8125 6.890625 \r\nQ 36.078125 6.890625 40.9375 10.546875 \r\nQ 45.796875 14.203125 45.796875 21.1875 \r\nQ 45.796875 27.640625 41.28125 31.265625 \r\nQ 36.765625 34.90625 28.71875 34.90625 \r\nL 20.21875 34.90625 \r\nL 20.21875 43.015625 \r\nL 29.109375 43.015625 \r\nQ 36.375 43.015625 40.234375 45.921875 \r\nQ 44.09375 48.828125 44.09375 54.296875 \r\nQ 44.09375 59.90625 40.109375 62.90625 \r\nQ 36.140625 65.921875 28.71875 65.921875 \r\nQ 24.65625 65.921875 20.015625 65.03125 \r\nQ 15.375 64.15625 9.8125 62.3125 \r\nL 9.8125 71.09375 \r\nQ 15.4375 72.65625 20.34375 73.4375 \r\nQ 25.25 74.21875 29.59375 74.21875 \r\nQ 40.828125 74.21875 47.359375 69.109375 \r\nQ 53.90625 64.015625 53.90625 55.328125 \r\nQ 53.90625 49.265625 50.4375 45.09375 \r\nQ 46.96875 40.921875 40.578125 39.3125 \r\nz\r\n\" id=\"DejaVuSans-51\"/>\r\n       </defs>\r\n       <use xlink:href=\"#DejaVuSans-48\"/>\r\n       <use x=\"63.623047\" xlink:href=\"#DejaVuSans-46\"/>\r\n       <use x=\"95.410156\" xlink:href=\"#DejaVuSans-51\"/>\r\n      </g>\r\n     </g>\r\n    </g>\r\n    <g id=\"ytick_4\">\r\n     <g id=\"line2d_12\">\r\n      <g>\r\n       <use style=\"stroke:#000000;stroke-width:0.8;\" x=\"43.78125\" xlink:href=\"#m0fa69951aa\" y=\"87.483111\"/>\r\n      </g>\r\n     </g>\r\n     <g id=\"text_13\">\r\n      <!-- 0.4 -->\r\n      <g transform=\"translate(20.878125 91.28233)scale(0.1 -0.1)\">\r\n       <defs>\r\n        <path d=\"M 37.796875 64.3125 \r\nL 12.890625 25.390625 \r\nL 37.796875 25.390625 \r\nz\r\nM 35.203125 72.90625 \r\nL 47.609375 72.90625 \r\nL 47.609375 25.390625 \r\nL 58.015625 25.390625 \r\nL 58.015625 17.1875 \r\nL 47.609375 17.1875 \r\nL 47.609375 0 \r\nL 37.796875 0 \r\nL 37.796875 17.1875 \r\nL 4.890625 17.1875 \r\nL 4.890625 26.703125 \r\nz\r\n\" id=\"DejaVuSans-52\"/>\r\n       </defs>\r\n       <use xlink:href=\"#DejaVuSans-48\"/>\r\n       <use x=\"63.623047\" xlink:href=\"#DejaVuSans-46\"/>\r\n       <use x=\"95.410156\" xlink:href=\"#DejaVuSans-52\"/>\r\n      </g>\r\n     </g>\r\n    </g>\r\n    <g id=\"ytick_5\">\r\n     <g id=\"line2d_13\">\r\n      <g>\r\n       <use style=\"stroke:#000000;stroke-width:0.8;\" x=\"43.78125\" xlink:href=\"#m0fa69951aa\" y=\"41.415312\"/>\r\n      </g>\r\n     </g>\r\n     <g id=\"text_14\">\r\n      <!-- 0.5 -->\r\n      <g transform=\"translate(20.878125 45.214531)scale(0.1 -0.1)\">\r\n       <use xlink:href=\"#DejaVuSans-48\"/>\r\n       <use x=\"63.623047\" xlink:href=\"#DejaVuSans-46\"/>\r\n       <use x=\"95.410156\" xlink:href=\"#DejaVuSans-53\"/>\r\n      </g>\r\n     </g>\r\n    </g>\r\n    <g id=\"text_15\">\r\n     <!-- accuracy -->\r\n     <g transform=\"translate(14.798438 153.5975)rotate(-90)scale(0.1 -0.1)\">\r\n      <defs>\r\n       <path d=\"M 34.28125 27.484375 \r\nQ 23.390625 27.484375 19.1875 25 \r\nQ 14.984375 22.515625 14.984375 16.5 \r\nQ 14.984375 11.71875 18.140625 8.90625 \r\nQ 21.296875 6.109375 26.703125 6.109375 \r\nQ 34.1875 6.109375 38.703125 11.40625 \r\nQ 43.21875 16.703125 43.21875 25.484375 \r\nL 43.21875 27.484375 \r\nz\r\nM 52.203125 31.203125 \r\nL 52.203125 0 \r\nL 43.21875 0 \r\nL 43.21875 8.296875 \r\nQ 40.140625 3.328125 35.546875 0.953125 \r\nQ 30.953125 -1.421875 24.3125 -1.421875 \r\nQ 15.921875 -1.421875 10.953125 3.296875 \r\nQ 6 8.015625 6 15.921875 \r\nQ 6 25.140625 12.171875 29.828125 \r\nQ 18.359375 34.515625 30.609375 34.515625 \r\nL 43.21875 34.515625 \r\nL 43.21875 35.40625 \r\nQ 43.21875 41.609375 39.140625 45 \r\nQ 35.0625 48.390625 27.6875 48.390625 \r\nQ 23 48.390625 18.546875 47.265625 \r\nQ 14.109375 46.140625 10.015625 43.890625 \r\nL 10.015625 52.203125 \r\nQ 14.9375 54.109375 19.578125 55.046875 \r\nQ 24.21875 56 28.609375 56 \r\nQ 40.484375 56 46.34375 49.84375 \r\nQ 52.203125 43.703125 52.203125 31.203125 \r\nz\r\n\" id=\"DejaVuSans-97\"/>\r\n       <path d=\"M 8.5 21.578125 \r\nL 8.5 54.6875 \r\nL 17.484375 54.6875 \r\nL 17.484375 21.921875 \r\nQ 17.484375 14.15625 20.5 10.265625 \r\nQ 23.53125 6.390625 29.59375 6.390625 \r\nQ 36.859375 6.390625 41.078125 11.03125 \r\nQ 45.3125 15.671875 45.3125 23.6875 \r\nL 45.3125 54.6875 \r\nL 54.296875 54.6875 \r\nL 54.296875 0 \r\nL 45.3125 0 \r\nL 45.3125 8.40625 \r\nQ 42.046875 3.421875 37.71875 1 \r\nQ 33.40625 -1.421875 27.6875 -1.421875 \r\nQ 18.265625 -1.421875 13.375 4.4375 \r\nQ 8.5 10.296875 8.5 21.578125 \r\nz\r\nM 31.109375 56 \r\nz\r\n\" id=\"DejaVuSans-117\"/>\r\n       <path d=\"M 41.109375 46.296875 \r\nQ 39.59375 47.171875 37.8125 47.578125 \r\nQ 36.03125 48 33.890625 48 \r\nQ 26.265625 48 22.1875 43.046875 \r\nQ 18.109375 38.09375 18.109375 28.8125 \r\nL 18.109375 0 \r\nL 9.078125 0 \r\nL 9.078125 54.6875 \r\nL 18.109375 54.6875 \r\nL 18.109375 46.1875 \r\nQ 20.953125 51.171875 25.484375 53.578125 \r\nQ 30.03125 56 36.53125 56 \r\nQ 37.453125 56 38.578125 55.875 \r\nQ 39.703125 55.765625 41.0625 55.515625 \r\nz\r\n\" id=\"DejaVuSans-114\"/>\r\n       <path d=\"M 32.171875 -5.078125 \r\nQ 28.375 -14.84375 24.75 -17.8125 \r\nQ 21.140625 -20.796875 15.09375 -20.796875 \r\nL 7.90625 -20.796875 \r\nL 7.90625 -13.28125 \r\nL 13.1875 -13.28125 \r\nQ 16.890625 -13.28125 18.9375 -11.515625 \r\nQ 21 -9.765625 23.484375 -3.21875 \r\nL 25.09375 0.875 \r\nL 2.984375 54.6875 \r\nL 12.5 54.6875 \r\nL 29.59375 11.921875 \r\nL 46.6875 54.6875 \r\nL 56.203125 54.6875 \r\nz\r\n\" id=\"DejaVuSans-121\"/>\r\n      </defs>\r\n      <use xlink:href=\"#DejaVuSans-97\"/>\r\n      <use x=\"61.279297\" xlink:href=\"#DejaVuSans-99\"/>\r\n      <use x=\"116.259766\" xlink:href=\"#DejaVuSans-99\"/>\r\n      <use x=\"171.240234\" xlink:href=\"#DejaVuSans-117\"/>\r\n      <use x=\"234.619141\" xlink:href=\"#DejaVuSans-114\"/>\r\n      <use x=\"275.732422\" xlink:href=\"#DejaVuSans-97\"/>\r\n      <use x=\"337.011719\" xlink:href=\"#DejaVuSans-99\"/>\r\n      <use x=\"391.992188\" xlink:href=\"#DejaVuSans-121\"/>\r\n     </g>\r\n    </g>\r\n   </g>\r\n   <g id=\"line2d_14\">\r\n    <path clip-path=\"url(#pe36849c4af)\" d=\"M 58.999432 87.483109 \r\nL 75.018571 216.47295 \r\nL 91.037709 142.76447 \r\nL 107.056848 179.618708 \r\nL 123.075987 124.337354 \r\nL 139.095126 179.618708 \r\nL 155.114264 179.618708 \r\nL 171.133403 142.76447 \r\nL 187.152542 142.76447 \r\nL 203.171681 179.618708 \r\nL 219.190819 179.618708 \r\nL 235.209958 179.618708 \r\nL 251.229097 87.483109 \r\nL 267.248236 87.483109 \r\nL 283.267374 87.483109 \r\nL 299.286513 87.483109 \r\nL 315.305652 32.201761 \r\nL 331.324791 142.76447 \r\nL 347.343929 142.76447 \r\nL 363.363068 142.76447 \r\n\" style=\"fill:none;stroke:#1f77b4;stroke-linecap:square;stroke-width:1.5;\"/>\r\n   </g>\r\n   <g id=\"line2d_15\">\r\n    <path clip-path=\"url(#pe36849c4af)\" d=\"M 58.999432 187.99467 \r\nL 75.018571 229.874489 \r\nL 91.037709 146.114852 \r\nL 107.056848 229.874489 \r\nL 123.075987 146.114852 \r\nL 139.095126 146.114852 \r\nL 155.114264 229.874489 \r\nL 171.133403 229.874489 \r\nL 187.152542 146.114852 \r\nL 203.171681 146.114852 \r\nL 219.190819 146.114852 \r\nL 235.209958 62.355215 \r\nL 251.229097 62.355215 \r\nL 267.248236 62.355215 \r\nL 283.267374 62.355215 \r\nL 299.286513 62.355215 \r\nL 315.305652 229.874489 \r\nL 331.324791 229.874489 \r\nL 347.343929 187.99467 \r\nL 363.363068 62.355215 \r\n\" style=\"fill:none;stroke:#ff7f0e;stroke-linecap:square;stroke-width:1.5;\"/>\r\n   </g>\r\n   <g id=\"patch_3\">\r\n    <path d=\"M 43.78125 239.758125 \r\nL 43.78125 22.318125 \r\n\" style=\"fill:none;stroke:#000000;stroke-linecap:square;stroke-linejoin:miter;stroke-width:0.8;\"/>\r\n   </g>\r\n   <g id=\"patch_4\">\r\n    <path d=\"M 378.58125 239.758125 \r\nL 378.58125 22.318125 \r\n\" style=\"fill:none;stroke:#000000;stroke-linecap:square;stroke-linejoin:miter;stroke-width:0.8;\"/>\r\n   </g>\r\n   <g id=\"patch_5\">\r\n    <path d=\"M 43.78125 239.758125 \r\nL 378.58125 239.758125 \r\n\" style=\"fill:none;stroke:#000000;stroke-linecap:square;stroke-linejoin:miter;stroke-width:0.8;\"/>\r\n   </g>\r\n   <g id=\"patch_6\">\r\n    <path d=\"M 43.78125 22.318125 \r\nL 378.58125 22.318125 \r\n\" style=\"fill:none;stroke:#000000;stroke-linecap:square;stroke-linejoin:miter;stroke-width:0.8;\"/>\r\n   </g>\r\n   <g id=\"text_16\">\r\n    <!-- model accuracy -->\r\n    <g transform=\"translate(163.519688 16.318125)scale(0.12 -0.12)\">\r\n     <defs>\r\n      <path d=\"M 52 44.1875 \r\nQ 55.375 50.25 60.0625 53.125 \r\nQ 64.75 56 71.09375 56 \r\nQ 79.640625 56 84.28125 50.015625 \r\nQ 88.921875 44.046875 88.921875 33.015625 \r\nL 88.921875 0 \r\nL 79.890625 0 \r\nL 79.890625 32.71875 \r\nQ 79.890625 40.578125 77.09375 44.375 \r\nQ 74.3125 48.1875 68.609375 48.1875 \r\nQ 61.625 48.1875 57.5625 43.546875 \r\nQ 53.515625 38.921875 53.515625 30.90625 \r\nL 53.515625 0 \r\nL 44.484375 0 \r\nL 44.484375 32.71875 \r\nQ 44.484375 40.625 41.703125 44.40625 \r\nQ 38.921875 48.1875 33.109375 48.1875 \r\nQ 26.21875 48.1875 22.15625 43.53125 \r\nQ 18.109375 38.875 18.109375 30.90625 \r\nL 18.109375 0 \r\nL 9.078125 0 \r\nL 9.078125 54.6875 \r\nL 18.109375 54.6875 \r\nL 18.109375 46.1875 \r\nQ 21.1875 51.21875 25.484375 53.609375 \r\nQ 29.78125 56 35.6875 56 \r\nQ 41.65625 56 45.828125 52.96875 \r\nQ 50 49.953125 52 44.1875 \r\nz\r\n\" id=\"DejaVuSans-109\"/>\r\n      <path d=\"M 45.40625 46.390625 \r\nL 45.40625 75.984375 \r\nL 54.390625 75.984375 \r\nL 54.390625 0 \r\nL 45.40625 0 \r\nL 45.40625 8.203125 \r\nQ 42.578125 3.328125 38.25 0.953125 \r\nQ 33.9375 -1.421875 27.875 -1.421875 \r\nQ 17.96875 -1.421875 11.734375 6.484375 \r\nQ 5.515625 14.40625 5.515625 27.296875 \r\nQ 5.515625 40.1875 11.734375 48.09375 \r\nQ 17.96875 56 27.875 56 \r\nQ 33.9375 56 38.25 53.625 \r\nQ 42.578125 51.265625 45.40625 46.390625 \r\nz\r\nM 14.796875 27.296875 \r\nQ 14.796875 17.390625 18.875 11.75 \r\nQ 22.953125 6.109375 30.078125 6.109375 \r\nQ 37.203125 6.109375 41.296875 11.75 \r\nQ 45.40625 17.390625 45.40625 27.296875 \r\nQ 45.40625 37.203125 41.296875 42.84375 \r\nQ 37.203125 48.484375 30.078125 48.484375 \r\nQ 22.953125 48.484375 18.875 42.84375 \r\nQ 14.796875 37.203125 14.796875 27.296875 \r\nz\r\n\" id=\"DejaVuSans-100\"/>\r\n      <path d=\"M 9.421875 75.984375 \r\nL 18.40625 75.984375 \r\nL 18.40625 0 \r\nL 9.421875 0 \r\nz\r\n\" id=\"DejaVuSans-108\"/>\r\n      <path id=\"DejaVuSans-32\"/>\r\n     </defs>\r\n     <use xlink:href=\"#DejaVuSans-109\"/>\r\n     <use x=\"97.412109\" xlink:href=\"#DejaVuSans-111\"/>\r\n     <use x=\"158.59375\" xlink:href=\"#DejaVuSans-100\"/>\r\n     <use x=\"222.070312\" xlink:href=\"#DejaVuSans-101\"/>\r\n     <use x=\"283.59375\" xlink:href=\"#DejaVuSans-108\"/>\r\n     <use x=\"311.376953\" xlink:href=\"#DejaVuSans-32\"/>\r\n     <use x=\"343.164062\" xlink:href=\"#DejaVuSans-97\"/>\r\n     <use x=\"404.443359\" xlink:href=\"#DejaVuSans-99\"/>\r\n     <use x=\"459.423828\" xlink:href=\"#DejaVuSans-99\"/>\r\n     <use x=\"514.404297\" xlink:href=\"#DejaVuSans-117\"/>\r\n     <use x=\"577.783203\" xlink:href=\"#DejaVuSans-114\"/>\r\n     <use x=\"618.896484\" xlink:href=\"#DejaVuSans-97\"/>\r\n     <use x=\"680.175781\" xlink:href=\"#DejaVuSans-99\"/>\r\n     <use x=\"735.15625\" xlink:href=\"#DejaVuSans-121\"/>\r\n    </g>\r\n   </g>\r\n   <g id=\"legend_1\">\r\n    <g id=\"patch_7\">\r\n     <path d=\"M 50.78125 59.674375 \r\nL 106.05625 59.674375 \r\nQ 108.05625 59.674375 108.05625 57.674375 \r\nL 108.05625 29.318125 \r\nQ 108.05625 27.318125 106.05625 27.318125 \r\nL 50.78125 27.318125 \r\nQ 48.78125 27.318125 48.78125 29.318125 \r\nL 48.78125 57.674375 \r\nQ 48.78125 59.674375 50.78125 59.674375 \r\nz\r\n\" style=\"fill:#ffffff;opacity:0.8;stroke:#cccccc;stroke-linejoin:miter;\"/>\r\n    </g>\r\n    <g id=\"line2d_16\">\r\n     <path d=\"M 52.78125 35.416562 \r\nL 72.78125 35.416562 \r\n\" style=\"fill:none;stroke:#1f77b4;stroke-linecap:square;stroke-width:1.5;\"/>\r\n    </g>\r\n    <g id=\"line2d_17\"/>\r\n    <g id=\"text_17\">\r\n     <!-- train -->\r\n     <g transform=\"translate(80.78125 38.916562)scale(0.1 -0.1)\">\r\n      <defs>\r\n       <path d=\"M 18.3125 70.21875 \r\nL 18.3125 54.6875 \r\nL 36.8125 54.6875 \r\nL 36.8125 47.703125 \r\nL 18.3125 47.703125 \r\nL 18.3125 18.015625 \r\nQ 18.3125 11.328125 20.140625 9.421875 \r\nQ 21.96875 7.515625 27.59375 7.515625 \r\nL 36.8125 7.515625 \r\nL 36.8125 0 \r\nL 27.59375 0 \r\nQ 17.1875 0 13.234375 3.875 \r\nQ 9.28125 7.765625 9.28125 18.015625 \r\nL 9.28125 47.703125 \r\nL 2.6875 47.703125 \r\nL 2.6875 54.6875 \r\nL 9.28125 54.6875 \r\nL 9.28125 70.21875 \r\nz\r\n\" id=\"DejaVuSans-116\"/>\r\n       <path d=\"M 9.421875 54.6875 \r\nL 18.40625 54.6875 \r\nL 18.40625 0 \r\nL 9.421875 0 \r\nz\r\nM 9.421875 75.984375 \r\nL 18.40625 75.984375 \r\nL 18.40625 64.59375 \r\nL 9.421875 64.59375 \r\nz\r\n\" id=\"DejaVuSans-105\"/>\r\n       <path d=\"M 54.890625 33.015625 \r\nL 54.890625 0 \r\nL 45.90625 0 \r\nL 45.90625 32.71875 \r\nQ 45.90625 40.484375 42.875 44.328125 \r\nQ 39.84375 48.1875 33.796875 48.1875 \r\nQ 26.515625 48.1875 22.3125 43.546875 \r\nQ 18.109375 38.921875 18.109375 30.90625 \r\nL 18.109375 0 \r\nL 9.078125 0 \r\nL 9.078125 54.6875 \r\nL 18.109375 54.6875 \r\nL 18.109375 46.1875 \r\nQ 21.34375 51.125 25.703125 53.5625 \r\nQ 30.078125 56 35.796875 56 \r\nQ 45.21875 56 50.046875 50.171875 \r\nQ 54.890625 44.34375 54.890625 33.015625 \r\nz\r\n\" id=\"DejaVuSans-110\"/>\r\n      </defs>\r\n      <use xlink:href=\"#DejaVuSans-116\"/>\r\n      <use x=\"39.208984\" xlink:href=\"#DejaVuSans-114\"/>\r\n      <use x=\"80.322266\" xlink:href=\"#DejaVuSans-97\"/>\r\n      <use x=\"141.601562\" xlink:href=\"#DejaVuSans-105\"/>\r\n      <use x=\"169.384766\" xlink:href=\"#DejaVuSans-110\"/>\r\n     </g>\r\n    </g>\r\n    <g id=\"line2d_18\">\r\n     <path d=\"M 52.78125 50.094687 \r\nL 72.78125 50.094687 \r\n\" style=\"fill:none;stroke:#ff7f0e;stroke-linecap:square;stroke-width:1.5;\"/>\r\n    </g>\r\n    <g id=\"line2d_19\"/>\r\n    <g id=\"text_18\">\r\n     <!-- test -->\r\n     <g transform=\"translate(80.78125 53.594687)scale(0.1 -0.1)\">\r\n      <defs>\r\n       <path d=\"M 44.28125 53.078125 \r\nL 44.28125 44.578125 \r\nQ 40.484375 46.53125 36.375 47.5 \r\nQ 32.28125 48.484375 27.875 48.484375 \r\nQ 21.1875 48.484375 17.84375 46.4375 \r\nQ 14.5 44.390625 14.5 40.28125 \r\nQ 14.5 37.15625 16.890625 35.375 \r\nQ 19.28125 33.59375 26.515625 31.984375 \r\nL 29.59375 31.296875 \r\nQ 39.15625 29.25 43.1875 25.515625 \r\nQ 47.21875 21.78125 47.21875 15.09375 \r\nQ 47.21875 7.46875 41.1875 3.015625 \r\nQ 35.15625 -1.421875 24.609375 -1.421875 \r\nQ 20.21875 -1.421875 15.453125 -0.5625 \r\nQ 10.6875 0.296875 5.421875 2 \r\nL 5.421875 11.28125 \r\nQ 10.40625 8.6875 15.234375 7.390625 \r\nQ 20.0625 6.109375 24.8125 6.109375 \r\nQ 31.15625 6.109375 34.5625 8.28125 \r\nQ 37.984375 10.453125 37.984375 14.40625 \r\nQ 37.984375 18.0625 35.515625 20.015625 \r\nQ 33.0625 21.96875 24.703125 23.78125 \r\nL 21.578125 24.515625 \r\nQ 13.234375 26.265625 9.515625 29.90625 \r\nQ 5.8125 33.546875 5.8125 39.890625 \r\nQ 5.8125 47.609375 11.28125 51.796875 \r\nQ 16.75 56 26.8125 56 \r\nQ 31.78125 56 36.171875 55.265625 \r\nQ 40.578125 54.546875 44.28125 53.078125 \r\nz\r\n\" id=\"DejaVuSans-115\"/>\r\n      </defs>\r\n      <use xlink:href=\"#DejaVuSans-116\"/>\r\n      <use x=\"39.208984\" xlink:href=\"#DejaVuSans-101\"/>\r\n      <use x=\"100.732422\" xlink:href=\"#DejaVuSans-115\"/>\r\n      <use x=\"152.832031\" xlink:href=\"#DejaVuSans-116\"/>\r\n     </g>\r\n    </g>\r\n   </g>\r\n  </g>\r\n </g>\r\n <defs>\r\n  <clipPath id=\"pe36849c4af\">\r\n   <rect height=\"217.44\" width=\"334.8\" x=\"43.78125\" y=\"22.318125\"/>\r\n  </clipPath>\r\n </defs>\r\n</svg>\r\n",
      "image/png": "[encoded data removed]"
     },
     "metadata": {
      "needs_background": "light"
     }
    },
    {
     "output_type": "display_data",
     "data": {
      "text/plain": "<Figure size 432x288 with 1 Axes>",
      "image/svg+xml": "<?xml version=\"1.0\" encoding=\"utf-8\" standalone=\"no\"?>\r\n<!DOCTYPE svg PUBLIC \"-//W3C//DTD SVG 1.1//EN\"\r\n  \"http://www.w3.org/Graphics/SVG/1.1/DTD/svg11.dtd\">\r\n<!-- Created with matplotlib (https://matplotlib.org/) -->\r\n<svg height=\"277.314375pt\" version=\"1.1\" viewBox=\"0 0 401.690625 277.314375\" width=\"401.690625pt\" xmlns=\"http://www.w3.org/2000/svg\" xmlns:xlink=\"http://www.w3.org/1999/xlink\">\r\n <metadata>\r\n  <rdf:RDF xmlns:cc=\"http://creativecommons.org/ns#\" xmlns:dc=\"http://purl.org/dc/elements/1.1/\" xmlns:rdf=\"http://www.w3.org/1999/02/22-rdf-syntax-ns#\">\r\n   <cc:Work>\r\n    <dc:type rdf:resource=\"http://purl.org/dc/dcmitype/StillImage\"/>\r\n    <dc:date>2021-02-28T17:31:15.630807</dc:date>\r\n    <dc:format>image/svg+xml</dc:format>\r\n    <dc:creator>\r\n     <cc:Agent>\r\n      <dc:title>Matplotlib v3.3.3, https://matplotlib.org/</dc:title>\r\n     </cc:Agent>\r\n    </dc:creator>\r\n   </cc:Work>\r\n  </rdf:RDF>\r\n </metadata>\r\n <defs>\r\n  <style type=\"text/css\">*{stroke-linecap:butt;stroke-linejoin:round;}</style>\r\n </defs>\r\n <g id=\"figure_1\">\r\n  <g id=\"patch_1\">\r\n   <path d=\"M 0 277.314375 \r\nL 401.690625 277.314375 \r\nL 401.690625 0 \r\nL 0 0 \r\nz\r\n\" style=\"fill:none;\"/>\r\n  </g>\r\n  <g id=\"axes_1\">\r\n   <g id=\"patch_2\">\r\n    <path d=\"M 59.690625 239.758125 \r\nL 394.490625 239.758125 \r\nL 394.490625 22.318125 \r\nL 59.690625 22.318125 \r\nz\r\n\" style=\"fill:#ffffff;\"/>\r\n   </g>\r\n   <g id=\"matplotlib.axis_1\">\r\n    <g id=\"xtick_1\">\r\n     <g id=\"line2d_1\">\r\n      <defs>\r\n       <path d=\"M 0 0 \r\nL 0 3.5 \r\n\" id=\"m2cfbb2db9c\" style=\"stroke:#000000;stroke-width:0.8;\"/>\r\n      </defs>\r\n      <g>\r\n       <use style=\"stroke:#000000;stroke-width:0.8;\" x=\"74.908807\" xlink:href=\"#m2cfbb2db9c\" y=\"239.758125\"/>\r\n      </g>\r\n     </g>\r\n     <g id=\"text_1\">\r\n      <!-- 0.0 -->\r\n      <g transform=\"translate(66.957244 254.356562)scale(0.1 -0.1)\">\r\n       <defs>\r\n        <path d=\"M 31.78125 66.40625 \r\nQ 24.171875 66.40625 20.328125 58.90625 \r\nQ 16.5 51.421875 16.5 36.375 \r\nQ 16.5 21.390625 20.328125 13.890625 \r\nQ 24.171875 6.390625 31.78125 6.390625 \r\nQ 39.453125 6.390625 43.28125 13.890625 \r\nQ 47.125 21.390625 47.125 36.375 \r\nQ 47.125 51.421875 43.28125 58.90625 \r\nQ 39.453125 66.40625 31.78125 66.40625 \r\nz\r\nM 31.78125 74.21875 \r\nQ 44.046875 74.21875 50.515625 64.515625 \r\nQ 56.984375 54.828125 56.984375 36.375 \r\nQ 56.984375 17.96875 50.515625 8.265625 \r\nQ 44.046875 -1.421875 31.78125 -1.421875 \r\nQ 19.53125 -1.421875 13.0625 8.265625 \r\nQ 6.59375 17.96875 6.59375 36.375 \r\nQ 6.59375 54.828125 13.0625 64.515625 \r\nQ 19.53125 74.21875 31.78125 74.21875 \r\nz\r\n\" id=\"DejaVuSans-48\"/>\r\n        <path d=\"M 10.6875 12.40625 \r\nL 21 12.40625 \r\nL 21 0 \r\nL 10.6875 0 \r\nz\r\n\" id=\"DejaVuSans-46\"/>\r\n       </defs>\r\n       <use xlink:href=\"#DejaVuSans-48\"/>\r\n       <use x=\"63.623047\" xlink:href=\"#DejaVuSans-46\"/>\r\n       <use x=\"95.410156\" xlink:href=\"#DejaVuSans-48\"/>\r\n      </g>\r\n     </g>\r\n    </g>\r\n    <g id=\"xtick_2\">\r\n     <g id=\"line2d_2\">\r\n      <g>\r\n       <use style=\"stroke:#000000;stroke-width:0.8;\" x=\"114.956654\" xlink:href=\"#m2cfbb2db9c\" y=\"239.758125\"/>\r\n      </g>\r\n     </g>\r\n     <g id=\"text_2\">\r\n      <!-- 2.5 -->\r\n      <g transform=\"translate(107.005091 254.356562)scale(0.1 -0.1)\">\r\n       <defs>\r\n        <path d=\"M 19.1875 8.296875 \r\nL 53.609375 8.296875 \r\nL 53.609375 0 \r\nL 7.328125 0 \r\nL 7.328125 8.296875 \r\nQ 12.9375 14.109375 22.625 23.890625 \r\nQ 32.328125 33.6875 34.8125 36.53125 \r\nQ 39.546875 41.84375 41.421875 45.53125 \r\nQ 43.3125 49.21875 43.3125 52.78125 \r\nQ 43.3125 58.59375 39.234375 62.25 \r\nQ 35.15625 65.921875 28.609375 65.921875 \r\nQ 23.96875 65.921875 18.8125 64.3125 \r\nQ 13.671875 62.703125 7.8125 59.421875 \r\nL 7.8125 69.390625 \r\nQ 13.765625 71.78125 18.9375 73 \r\nQ 24.125 74.21875 28.421875 74.21875 \r\nQ 39.75 74.21875 46.484375 68.546875 \r\nQ 53.21875 62.890625 53.21875 53.421875 \r\nQ 53.21875 48.921875 51.53125 44.890625 \r\nQ 49.859375 40.875 45.40625 35.40625 \r\nQ 44.1875 33.984375 37.640625 27.21875 \r\nQ 31.109375 20.453125 19.1875 8.296875 \r\nz\r\n\" id=\"DejaVuSans-50\"/>\r\n        <path d=\"M 10.796875 72.90625 \r\nL 49.515625 72.90625 \r\nL 49.515625 64.59375 \r\nL 19.828125 64.59375 \r\nL 19.828125 46.734375 \r\nQ 21.96875 47.46875 24.109375 47.828125 \r\nQ 26.265625 48.1875 28.421875 48.1875 \r\nQ 40.625 48.1875 47.75 41.5 \r\nQ 54.890625 34.8125 54.890625 23.390625 \r\nQ 54.890625 11.625 47.5625 5.09375 \r\nQ 40.234375 -1.421875 26.90625 -1.421875 \r\nQ 22.3125 -1.421875 17.546875 -0.640625 \r\nQ 12.796875 0.140625 7.71875 1.703125 \r\nL 7.71875 11.625 \r\nQ 12.109375 9.234375 16.796875 8.0625 \r\nQ 21.484375 6.890625 26.703125 6.890625 \r\nQ 35.15625 6.890625 40.078125 11.328125 \r\nQ 45.015625 15.765625 45.015625 23.390625 \r\nQ 45.015625 31 40.078125 35.4375 \r\nQ 35.15625 39.890625 26.703125 39.890625 \r\nQ 22.75 39.890625 18.8125 39.015625 \r\nQ 14.890625 38.140625 10.796875 36.28125 \r\nz\r\n\" id=\"DejaVuSans-53\"/>\r\n       </defs>\r\n       <use xlink:href=\"#DejaVuSans-50\"/>\r\n       <use x=\"63.623047\" xlink:href=\"#DejaVuSans-46\"/>\r\n       <use x=\"95.410156\" xlink:href=\"#DejaVuSans-53\"/>\r\n      </g>\r\n     </g>\r\n    </g>\r\n    <g id=\"xtick_3\">\r\n     <g id=\"line2d_3\">\r\n      <g>\r\n       <use style=\"stroke:#000000;stroke-width:0.8;\" x=\"155.004501\" xlink:href=\"#m2cfbb2db9c\" y=\"239.758125\"/>\r\n      </g>\r\n     </g>\r\n     <g id=\"text_3\">\r\n      <!-- 5.0 -->\r\n      <g transform=\"translate(147.052938 254.356562)scale(0.1 -0.1)\">\r\n       <use xlink:href=\"#DejaVuSans-53\"/>\r\n       <use x=\"63.623047\" xlink:href=\"#DejaVuSans-46\"/>\r\n       <use x=\"95.410156\" xlink:href=\"#DejaVuSans-48\"/>\r\n      </g>\r\n     </g>\r\n    </g>\r\n    <g id=\"xtick_4\">\r\n     <g id=\"line2d_4\">\r\n      <g>\r\n       <use style=\"stroke:#000000;stroke-width:0.8;\" x=\"195.052347\" xlink:href=\"#m2cfbb2db9c\" y=\"239.758125\"/>\r\n      </g>\r\n     </g>\r\n     <g id=\"text_4\">\r\n      <!-- 7.5 -->\r\n      <g transform=\"translate(187.100785 254.356562)scale(0.1 -0.1)\">\r\n       <defs>\r\n        <path d=\"M 8.203125 72.90625 \r\nL 55.078125 72.90625 \r\nL 55.078125 68.703125 \r\nL 28.609375 0 \r\nL 18.3125 0 \r\nL 43.21875 64.59375 \r\nL 8.203125 64.59375 \r\nz\r\n\" id=\"DejaVuSans-55\"/>\r\n       </defs>\r\n       <use xlink:href=\"#DejaVuSans-55\"/>\r\n       <use x=\"63.623047\" xlink:href=\"#DejaVuSans-46\"/>\r\n       <use x=\"95.410156\" xlink:href=\"#DejaVuSans-53\"/>\r\n      </g>\r\n     </g>\r\n    </g>\r\n    <g id=\"xtick_5\">\r\n     <g id=\"line2d_5\">\r\n      <g>\r\n       <use style=\"stroke:#000000;stroke-width:0.8;\" x=\"235.100194\" xlink:href=\"#m2cfbb2db9c\" y=\"239.758125\"/>\r\n      </g>\r\n     </g>\r\n     <g id=\"text_5\">\r\n      <!-- 10.0 -->\r\n      <g transform=\"translate(223.967382 254.356562)scale(0.1 -0.1)\">\r\n       <defs>\r\n        <path d=\"M 12.40625 8.296875 \r\nL 28.515625 8.296875 \r\nL 28.515625 63.921875 \r\nL 10.984375 60.40625 \r\nL 10.984375 69.390625 \r\nL 28.421875 72.90625 \r\nL 38.28125 72.90625 \r\nL 38.28125 8.296875 \r\nL 54.390625 8.296875 \r\nL 54.390625 0 \r\nL 12.40625 0 \r\nz\r\n\" id=\"DejaVuSans-49\"/>\r\n       </defs>\r\n       <use xlink:href=\"#DejaVuSans-49\"/>\r\n       <use x=\"63.623047\" xlink:href=\"#DejaVuSans-48\"/>\r\n       <use x=\"127.246094\" xlink:href=\"#DejaVuSans-46\"/>\r\n       <use x=\"159.033203\" xlink:href=\"#DejaVuSans-48\"/>\r\n      </g>\r\n     </g>\r\n    </g>\r\n    <g id=\"xtick_6\">\r\n     <g id=\"line2d_6\">\r\n      <g>\r\n       <use style=\"stroke:#000000;stroke-width:0.8;\" x=\"275.148041\" xlink:href=\"#m2cfbb2db9c\" y=\"239.758125\"/>\r\n      </g>\r\n     </g>\r\n     <g id=\"text_6\">\r\n      <!-- 12.5 -->\r\n      <g transform=\"translate(264.015229 254.356562)scale(0.1 -0.1)\">\r\n       <use xlink:href=\"#DejaVuSans-49\"/>\r\n       <use x=\"63.623047\" xlink:href=\"#DejaVuSans-50\"/>\r\n       <use x=\"127.246094\" xlink:href=\"#DejaVuSans-46\"/>\r\n       <use x=\"159.033203\" xlink:href=\"#DejaVuSans-53\"/>\r\n      </g>\r\n     </g>\r\n    </g>\r\n    <g id=\"xtick_7\">\r\n     <g id=\"line2d_7\">\r\n      <g>\r\n       <use style=\"stroke:#000000;stroke-width:0.8;\" x=\"315.195888\" xlink:href=\"#m2cfbb2db9c\" y=\"239.758125\"/>\r\n      </g>\r\n     </g>\r\n     <g id=\"text_7\">\r\n      <!-- 15.0 -->\r\n      <g transform=\"translate(304.063076 254.356562)scale(0.1 -0.1)\">\r\n       <use xlink:href=\"#DejaVuSans-49\"/>\r\n       <use x=\"63.623047\" xlink:href=\"#DejaVuSans-53\"/>\r\n       <use x=\"127.246094\" xlink:href=\"#DejaVuSans-46\"/>\r\n       <use x=\"159.033203\" xlink:href=\"#DejaVuSans-48\"/>\r\n      </g>\r\n     </g>\r\n    </g>\r\n    <g id=\"xtick_8\">\r\n     <g id=\"line2d_8\">\r\n      <g>\r\n       <use style=\"stroke:#000000;stroke-width:0.8;\" x=\"355.243735\" xlink:href=\"#m2cfbb2db9c\" y=\"239.758125\"/>\r\n      </g>\r\n     </g>\r\n     <g id=\"text_8\">\r\n      <!-- 17.5 -->\r\n      <g transform=\"translate(344.110923 254.356562)scale(0.1 -0.1)\">\r\n       <use xlink:href=\"#DejaVuSans-49\"/>\r\n       <use x=\"63.623047\" xlink:href=\"#DejaVuSans-55\"/>\r\n       <use x=\"127.246094\" xlink:href=\"#DejaVuSans-46\"/>\r\n       <use x=\"159.033203\" xlink:href=\"#DejaVuSans-53\"/>\r\n      </g>\r\n     </g>\r\n    </g>\r\n    <g id=\"text_9\">\r\n     <!-- epoch -->\r\n     <g transform=\"translate(211.8625 268.034687)scale(0.1 -0.1)\">\r\n      <defs>\r\n       <path d=\"M 56.203125 29.59375 \r\nL 56.203125 25.203125 \r\nL 14.890625 25.203125 \r\nQ 15.484375 15.921875 20.484375 11.0625 \r\nQ 25.484375 6.203125 34.421875 6.203125 \r\nQ 39.59375 6.203125 44.453125 7.46875 \r\nQ 49.3125 8.734375 54.109375 11.28125 \r\nL 54.109375 2.78125 \r\nQ 49.265625 0.734375 44.1875 -0.34375 \r\nQ 39.109375 -1.421875 33.890625 -1.421875 \r\nQ 20.796875 -1.421875 13.15625 6.1875 \r\nQ 5.515625 13.8125 5.515625 26.8125 \r\nQ 5.515625 40.234375 12.765625 48.109375 \r\nQ 20.015625 56 32.328125 56 \r\nQ 43.359375 56 49.78125 48.890625 \r\nQ 56.203125 41.796875 56.203125 29.59375 \r\nz\r\nM 47.21875 32.234375 \r\nQ 47.125 39.59375 43.09375 43.984375 \r\nQ 39.0625 48.390625 32.421875 48.390625 \r\nQ 24.90625 48.390625 20.390625 44.140625 \r\nQ 15.875 39.890625 15.1875 32.171875 \r\nz\r\n\" id=\"DejaVuSans-101\"/>\r\n       <path d=\"M 18.109375 8.203125 \r\nL 18.109375 -20.796875 \r\nL 9.078125 -20.796875 \r\nL 9.078125 54.6875 \r\nL 18.109375 54.6875 \r\nL 18.109375 46.390625 \r\nQ 20.953125 51.265625 25.265625 53.625 \r\nQ 29.59375 56 35.59375 56 \r\nQ 45.5625 56 51.78125 48.09375 \r\nQ 58.015625 40.1875 58.015625 27.296875 \r\nQ 58.015625 14.40625 51.78125 6.484375 \r\nQ 45.5625 -1.421875 35.59375 -1.421875 \r\nQ 29.59375 -1.421875 25.265625 0.953125 \r\nQ 20.953125 3.328125 18.109375 8.203125 \r\nz\r\nM 48.6875 27.296875 \r\nQ 48.6875 37.203125 44.609375 42.84375 \r\nQ 40.53125 48.484375 33.40625 48.484375 \r\nQ 26.265625 48.484375 22.1875 42.84375 \r\nQ 18.109375 37.203125 18.109375 27.296875 \r\nQ 18.109375 17.390625 22.1875 11.75 \r\nQ 26.265625 6.109375 33.40625 6.109375 \r\nQ 40.53125 6.109375 44.609375 11.75 \r\nQ 48.6875 17.390625 48.6875 27.296875 \r\nz\r\n\" id=\"DejaVuSans-112\"/>\r\n       <path d=\"M 30.609375 48.390625 \r\nQ 23.390625 48.390625 19.1875 42.75 \r\nQ 14.984375 37.109375 14.984375 27.296875 \r\nQ 14.984375 17.484375 19.15625 11.84375 \r\nQ 23.34375 6.203125 30.609375 6.203125 \r\nQ 37.796875 6.203125 41.984375 11.859375 \r\nQ 46.1875 17.53125 46.1875 27.296875 \r\nQ 46.1875 37.015625 41.984375 42.703125 \r\nQ 37.796875 48.390625 30.609375 48.390625 \r\nz\r\nM 30.609375 56 \r\nQ 42.328125 56 49.015625 48.375 \r\nQ 55.71875 40.765625 55.71875 27.296875 \r\nQ 55.71875 13.875 49.015625 6.21875 \r\nQ 42.328125 -1.421875 30.609375 -1.421875 \r\nQ 18.84375 -1.421875 12.171875 6.21875 \r\nQ 5.515625 13.875 5.515625 27.296875 \r\nQ 5.515625 40.765625 12.171875 48.375 \r\nQ 18.84375 56 30.609375 56 \r\nz\r\n\" id=\"DejaVuSans-111\"/>\r\n       <path d=\"M 48.78125 52.59375 \r\nL 48.78125 44.1875 \r\nQ 44.96875 46.296875 41.140625 47.34375 \r\nQ 37.3125 48.390625 33.40625 48.390625 \r\nQ 24.65625 48.390625 19.8125 42.84375 \r\nQ 14.984375 37.3125 14.984375 27.296875 \r\nQ 14.984375 17.28125 19.8125 11.734375 \r\nQ 24.65625 6.203125 33.40625 6.203125 \r\nQ 37.3125 6.203125 41.140625 7.25 \r\nQ 44.96875 8.296875 48.78125 10.40625 \r\nL 48.78125 2.09375 \r\nQ 45.015625 0.34375 40.984375 -0.53125 \r\nQ 36.96875 -1.421875 32.421875 -1.421875 \r\nQ 20.0625 -1.421875 12.78125 6.34375 \r\nQ 5.515625 14.109375 5.515625 27.296875 \r\nQ 5.515625 40.671875 12.859375 48.328125 \r\nQ 20.21875 56 33.015625 56 \r\nQ 37.15625 56 41.109375 55.140625 \r\nQ 45.0625 54.296875 48.78125 52.59375 \r\nz\r\n\" id=\"DejaVuSans-99\"/>\r\n       <path d=\"M 54.890625 33.015625 \r\nL 54.890625 0 \r\nL 45.90625 0 \r\nL 45.90625 32.71875 \r\nQ 45.90625 40.484375 42.875 44.328125 \r\nQ 39.84375 48.1875 33.796875 48.1875 \r\nQ 26.515625 48.1875 22.3125 43.546875 \r\nQ 18.109375 38.921875 18.109375 30.90625 \r\nL 18.109375 0 \r\nL 9.078125 0 \r\nL 9.078125 75.984375 \r\nL 18.109375 75.984375 \r\nL 18.109375 46.1875 \r\nQ 21.34375 51.125 25.703125 53.5625 \r\nQ 30.078125 56 35.796875 56 \r\nQ 45.21875 56 50.046875 50.171875 \r\nQ 54.890625 44.34375 54.890625 33.015625 \r\nz\r\n\" id=\"DejaVuSans-104\"/>\r\n      </defs>\r\n      <use xlink:href=\"#DejaVuSans-101\"/>\r\n      <use x=\"61.523438\" xlink:href=\"#DejaVuSans-112\"/>\r\n      <use x=\"125\" xlink:href=\"#DejaVuSans-111\"/>\r\n      <use x=\"186.181641\" xlink:href=\"#DejaVuSans-99\"/>\r\n      <use x=\"241.162109\" xlink:href=\"#DejaVuSans-104\"/>\r\n     </g>\r\n    </g>\r\n   </g>\r\n   <g id=\"matplotlib.axis_2\">\r\n    <g id=\"ytick_1\">\r\n     <g id=\"line2d_9\">\r\n      <defs>\r\n       <path d=\"M 0 0 \r\nL -3.5 0 \r\n\" id=\"m8bfd459cbd\" style=\"stroke:#000000;stroke-width:0.8;\"/>\r\n      </defs>\r\n      <g>\r\n       <use style=\"stroke:#000000;stroke-width:0.8;\" x=\"59.690625\" xlink:href=\"#m8bfd459cbd\" y=\"229.968862\"/>\r\n      </g>\r\n     </g>\r\n     <g id=\"text_10\">\r\n      <!-- 0 -->\r\n      <g transform=\"translate(46.328125 233.768081)scale(0.1 -0.1)\">\r\n       <use xlink:href=\"#DejaVuSans-48\"/>\r\n      </g>\r\n     </g>\r\n    </g>\r\n    <g id=\"ytick_2\">\r\n     <g id=\"line2d_10\">\r\n      <g>\r\n       <use style=\"stroke:#000000;stroke-width:0.8;\" x=\"59.690625\" xlink:href=\"#m8bfd459cbd\" y=\"204.721921\"/>\r\n      </g>\r\n     </g>\r\n     <g id=\"text_11\">\r\n      <!-- 10000 -->\r\n      <g transform=\"translate(20.878125 208.52114)scale(0.1 -0.1)\">\r\n       <use xlink:href=\"#DejaVuSans-49\"/>\r\n       <use x=\"63.623047\" xlink:href=\"#DejaVuSans-48\"/>\r\n       <use x=\"127.246094\" xlink:href=\"#DejaVuSans-48\"/>\r\n       <use x=\"190.869141\" xlink:href=\"#DejaVuSans-48\"/>\r\n       <use x=\"254.492188\" xlink:href=\"#DejaVuSans-48\"/>\r\n      </g>\r\n     </g>\r\n    </g>\r\n    <g id=\"ytick_3\">\r\n     <g id=\"line2d_11\">\r\n      <g>\r\n       <use style=\"stroke:#000000;stroke-width:0.8;\" x=\"59.690625\" xlink:href=\"#m8bfd459cbd\" y=\"179.47498\"/>\r\n      </g>\r\n     </g>\r\n     <g id=\"text_12\">\r\n      <!-- 20000 -->\r\n      <g transform=\"translate(20.878125 183.274199)scale(0.1 -0.1)\">\r\n       <use xlink:href=\"#DejaVuSans-50\"/>\r\n       <use x=\"63.623047\" xlink:href=\"#DejaVuSans-48\"/>\r\n       <use x=\"127.246094\" xlink:href=\"#DejaVuSans-48\"/>\r\n       <use x=\"190.869141\" xlink:href=\"#DejaVuSans-48\"/>\r\n       <use x=\"254.492188\" xlink:href=\"#DejaVuSans-48\"/>\r\n      </g>\r\n     </g>\r\n    </g>\r\n    <g id=\"ytick_4\">\r\n     <g id=\"line2d_12\">\r\n      <g>\r\n       <use style=\"stroke:#000000;stroke-width:0.8;\" x=\"59.690625\" xlink:href=\"#m8bfd459cbd\" y=\"154.228039\"/>\r\n      </g>\r\n     </g>\r\n     <g id=\"text_13\">\r\n      <!-- 30000 -->\r\n      <g transform=\"translate(20.878125 158.027258)scale(0.1 -0.1)\">\r\n       <defs>\r\n        <path d=\"M 40.578125 39.3125 \r\nQ 47.65625 37.796875 51.625 33 \r\nQ 55.609375 28.21875 55.609375 21.1875 \r\nQ 55.609375 10.40625 48.1875 4.484375 \r\nQ 40.765625 -1.421875 27.09375 -1.421875 \r\nQ 22.515625 -1.421875 17.65625 -0.515625 \r\nQ 12.796875 0.390625 7.625 2.203125 \r\nL 7.625 11.71875 \r\nQ 11.71875 9.328125 16.59375 8.109375 \r\nQ 21.484375 6.890625 26.8125 6.890625 \r\nQ 36.078125 6.890625 40.9375 10.546875 \r\nQ 45.796875 14.203125 45.796875 21.1875 \r\nQ 45.796875 27.640625 41.28125 31.265625 \r\nQ 36.765625 34.90625 28.71875 34.90625 \r\nL 20.21875 34.90625 \r\nL 20.21875 43.015625 \r\nL 29.109375 43.015625 \r\nQ 36.375 43.015625 40.234375 45.921875 \r\nQ 44.09375 48.828125 44.09375 54.296875 \r\nQ 44.09375 59.90625 40.109375 62.90625 \r\nQ 36.140625 65.921875 28.71875 65.921875 \r\nQ 24.65625 65.921875 20.015625 65.03125 \r\nQ 15.375 64.15625 9.8125 62.3125 \r\nL 9.8125 71.09375 \r\nQ 15.4375 72.65625 20.34375 73.4375 \r\nQ 25.25 74.21875 29.59375 74.21875 \r\nQ 40.828125 74.21875 47.359375 69.109375 \r\nQ 53.90625 64.015625 53.90625 55.328125 \r\nQ 53.90625 49.265625 50.4375 45.09375 \r\nQ 46.96875 40.921875 40.578125 39.3125 \r\nz\r\n\" id=\"DejaVuSans-51\"/>\r\n       </defs>\r\n       <use xlink:href=\"#DejaVuSans-51\"/>\r\n       <use x=\"63.623047\" xlink:href=\"#DejaVuSans-48\"/>\r\n       <use x=\"127.246094\" xlink:href=\"#DejaVuSans-48\"/>\r\n       <use x=\"190.869141\" xlink:href=\"#DejaVuSans-48\"/>\r\n       <use x=\"254.492188\" xlink:href=\"#DejaVuSans-48\"/>\r\n      </g>\r\n     </g>\r\n    </g>\r\n    <g id=\"ytick_5\">\r\n     <g id=\"line2d_13\">\r\n      <g>\r\n       <use style=\"stroke:#000000;stroke-width:0.8;\" x=\"59.690625\" xlink:href=\"#m8bfd459cbd\" y=\"128.981098\"/>\r\n      </g>\r\n     </g>\r\n     <g id=\"text_14\">\r\n      <!-- 40000 -->\r\n      <g transform=\"translate(20.878125 132.780316)scale(0.1 -0.1)\">\r\n       <defs>\r\n        <path d=\"M 37.796875 64.3125 \r\nL 12.890625 25.390625 \r\nL 37.796875 25.390625 \r\nz\r\nM 35.203125 72.90625 \r\nL 47.609375 72.90625 \r\nL 47.609375 25.390625 \r\nL 58.015625 25.390625 \r\nL 58.015625 17.1875 \r\nL 47.609375 17.1875 \r\nL 47.609375 0 \r\nL 37.796875 0 \r\nL 37.796875 17.1875 \r\nL 4.890625 17.1875 \r\nL 4.890625 26.703125 \r\nz\r\n\" id=\"DejaVuSans-52\"/>\r\n       </defs>\r\n       <use xlink:href=\"#DejaVuSans-52\"/>\r\n       <use x=\"63.623047\" xlink:href=\"#DejaVuSans-48\"/>\r\n       <use x=\"127.246094\" xlink:href=\"#DejaVuSans-48\"/>\r\n       <use x=\"190.869141\" xlink:href=\"#DejaVuSans-48\"/>\r\n       <use x=\"254.492188\" xlink:href=\"#DejaVuSans-48\"/>\r\n      </g>\r\n     </g>\r\n    </g>\r\n    <g id=\"ytick_6\">\r\n     <g id=\"line2d_14\">\r\n      <g>\r\n       <use style=\"stroke:#000000;stroke-width:0.8;\" x=\"59.690625\" xlink:href=\"#m8bfd459cbd\" y=\"103.734157\"/>\r\n      </g>\r\n     </g>\r\n     <g id=\"text_15\">\r\n      <!-- 50000 -->\r\n      <g transform=\"translate(20.878125 107.533375)scale(0.1 -0.1)\">\r\n       <use xlink:href=\"#DejaVuSans-53\"/>\r\n       <use x=\"63.623047\" xlink:href=\"#DejaVuSans-48\"/>\r\n       <use x=\"127.246094\" xlink:href=\"#DejaVuSans-48\"/>\r\n       <use x=\"190.869141\" xlink:href=\"#DejaVuSans-48\"/>\r\n       <use x=\"254.492188\" xlink:href=\"#DejaVuSans-48\"/>\r\n      </g>\r\n     </g>\r\n    </g>\r\n    <g id=\"ytick_7\">\r\n     <g id=\"line2d_15\">\r\n      <g>\r\n       <use style=\"stroke:#000000;stroke-width:0.8;\" x=\"59.690625\" xlink:href=\"#m8bfd459cbd\" y=\"78.487215\"/>\r\n      </g>\r\n     </g>\r\n     <g id=\"text_16\">\r\n      <!-- 60000 -->\r\n      <g transform=\"translate(20.878125 82.286434)scale(0.1 -0.1)\">\r\n       <defs>\r\n        <path d=\"M 33.015625 40.375 \r\nQ 26.375 40.375 22.484375 35.828125 \r\nQ 18.609375 31.296875 18.609375 23.390625 \r\nQ 18.609375 15.53125 22.484375 10.953125 \r\nQ 26.375 6.390625 33.015625 6.390625 \r\nQ 39.65625 6.390625 43.53125 10.953125 \r\nQ 47.40625 15.53125 47.40625 23.390625 \r\nQ 47.40625 31.296875 43.53125 35.828125 \r\nQ 39.65625 40.375 33.015625 40.375 \r\nz\r\nM 52.59375 71.296875 \r\nL 52.59375 62.3125 \r\nQ 48.875 64.0625 45.09375 64.984375 \r\nQ 41.3125 65.921875 37.59375 65.921875 \r\nQ 27.828125 65.921875 22.671875 59.328125 \r\nQ 17.53125 52.734375 16.796875 39.40625 \r\nQ 19.671875 43.65625 24.015625 45.921875 \r\nQ 28.375 48.1875 33.59375 48.1875 \r\nQ 44.578125 48.1875 50.953125 41.515625 \r\nQ 57.328125 34.859375 57.328125 23.390625 \r\nQ 57.328125 12.15625 50.6875 5.359375 \r\nQ 44.046875 -1.421875 33.015625 -1.421875 \r\nQ 20.359375 -1.421875 13.671875 8.265625 \r\nQ 6.984375 17.96875 6.984375 36.375 \r\nQ 6.984375 53.65625 15.1875 63.9375 \r\nQ 23.390625 74.21875 37.203125 74.21875 \r\nQ 40.921875 74.21875 44.703125 73.484375 \r\nQ 48.484375 72.75 52.59375 71.296875 \r\nz\r\n\" id=\"DejaVuSans-54\"/>\r\n       </defs>\r\n       <use xlink:href=\"#DejaVuSans-54\"/>\r\n       <use x=\"63.623047\" xlink:href=\"#DejaVuSans-48\"/>\r\n       <use x=\"127.246094\" xlink:href=\"#DejaVuSans-48\"/>\r\n       <use x=\"190.869141\" xlink:href=\"#DejaVuSans-48\"/>\r\n       <use x=\"254.492188\" xlink:href=\"#DejaVuSans-48\"/>\r\n      </g>\r\n     </g>\r\n    </g>\r\n    <g id=\"ytick_8\">\r\n     <g id=\"line2d_16\">\r\n      <g>\r\n       <use style=\"stroke:#000000;stroke-width:0.8;\" x=\"59.690625\" xlink:href=\"#m8bfd459cbd\" y=\"53.240274\"/>\r\n      </g>\r\n     </g>\r\n     <g id=\"text_17\">\r\n      <!-- 70000 -->\r\n      <g transform=\"translate(20.878125 57.039493)scale(0.1 -0.1)\">\r\n       <use xlink:href=\"#DejaVuSans-55\"/>\r\n       <use x=\"63.623047\" xlink:href=\"#DejaVuSans-48\"/>\r\n       <use x=\"127.246094\" xlink:href=\"#DejaVuSans-48\"/>\r\n       <use x=\"190.869141\" xlink:href=\"#DejaVuSans-48\"/>\r\n       <use x=\"254.492188\" xlink:href=\"#DejaVuSans-48\"/>\r\n      </g>\r\n     </g>\r\n    </g>\r\n    <g id=\"ytick_9\">\r\n     <g id=\"line2d_17\">\r\n      <g>\r\n       <use style=\"stroke:#000000;stroke-width:0.8;\" x=\"59.690625\" xlink:href=\"#m8bfd459cbd\" y=\"27.993333\"/>\r\n      </g>\r\n     </g>\r\n     <g id=\"text_18\">\r\n      <!-- 80000 -->\r\n      <g transform=\"translate(20.878125 31.792552)scale(0.1 -0.1)\">\r\n       <defs>\r\n        <path d=\"M 31.78125 34.625 \r\nQ 24.75 34.625 20.71875 30.859375 \r\nQ 16.703125 27.09375 16.703125 20.515625 \r\nQ 16.703125 13.921875 20.71875 10.15625 \r\nQ 24.75 6.390625 31.78125 6.390625 \r\nQ 38.8125 6.390625 42.859375 10.171875 \r\nQ 46.921875 13.96875 46.921875 20.515625 \r\nQ 46.921875 27.09375 42.890625 30.859375 \r\nQ 38.875 34.625 31.78125 34.625 \r\nz\r\nM 21.921875 38.8125 \r\nQ 15.578125 40.375 12.03125 44.71875 \r\nQ 8.5 49.078125 8.5 55.328125 \r\nQ 8.5 64.0625 14.71875 69.140625 \r\nQ 20.953125 74.21875 31.78125 74.21875 \r\nQ 42.671875 74.21875 48.875 69.140625 \r\nQ 55.078125 64.0625 55.078125 55.328125 \r\nQ 55.078125 49.078125 51.53125 44.71875 \r\nQ 48 40.375 41.703125 38.8125 \r\nQ 48.828125 37.15625 52.796875 32.3125 \r\nQ 56.78125 27.484375 56.78125 20.515625 \r\nQ 56.78125 9.90625 50.3125 4.234375 \r\nQ 43.84375 -1.421875 31.78125 -1.421875 \r\nQ 19.734375 -1.421875 13.25 4.234375 \r\nQ 6.78125 9.90625 6.78125 20.515625 \r\nQ 6.78125 27.484375 10.78125 32.3125 \r\nQ 14.796875 37.15625 21.921875 38.8125 \r\nz\r\nM 18.3125 54.390625 \r\nQ 18.3125 48.734375 21.84375 45.5625 \r\nQ 25.390625 42.390625 31.78125 42.390625 \r\nQ 38.140625 42.390625 41.71875 45.5625 \r\nQ 45.3125 48.734375 45.3125 54.390625 \r\nQ 45.3125 60.0625 41.71875 63.234375 \r\nQ 38.140625 66.40625 31.78125 66.40625 \r\nQ 25.390625 66.40625 21.84375 63.234375 \r\nQ 18.3125 60.0625 18.3125 54.390625 \r\nz\r\n\" id=\"DejaVuSans-56\"/>\r\n       </defs>\r\n       <use xlink:href=\"#DejaVuSans-56\"/>\r\n       <use x=\"63.623047\" xlink:href=\"#DejaVuSans-48\"/>\r\n       <use x=\"127.246094\" xlink:href=\"#DejaVuSans-48\"/>\r\n       <use x=\"190.869141\" xlink:href=\"#DejaVuSans-48\"/>\r\n       <use x=\"254.492188\" xlink:href=\"#DejaVuSans-48\"/>\r\n      </g>\r\n     </g>\r\n    </g>\r\n    <g id=\"text_19\">\r\n     <!-- loss -->\r\n     <g transform=\"translate(14.798438 140.695937)rotate(-90)scale(0.1 -0.1)\">\r\n      <defs>\r\n       <path d=\"M 9.421875 75.984375 \r\nL 18.40625 75.984375 \r\nL 18.40625 0 \r\nL 9.421875 0 \r\nz\r\n\" id=\"DejaVuSans-108\"/>\r\n       <path d=\"M 44.28125 53.078125 \r\nL 44.28125 44.578125 \r\nQ 40.484375 46.53125 36.375 47.5 \r\nQ 32.28125 48.484375 27.875 48.484375 \r\nQ 21.1875 48.484375 17.84375 46.4375 \r\nQ 14.5 44.390625 14.5 40.28125 \r\nQ 14.5 37.15625 16.890625 35.375 \r\nQ 19.28125 33.59375 26.515625 31.984375 \r\nL 29.59375 31.296875 \r\nQ 39.15625 29.25 43.1875 25.515625 \r\nQ 47.21875 21.78125 47.21875 15.09375 \r\nQ 47.21875 7.46875 41.1875 3.015625 \r\nQ 35.15625 -1.421875 24.609375 -1.421875 \r\nQ 20.21875 -1.421875 15.453125 -0.5625 \r\nQ 10.6875 0.296875 5.421875 2 \r\nL 5.421875 11.28125 \r\nQ 10.40625 8.6875 15.234375 7.390625 \r\nQ 20.0625 6.109375 24.8125 6.109375 \r\nQ 31.15625 6.109375 34.5625 8.28125 \r\nQ 37.984375 10.453125 37.984375 14.40625 \r\nQ 37.984375 18.0625 35.515625 20.015625 \r\nQ 33.0625 21.96875 24.703125 23.78125 \r\nL 21.578125 24.515625 \r\nQ 13.234375 26.265625 9.515625 29.90625 \r\nQ 5.8125 33.546875 5.8125 39.890625 \r\nQ 5.8125 47.609375 11.28125 51.796875 \r\nQ 16.75 56 26.8125 56 \r\nQ 31.78125 56 36.171875 55.265625 \r\nQ 40.578125 54.546875 44.28125 53.078125 \r\nz\r\n\" id=\"DejaVuSans-115\"/>\r\n      </defs>\r\n      <use xlink:href=\"#DejaVuSans-108\"/>\r\n      <use x=\"27.783203\" xlink:href=\"#DejaVuSans-111\"/>\r\n      <use x=\"88.964844\" xlink:href=\"#DejaVuSans-115\"/>\r\n      <use x=\"141.064453\" xlink:href=\"#DejaVuSans-115\"/>\r\n     </g>\r\n    </g>\r\n   </g>\r\n   <g id=\"line2d_18\">\r\n    <path clip-path=\"url(#p6ead1e97d9)\" d=\"M 74.908807 229.874489 \r\nL 90.927946 121.323464 \r\nL 106.947084 67.627106 \r\nL 122.966223 91.201516 \r\nL 138.985362 123.273435 \r\nL 155.004501 139.010662 \r\nL 171.023639 173.931136 \r\nL 187.042778 184.752912 \r\nL 203.061917 201.918816 \r\nL 219.081056 210.330675 \r\nL 235.100194 218.203745 \r\nL 251.119333 222.55562 \r\nL 267.138472 223.659767 \r\nL 283.157611 223.75369 \r\nL 299.176749 224.554086 \r\nL 315.195888 225.788168 \r\nL 331.215027 227.366225 \r\nL 347.234166 225.658521 \r\nL 363.253304 225.671556 \r\nL 379.272443 227.683063 \r\n\" style=\"fill:none;stroke:#1f77b4;stroke-linecap:square;stroke-width:1.5;\"/>\r\n   </g>\r\n   <g id=\"line2d_19\">\r\n    <path clip-path=\"url(#p6ead1e97d9)\" d=\"M 74.908807 105.454252 \r\nL 90.927946 32.201761 \r\nL 106.947084 67.213164 \r\nL 122.966223 97.852448 \r\nL 138.985362 122.496934 \r\nL 155.004501 160.305244 \r\nL 171.023639 172.323454 \r\nL 187.042778 193.795992 \r\nL 203.061917 207.145036 \r\nL 219.081056 218.230313 \r\nL 235.100194 223.743002 \r\nL 251.119333 224.874293 \r\nL 267.138472 224.635993 \r\nL 283.157611 225.088456 \r\nL 299.176749 225.73162 \r\nL 315.195888 226.571828 \r\nL 331.215027 224.143248 \r\nL 347.234166 224.156495 \r\nL 363.253304 226.804955 \r\nL 379.272443 227.227692 \r\n\" style=\"fill:none;stroke:#ff7f0e;stroke-linecap:square;stroke-width:1.5;\"/>\r\n   </g>\r\n   <g id=\"patch_3\">\r\n    <path d=\"M 59.690625 239.758125 \r\nL 59.690625 22.318125 \r\n\" style=\"fill:none;stroke:#000000;stroke-linecap:square;stroke-linejoin:miter;stroke-width:0.8;\"/>\r\n   </g>\r\n   <g id=\"patch_4\">\r\n    <path d=\"M 394.490625 239.758125 \r\nL 394.490625 22.318125 \r\n\" style=\"fill:none;stroke:#000000;stroke-linecap:square;stroke-linejoin:miter;stroke-width:0.8;\"/>\r\n   </g>\r\n   <g id=\"patch_5\">\r\n    <path d=\"M 59.690625 239.758125 \r\nL 394.490625 239.758125 \r\n\" style=\"fill:none;stroke:#000000;stroke-linecap:square;stroke-linejoin:miter;stroke-width:0.8;\"/>\r\n   </g>\r\n   <g id=\"patch_6\">\r\n    <path d=\"M 59.690625 22.318125 \r\nL 394.490625 22.318125 \r\n\" style=\"fill:none;stroke:#000000;stroke-linecap:square;stroke-linejoin:miter;stroke-width:0.8;\"/>\r\n   </g>\r\n   <g id=\"text_20\">\r\n    <!-- model loss -->\r\n    <g transform=\"translate(194.910938 16.318125)scale(0.12 -0.12)\">\r\n     <defs>\r\n      <path d=\"M 52 44.1875 \r\nQ 55.375 50.25 60.0625 53.125 \r\nQ 64.75 56 71.09375 56 \r\nQ 79.640625 56 84.28125 50.015625 \r\nQ 88.921875 44.046875 88.921875 33.015625 \r\nL 88.921875 0 \r\nL 79.890625 0 \r\nL 79.890625 32.71875 \r\nQ 79.890625 40.578125 77.09375 44.375 \r\nQ 74.3125 48.1875 68.609375 48.1875 \r\nQ 61.625 48.1875 57.5625 43.546875 \r\nQ 53.515625 38.921875 53.515625 30.90625 \r\nL 53.515625 0 \r\nL 44.484375 0 \r\nL 44.484375 32.71875 \r\nQ 44.484375 40.625 41.703125 44.40625 \r\nQ 38.921875 48.1875 33.109375 48.1875 \r\nQ 26.21875 48.1875 22.15625 43.53125 \r\nQ 18.109375 38.875 18.109375 30.90625 \r\nL 18.109375 0 \r\nL 9.078125 0 \r\nL 9.078125 54.6875 \r\nL 18.109375 54.6875 \r\nL 18.109375 46.1875 \r\nQ 21.1875 51.21875 25.484375 53.609375 \r\nQ 29.78125 56 35.6875 56 \r\nQ 41.65625 56 45.828125 52.96875 \r\nQ 50 49.953125 52 44.1875 \r\nz\r\n\" id=\"DejaVuSans-109\"/>\r\n      <path d=\"M 45.40625 46.390625 \r\nL 45.40625 75.984375 \r\nL 54.390625 75.984375 \r\nL 54.390625 0 \r\nL 45.40625 0 \r\nL 45.40625 8.203125 \r\nQ 42.578125 3.328125 38.25 0.953125 \r\nQ 33.9375 -1.421875 27.875 -1.421875 \r\nQ 17.96875 -1.421875 11.734375 6.484375 \r\nQ 5.515625 14.40625 5.515625 27.296875 \r\nQ 5.515625 40.1875 11.734375 48.09375 \r\nQ 17.96875 56 27.875 56 \r\nQ 33.9375 56 38.25 53.625 \r\nQ 42.578125 51.265625 45.40625 46.390625 \r\nz\r\nM 14.796875 27.296875 \r\nQ 14.796875 17.390625 18.875 11.75 \r\nQ 22.953125 6.109375 30.078125 6.109375 \r\nQ 37.203125 6.109375 41.296875 11.75 \r\nQ 45.40625 17.390625 45.40625 27.296875 \r\nQ 45.40625 37.203125 41.296875 42.84375 \r\nQ 37.203125 48.484375 30.078125 48.484375 \r\nQ 22.953125 48.484375 18.875 42.84375 \r\nQ 14.796875 37.203125 14.796875 27.296875 \r\nz\r\n\" id=\"DejaVuSans-100\"/>\r\n      <path id=\"DejaVuSans-32\"/>\r\n     </defs>\r\n     <use xlink:href=\"#DejaVuSans-109\"/>\r\n     <use x=\"97.412109\" xlink:href=\"#DejaVuSans-111\"/>\r\n     <use x=\"158.59375\" xlink:href=\"#DejaVuSans-100\"/>\r\n     <use x=\"222.070312\" xlink:href=\"#DejaVuSans-101\"/>\r\n     <use x=\"283.59375\" xlink:href=\"#DejaVuSans-108\"/>\r\n     <use x=\"311.376953\" xlink:href=\"#DejaVuSans-32\"/>\r\n     <use x=\"343.164062\" xlink:href=\"#DejaVuSans-108\"/>\r\n     <use x=\"370.947266\" xlink:href=\"#DejaVuSans-111\"/>\r\n     <use x=\"432.128906\" xlink:href=\"#DejaVuSans-115\"/>\r\n     <use x=\"484.228516\" xlink:href=\"#DejaVuSans-115\"/>\r\n    </g>\r\n   </g>\r\n   <g id=\"legend_1\">\r\n    <g id=\"patch_7\">\r\n     <path d=\"M 66.690625 59.674375 \r\nL 121.965625 59.674375 \r\nQ 123.965625 59.674375 123.965625 57.674375 \r\nL 123.965625 29.318125 \r\nQ 123.965625 27.318125 121.965625 27.318125 \r\nL 66.690625 27.318125 \r\nQ 64.690625 27.318125 64.690625 29.318125 \r\nL 64.690625 57.674375 \r\nQ 64.690625 59.674375 66.690625 59.674375 \r\nz\r\n\" style=\"fill:#ffffff;opacity:0.8;stroke:#cccccc;stroke-linejoin:miter;\"/>\r\n    </g>\r\n    <g id=\"line2d_20\">\r\n     <path d=\"M 68.690625 35.416562 \r\nL 88.690625 35.416562 \r\n\" style=\"fill:none;stroke:#1f77b4;stroke-linecap:square;stroke-width:1.5;\"/>\r\n    </g>\r\n    <g id=\"line2d_21\"/>\r\n    <g id=\"text_21\">\r\n     <!-- train -->\r\n     <g transform=\"translate(96.690625 38.916562)scale(0.1 -0.1)\">\r\n      <defs>\r\n       <path d=\"M 18.3125 70.21875 \r\nL 18.3125 54.6875 \r\nL 36.8125 54.6875 \r\nL 36.8125 47.703125 \r\nL 18.3125 47.703125 \r\nL 18.3125 18.015625 \r\nQ 18.3125 11.328125 20.140625 9.421875 \r\nQ 21.96875 7.515625 27.59375 7.515625 \r\nL 36.8125 7.515625 \r\nL 36.8125 0 \r\nL 27.59375 0 \r\nQ 17.1875 0 13.234375 3.875 \r\nQ 9.28125 7.765625 9.28125 18.015625 \r\nL 9.28125 47.703125 \r\nL 2.6875 47.703125 \r\nL 2.6875 54.6875 \r\nL 9.28125 54.6875 \r\nL 9.28125 70.21875 \r\nz\r\n\" id=\"DejaVuSans-116\"/>\r\n       <path d=\"M 41.109375 46.296875 \r\nQ 39.59375 47.171875 37.8125 47.578125 \r\nQ 36.03125 48 33.890625 48 \r\nQ 26.265625 48 22.1875 43.046875 \r\nQ 18.109375 38.09375 18.109375 28.8125 \r\nL 18.109375 0 \r\nL 9.078125 0 \r\nL 9.078125 54.6875 \r\nL 18.109375 54.6875 \r\nL 18.109375 46.1875 \r\nQ 20.953125 51.171875 25.484375 53.578125 \r\nQ 30.03125 56 36.53125 56 \r\nQ 37.453125 56 38.578125 55.875 \r\nQ 39.703125 55.765625 41.0625 55.515625 \r\nz\r\n\" id=\"DejaVuSans-114\"/>\r\n       <path d=\"M 34.28125 27.484375 \r\nQ 23.390625 27.484375 19.1875 25 \r\nQ 14.984375 22.515625 14.984375 16.5 \r\nQ 14.984375 11.71875 18.140625 8.90625 \r\nQ 21.296875 6.109375 26.703125 6.109375 \r\nQ 34.1875 6.109375 38.703125 11.40625 \r\nQ 43.21875 16.703125 43.21875 25.484375 \r\nL 43.21875 27.484375 \r\nz\r\nM 52.203125 31.203125 \r\nL 52.203125 0 \r\nL 43.21875 0 \r\nL 43.21875 8.296875 \r\nQ 40.140625 3.328125 35.546875 0.953125 \r\nQ 30.953125 -1.421875 24.3125 -1.421875 \r\nQ 15.921875 -1.421875 10.953125 3.296875 \r\nQ 6 8.015625 6 15.921875 \r\nQ 6 25.140625 12.171875 29.828125 \r\nQ 18.359375 34.515625 30.609375 34.515625 \r\nL 43.21875 34.515625 \r\nL 43.21875 35.40625 \r\nQ 43.21875 41.609375 39.140625 45 \r\nQ 35.0625 48.390625 27.6875 48.390625 \r\nQ 23 48.390625 18.546875 47.265625 \r\nQ 14.109375 46.140625 10.015625 43.890625 \r\nL 10.015625 52.203125 \r\nQ 14.9375 54.109375 19.578125 55.046875 \r\nQ 24.21875 56 28.609375 56 \r\nQ 40.484375 56 46.34375 49.84375 \r\nQ 52.203125 43.703125 52.203125 31.203125 \r\nz\r\n\" id=\"DejaVuSans-97\"/>\r\n       <path d=\"M 9.421875 54.6875 \r\nL 18.40625 54.6875 \r\nL 18.40625 0 \r\nL 9.421875 0 \r\nz\r\nM 9.421875 75.984375 \r\nL 18.40625 75.984375 \r\nL 18.40625 64.59375 \r\nL 9.421875 64.59375 \r\nz\r\n\" id=\"DejaVuSans-105\"/>\r\n       <path d=\"M 54.890625 33.015625 \r\nL 54.890625 0 \r\nL 45.90625 0 \r\nL 45.90625 32.71875 \r\nQ 45.90625 40.484375 42.875 44.328125 \r\nQ 39.84375 48.1875 33.796875 48.1875 \r\nQ 26.515625 48.1875 22.3125 43.546875 \r\nQ 18.109375 38.921875 18.109375 30.90625 \r\nL 18.109375 0 \r\nL 9.078125 0 \r\nL 9.078125 54.6875 \r\nL 18.109375 54.6875 \r\nL 18.109375 46.1875 \r\nQ 21.34375 51.125 25.703125 53.5625 \r\nQ 30.078125 56 35.796875 56 \r\nQ 45.21875 56 50.046875 50.171875 \r\nQ 54.890625 44.34375 54.890625 33.015625 \r\nz\r\n\" id=\"DejaVuSans-110\"/>\r\n      </defs>\r\n      <use xlink:href=\"#DejaVuSans-116\"/>\r\n      <use x=\"39.208984\" xlink:href=\"#DejaVuSans-114\"/>\r\n      <use x=\"80.322266\" xlink:href=\"#DejaVuSans-97\"/>\r\n      <use x=\"141.601562\" xlink:href=\"#DejaVuSans-105\"/>\r\n      <use x=\"169.384766\" xlink:href=\"#DejaVuSans-110\"/>\r\n     </g>\r\n    </g>\r\n    <g id=\"line2d_22\">\r\n     <path d=\"M 68.690625 50.094687 \r\nL 88.690625 50.094687 \r\n\" style=\"fill:none;stroke:#ff7f0e;stroke-linecap:square;stroke-width:1.5;\"/>\r\n    </g>\r\n    <g id=\"line2d_23\"/>\r\n    <g id=\"text_22\">\r\n     <!-- test -->\r\n     <g transform=\"translate(96.690625 53.594687)scale(0.1 -0.1)\">\r\n      <use xlink:href=\"#DejaVuSans-116\"/>\r\n      <use x=\"39.208984\" xlink:href=\"#DejaVuSans-101\"/>\r\n      <use x=\"100.732422\" xlink:href=\"#DejaVuSans-115\"/>\r\n      <use x=\"152.832031\" xlink:href=\"#DejaVuSans-116\"/>\r\n     </g>\r\n    </g>\r\n   </g>\r\n  </g>\r\n </g>\r\n <defs>\r\n  <clipPath id=\"p6ead1e97d9\">\r\n   <rect height=\"217.44\" width=\"334.8\" x=\"59.690625\" y=\"22.318125\"/>\r\n  </clipPath>\r\n </defs>\r\n</svg>\r\n",
      "image/png": "[encoded data removed]"
     },
     "metadata": {
      "needs_background": "light"
     }
    }
   ],
   "source": [
    "\n",
    "# summarize history for accuracy\n",
    "plt.plot(history.history['accuracy'])\n",
    "plt.plot(history.history['val_accuracy'])\n",
    "plt.title('model accuracy')\n",
    "plt.ylabel('accuracy')\n",
    "plt.xlabel('epoch')\n",
    "plt.legend(['train', 'test'], loc='upper left')\n",
    "plt.show()\n",
    "# summarize history for loss\n",
    "plt.plot(history.history['loss'])\n",
    "plt.plot(history.history['val_loss'])\n",
    "plt.title('model loss')\n",
    "plt.ylabel('loss')\n",
    "plt.xlabel('epoch')\n",
    "plt.legend(['train', 'test'], loc='upper left')\n",
    "plt.show()"
   ]
  },
  {
   "cell_type": "code",
   "execution_count": null,
   "metadata": {},
   "outputs": [],
   "source": []
  }
 ],
 "metadata": {
  "kernelspec": {
   "name": "python3",
   "display_name": "Python 3.8.6 64-bit ('venv')",
   "metadata": {
    "interpreter": {
     "hash": "57b319bc4e22b409fa884ec8df874d1e86a1294589321f64ffcc3ca3e53cfb8c"
    }
   }
  },
  "language_info": {
   "codemirror_mode": {
    "name": "ipython",
    "version": 3
   },
   "file_extension": ".py",
   "mimetype": "text/x-python",
   "name": "python",
   "nbconvert_exporter": "python",
   "pygments_lexer": "ipython3",
   "version": "3.8.6-final"
  }
 },
 "nbformat": 4,
 "nbformat_minor": 2
}