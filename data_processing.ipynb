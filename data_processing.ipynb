{
 "cells": [
  {
   "cell_type": "markdown",
   "metadata": {},
   "source": [
    "## Part 1: Data Processing"
   ]
  },
  {
   "cell_type": "markdown",
   "metadata": {},
   "source": [
    "### Process both time series and gamma phase-amplitude coupling (GPAC) images into dataframes"
   ]
  },
  {
   "cell_type": "code",
   "execution_count": 1,
   "metadata": {},
   "outputs": [],
   "source": [
    "import numpy as np\n",
    "import os\n",
    "import pandas as pd\n",
    "import scipy.io as sio\n",
    "\n",
    "from IPython.display import display\n",
    "from pyedflib import highlevel"
   ]
  },
  {
   "cell_type": "code",
   "execution_count": 2,
   "metadata": {},
   "outputs": [],
   "source": [
    "def process_timeseries_data(path):\n",
    "    \"\"\" Reads and processes all time series data from MATLAB files in the provided\n",
    "    path. Only relevant data will be stored for use here.\n",
    "    \"\"\"\n",
    "    all_data = {}\n",
    "\n",
    "    for file_name in os.listdir(path):\n",
    "        # 'data' will contain all relevant data that should be used for training.\n",
    "        # Other keys will hold other useful information that shouldn't be directly\n",
    "        # needed for training.\n",
    "        data = {'data': {}}\n",
    "        \n",
    "        full_file_path = os.path.join(path, file_name)\n",
    "        mat_data = sio.loadmat(full_file_path)\n",
    "\n",
    "        # Time series data with size equal to the number of channels (i.e. electrodes).\n",
    "        # The electrode names can be indexed to find the electrode that a specific\n",
    "        # value in this time series data belongs to.\n",
    "        data['data']['samples'] = list(np.swapaxes(np.array(mat_data['Data']), 0, 1))\n",
    "\n",
    "        # Time points in seconds\n",
    "        data['data']['time'] = np.array(mat_data['Time'][0])\n",
    "\n",
    "        data['data'] = pd.DataFrame(data['data'])\n",
    "        \n",
    "        # List of electrode names following the 10-20 EEG recording system\n",
    "        data['electrodes'] = np.array([item.item() for item in mat_data['Electrodes'][0]])\n",
    "\n",
    "        all_data[full_file_path] = data\n",
    "\n",
    "    return all_data\n",
    "\n",
    "\n",
    "def process_gpac_image_data(path):\n",
    "    \"\"\" Reads and processes all GPAC image data from MATLAB files in the provided\n",
    "    path. Only relevant data will be stored for use here.\n",
    "    \"\"\"\n",
    "    all_data = {}\n",
    "\n",
    "    for file_name in os.listdir(path):\n",
    "        # 'data' will contain all relevant data that should be used for training.\n",
    "        # Other keys will hold other useful information that shouldn't be directly\n",
    "        # needed for training.\n",
    "        data = {'data': {}}\n",
    "        \n",
    "        full_file_path = os.path.join(path, file_name)\n",
    "        mat_data = sio.loadmat(full_file_path)\n",
    "\n",
    "        # Sample point number corresponding to the start of each 2s window\n",
    "        data['data']['window_start'] = np.array(mat_data['data']['wind'][0][0][0])\n",
    "\n",
    "        # GPAC data of size lf x hf, where lf and hf are the dimensions of the GPAC image\n",
    "        # Note that each window has its data flattened to one list of size lf x hf. We need\n",
    "        # to cast the reshaped data as a list so that, for this column, each row contains a\n",
    "        # list of the lf x hf data.\n",
    "        data['data']['fv'] = np.array(mat_data['data']['fv'][0][0])\n",
    "        data['data']['fv'] = list(data['data']['fv'].reshape(data['data']['fv'].shape[0], -1))\n",
    "\n",
    "        # Window labels: baseline interictal (0), blink (1), movement (2), or EMG (3). -1\n",
    "        # means the window wasn't labelled.\n",
    "        data['data']['label'] = np.squeeze(np.array(mat_data['training_labels']), axis=1)\n",
    "\n",
    "        data['data'] = pd.DataFrame(data['data'])\n",
    "\n",
    "        # The duration of the window chosen for analysis, which should always be 2s\n",
    "        data['window_len'] = np.array(mat_data['ws'][0])\n",
    "        \n",
    "        # lf and hf are the frequency values corresponding to the phase range and amplitude\n",
    "        # range of interest in the GPAC feature, respectively.\n",
    "        data['lf'] = np.array(mat_data['lf'][0])\n",
    "        data['hf'] = np.array(mat_data['hf'][0])\n",
    "\n",
    "        all_data[full_file_path] = data\n",
    "\n",
    "    return all_data\n",
    "\n",
    "\n",
    "def process_eye_blinking_data(file_path):\n",
    "    \"\"\" Reads and processes all eye blinking image data from MATLAB files in the provided\n",
    "    path. Only relevant data will be stored for use here. Dataset parsed in this function\n",
    "    was obtained from https://www.sciencedirect.com/science/article/pii/S0925231216001569.\n",
    "    \"\"\"\n",
    "    # 'data' will contain all relevant data that should be used for training.\n",
    "    # Other keys will hold other useful information that shouldn't be directly\n",
    "    # needed for training.\n",
    "    all_data = {}\n",
    "    data = {'data': {}}\n",
    "    mat_data = sio.loadmat(file_path)\n",
    "\n",
    "    mat_data = np.concatenate(\n",
    "        (mat_data['Epochs']['EyeblinkArtifactEpochs'][0,0]['Voluntary'][0,0]['All'][0,0],\n",
    "        mat_data['Epochs']['EyeblinkArtifactEpochs'][0,0]['Involuntary'][0,0]['All'][0,0]),\n",
    "        axis=0\n",
    "    )\n",
    "    mat_data = np.swapaxes(mat_data, 0, 1)\n",
    "\n",
    "    # Time series data with size equal to the number of channels (i.e. electrodes).\n",
    "    # The electrode names can be indexed to find the electrode that a specific\n",
    "    # value in this time series data belongs to.\n",
    "    data['data']['samples'] = list(np.array(mat_data.reshape(-1, mat_data.shape[0])))\n",
    "\n",
    "    # Time points in seconds (note: window size is 4s)\n",
    "    data['data']['time'] = np.array(np.ravel([np.linspace(0, 4, mat_data.shape[2], endpoint=False)] * mat_data.shape[1]))\n",
    "\n",
    "    data['data'] = pd.DataFrame(data['data'])\n",
    "    \n",
    "    # List of electrode names following the 10-20 EEG recording system\n",
    "    data['electrodes'] = np.array(['FP1', 'FP2', 'F3', 'F4', 'T3', 'C3', 'Cz', 'C4', 'T4', 'P3', 'Pz', 'P4', 'O1', 'O2'])\n",
    "\n",
    "    all_data[file_path] = data\n",
    "    return all_data\n",
    "\n",
    "\n",
    "def process_hand_movement_data(path):\n",
    "    \"\"\" Reads and processes all hand movement data from MATLAB files in the provided\n",
    "    path. Only relevant data will be stored for use here. Dataset parsed in this function\n",
    "    was obtained from https://academic.oup.com/gigascience/article/6/7/gix034/3796323.\n",
    "    \"\"\"\n",
    "    all_data = {}\n",
    "\n",
    "    for file_name in os.listdir(path):\n",
    "        # 'data' will contain all relevant data that should be used for training.\n",
    "        # Other keys will hold other useful information that shouldn't be directly\n",
    "        # needed for training.\n",
    "        data = {'data': {}}\n",
    "\n",
    "        full_file_path = os.path.join(path, file_name)\n",
    "        mat_data = sio.loadmat(full_file_path)\n",
    "\n",
    "        # Indices that indicate when left or right hand movement begins. This movement lasts for 3 seconds, thus\n",
    "        # movement indices are created by creating a range from <start> to <start + 3> seconds for each index.\n",
    "        # These indices are the same for both the left and right hand movements.\n",
    "        num_time_points_per_window = mat_data[\"eeg\"][\"srate\"][0][0].item() * 3\n",
    "        movement_start_indices, = np.where(mat_data[\"eeg\"][\"movement_event\"][0][0][0] == 1)        \n",
    "        movement_indices = np.array(np.ravel([np.arange(start, start + num_time_points_per_window) for start in movement_start_indices]))\n",
    "\n",
    "        # The data contains 64 EEG channels and 4 EMG channels, take only the EEG channels.\n",
    "        # Data is concatenated after extracting relevant data according to the movement indices\n",
    "        all_eeg_data = [np.swapaxes(mat_data[\"eeg\"][movement][0][0][:64], 0, 1) for movement in [\"movement_left\", \"movement_right\"]]\n",
    "        data['data']['samples'] = list(np.concatenate(np.array([eeg_data[movement_indices] for eeg_data in all_eeg_data])))\n",
    "\n",
    "        # Time points in seconds (note: window size is 3s).\n",
    "        num_trials = int(len(data['data']['samples']) / num_time_points_per_window)\n",
    "        data['data']['time'] = np.array(np.ravel([np.linspace(0, 3, num_time_points_per_window, endpoint=False)] * num_trials))\n",
    "\n",
    "        data['data'] = pd.DataFrame(data['data'])\n",
    "        all_data[full_file_path] = data\n",
    "    \n",
    "    return all_data\n",
    "\n",
    "\n",
    "def process_resting_state_data(path):\n",
    "    \"\"\" Reads and processes all hand movement data from MATLAB files in the provided\n",
    "    path. Only relevant data will be stored for use here. Dataset parsed in this function\n",
    "    was obtained from https://dataverse.tdl.org/dataset.xhtml?persistentId=doi:10.18738/T8/SS2NHB.\n",
    "    \"\"\"\n",
    "    all_data = {}\n",
    "\n",
    "    for file_name in os.listdir(path):\n",
    "        # 'data' will contain all relevant data that should be used for training.\n",
    "        # Other keys will hold other useful information that shouldn't be directly\n",
    "        # needed for training.\n",
    "        data = {'data': {}}\n",
    "\n",
    "        full_file_path = os.path.join(path, file_name)\n",
    "        eeg_data = highlevel.read_edf(full_file_path)\n",
    "\n",
    "        # Each channel has a specified sample rate. They should all be equivalent, so confirm this.\n",
    "        sample_rates = set([channel['sample_rate'] for channel in eeg_data[1]])\n",
    "        assert len(sample_rates) == 1\n",
    "        sample_rate = int(next(iter(sample_rates)))\n",
    "\n",
    "        samples = np.swapaxes(np.array(eeg_data[0][:-7, :]), 0, 1)\n",
    "        data['data']['samples'] = list(samples)\n",
    "\n",
    "        # Time points in seconds no window size specified, so time increased indefinitely\n",
    "        data['data']['time'] = np.linspace(0, samples.shape[0] / sample_rate, samples.shape[0], endpoint=False)\n",
    "\n",
    "        # Last 7 elements of the electrodes array are irrelevant\n",
    "        data['electrodes'] = np.array([channel['label'] for channel in eeg_data[1][:-7]])\n",
    "\n",
    "        data['data'] = pd.DataFrame(data['data'])\n",
    "        all_data[full_file_path] = data\n",
    "\n",
    "    return all_data"
   ]
  },
  {
   "cell_type": "code",
   "execution_count": 6,
   "metadata": {
    "tags": []
   },
   "outputs": [],
   "source": [
    "# Read all relevant data from the MATLAB files\n",
    "BASE_DATA_PATH = \"data\"\n",
    "TIME_SERIES_DATA_PATH = os.path.join(BASE_DATA_PATH, \"TimeSeries\")\n",
    "GPAC_IMAGES_DATA_PATH = os.path.join(BASE_DATA_PATH, \"GPAC_Images_Labelled\")\n",
    "EYE_BLINKING_DATA_PATH = os.path.join(BASE_DATA_PATH, \"Voluntary_Involuntary_Eye_Blinks\", \"Epochs.mat\")\n",
    "HAND_MOVEMENT_DATA_PATH = os.path.join(BASE_DATA_PATH, \"Left_Right_Hand_MI\", \"mat_data\")\n",
    "RESTING_STATE_DATA_PATH = os.path.join(BASE_DATA_PATH, \"Resting_State\")\n",
    "\n",
    "timeseries_data = process_timeseries_data(TIME_SERIES_DATA_PATH)\n",
    "gpac_image_data = process_gpac_image_data(GPAC_IMAGES_DATA_PATH)\n",
    "eye_blinking_data = process_eye_blinking_data(EYE_BLINKING_DATA_PATH)\n",
    "hand_movement_data = process_hand_movement_data(HAND_MOVEMENT_DATA_PATH)\n",
    "resting_state_data = process_resting_state_data(RESTING_STATE_DATA_PATH)"
   ]
  },
  {
   "cell_type": "code",
   "execution_count": 9,
   "metadata": {},
   "outputs": [],
   "source": [
    "# Get some test data to show data structure\n",
    "test_timeseries_data = next(iter(timeseries_data.values()))\n",
    "test_gpac_data = next(iter(gpac_image_data.values()))\n",
    "test_eye_blinking_data = next(iter(eye_blinking_data.values()))\n",
    "test_hand_movement_data = next(iter(hand_movement_data.values()))\n",
    "test_resting_state_data = next(iter(resting_state_data.values()))"
   ]
  },
  {
   "cell_type": "code",
   "execution_count": 10,
   "metadata": {},
   "outputs": [
    {
     "output_type": "stream",
     "name": "stdout",
     "text": [
      "---------- TIME SERIES DATA FORMAT ----------\n\n\nData For Training:\n"
     ]
    },
    {
     "output_type": "display_data",
     "data": {
      "text/plain": "                                                  samples      time\n0       [6.108219724308253e-05, 4.1935847751014113e-05...     0.000\n1       [6.0519399017154524e-05, 4.2618500927900726e-0...     0.002\n2       [6.742417259467301e-05, 4.1556992611811064e-05...     0.004\n3       [5.537121535626189e-05, 4.2360979111764424e-05...     0.006\n4       [5.912841684511108e-05, 4.846190553369728e-05,...     0.008\n...                                                   ...       ...\n949494  [-3.11911321717285e-05, 2.3324337114086137e-05...  1898.988\n949495  [-2.9876694427662773e-05, 2.2369713074451038e-...  1898.990\n949496  [-3.09238426711861e-05, 2.1764404072353062e-05...  1898.992\n949497  [-3.018560838381861e-05, 1.9767057467827266e-0...  1898.994\n949498  [-3.111780275691797e-05, 2.0135847751014464e-0...  1898.996\n\n[949499 rows x 2 columns]",
      "text/html": "<div>\n<style scoped>\n    .dataframe tbody tr th:only-of-type {\n        vertical-align: middle;\n    }\n\n    .dataframe tbody tr th {\n        vertical-align: top;\n    }\n\n    .dataframe thead th {\n        text-align: right;\n    }\n</style>\n<table border=\"1\" class=\"dataframe\">\n  <thead>\n    <tr style=\"text-align: right;\">\n      <th></th>\n      <th>samples</th>\n      <th>time</th>\n    </tr>\n  </thead>\n  <tbody>\n    <tr>\n      <th>0</th>\n      <td>[6.108219724308253e-05, 4.1935847751014113e-05...</td>\n      <td>0.000</td>\n    </tr>\n    <tr>\n      <th>1</th>\n      <td>[6.0519399017154524e-05, 4.2618500927900726e-0...</td>\n      <td>0.002</td>\n    </tr>\n    <tr>\n      <th>2</th>\n      <td>[6.742417259467301e-05, 4.1556992611811064e-05...</td>\n      <td>0.004</td>\n    </tr>\n    <tr>\n      <th>3</th>\n      <td>[5.537121535626189e-05, 4.2360979111764424e-05...</td>\n      <td>0.006</td>\n    </tr>\n    <tr>\n      <th>4</th>\n      <td>[5.912841684511108e-05, 4.846190553369728e-05,...</td>\n      <td>0.008</td>\n    </tr>\n    <tr>\n      <th>...</th>\n      <td>...</td>\n      <td>...</td>\n    </tr>\n    <tr>\n      <th>949494</th>\n      <td>[-3.11911321717285e-05, 2.3324337114086137e-05...</td>\n      <td>1898.988</td>\n    </tr>\n    <tr>\n      <th>949495</th>\n      <td>[-2.9876694427662773e-05, 2.2369713074451038e-...</td>\n      <td>1898.990</td>\n    </tr>\n    <tr>\n      <th>949496</th>\n      <td>[-3.09238426711861e-05, 2.1764404072353062e-05...</td>\n      <td>1898.992</td>\n    </tr>\n    <tr>\n      <th>949497</th>\n      <td>[-3.018560838381861e-05, 1.9767057467827266e-0...</td>\n      <td>1898.994</td>\n    </tr>\n    <tr>\n      <th>949498</th>\n      <td>[-3.111780275691797e-05, 2.0135847751014464e-0...</td>\n      <td>1898.996</td>\n    </tr>\n  </tbody>\n</table>\n<p>949499 rows × 2 columns</p>\n</div>"
     },
     "metadata": {}
    },
    {
     "output_type": "stream",
     "name": "stdout",
     "text": [
      "\n\nElectrode Names:\n"
     ]
    },
    {
     "output_type": "display_data",
     "data": {
      "text/plain": "array(['FP1', 'F3', 'C3', 'P3', 'O1', 'F7', 'T3', 'T5', 'F9', 'T9', 'P9',\n       'Fz', 'Cz', 'Pz', 'FP2', 'F8', 'T4', 'T6', 'O2', 'F4', 'C4', 'P4',\n       'F10', 'T10', 'P10'], dtype='<U3')"
     },
     "metadata": {}
    },
    {
     "output_type": "stream",
     "name": "stdout",
     "text": [
      "\n\nNumber of Channels Per Sample: 25\n\n\n\n---------- GPAC IMAGE DATA FORMAT ----------\n\n\nData For Training:\n"
     ]
    },
    {
     "output_type": "display_data",
     "data": {
      "text/plain": "     window_start                                                 fv  label\n0          1436.0  [0.025656345787360417, 0.032179734517346216, 0...      0\n1          2436.0  [0.025213492886223276, 0.025289140962647953, 0...      3\n2          3436.0  [0.023487781808931615, 0.01826561582104771, 0....      1\n3          4436.0  [0.06850261987711749, 0.07487524108974554, 0.0...      2\n4          5436.0  [0.028818125484047188, 0.02471954469685771, 0....      0\n..            ...                                                ...    ...\n941      942436.0  [0.02258746497266887, 0.018580595931532815, 0....     -1\n942      943436.0  [0.03575053160503277, 0.03564018155802227, 0.0...     -1\n943      944436.0  [0.030996596628728112, 0.028858710017469907, 0...     -1\n944      945436.0  [0.030891367009021852, 0.030663095755187705, 0...     -1\n945      946436.0  [0.023734211767239888, 0.02161133872695974, 0....     -1\n\n[946 rows x 3 columns]",
      "text/html": "<div>\n<style scoped>\n    .dataframe tbody tr th:only-of-type {\n        vertical-align: middle;\n    }\n\n    .dataframe tbody tr th {\n        vertical-align: top;\n    }\n\n    .dataframe thead th {\n        text-align: right;\n    }\n</style>\n<table border=\"1\" class=\"dataframe\">\n  <thead>\n    <tr style=\"text-align: right;\">\n      <th></th>\n      <th>window_start</th>\n      <th>fv</th>\n      <th>label</th>\n    </tr>\n  </thead>\n  <tbody>\n    <tr>\n      <th>0</th>\n      <td>1436.0</td>\n      <td>[0.025656345787360417, 0.032179734517346216, 0...</td>\n      <td>0</td>\n    </tr>\n    <tr>\n      <th>1</th>\n      <td>2436.0</td>\n      <td>[0.025213492886223276, 0.025289140962647953, 0...</td>\n      <td>3</td>\n    </tr>\n    <tr>\n      <th>2</th>\n      <td>3436.0</td>\n      <td>[0.023487781808931615, 0.01826561582104771, 0....</td>\n      <td>1</td>\n    </tr>\n    <tr>\n      <th>3</th>\n      <td>4436.0</td>\n      <td>[0.06850261987711749, 0.07487524108974554, 0.0...</td>\n      <td>2</td>\n    </tr>\n    <tr>\n      <th>4</th>\n      <td>5436.0</td>\n      <td>[0.028818125484047188, 0.02471954469685771, 0....</td>\n      <td>0</td>\n    </tr>\n    <tr>\n      <th>...</th>\n      <td>...</td>\n      <td>...</td>\n      <td>...</td>\n    </tr>\n    <tr>\n      <th>941</th>\n      <td>942436.0</td>\n      <td>[0.02258746497266887, 0.018580595931532815, 0....</td>\n      <td>-1</td>\n    </tr>\n    <tr>\n      <th>942</th>\n      <td>943436.0</td>\n      <td>[0.03575053160503277, 0.03564018155802227, 0.0...</td>\n      <td>-1</td>\n    </tr>\n    <tr>\n      <th>943</th>\n      <td>944436.0</td>\n      <td>[0.030996596628728112, 0.028858710017469907, 0...</td>\n      <td>-1</td>\n    </tr>\n    <tr>\n      <th>944</th>\n      <td>945436.0</td>\n      <td>[0.030891367009021852, 0.030663095755187705, 0...</td>\n      <td>-1</td>\n    </tr>\n    <tr>\n      <th>945</th>\n      <td>946436.0</td>\n      <td>[0.023734211767239888, 0.02161133872695974, 0....</td>\n      <td>-1</td>\n    </tr>\n  </tbody>\n</table>\n<p>946 rows × 3 columns</p>\n</div>"
     },
     "metadata": {}
    },
    {
     "output_type": "stream",
     "name": "stdout",
     "text": [
      "\n\nWindow Length (seconds): 2\n\n\nPhase Range Of Interest:\n"
     ]
    },
    {
     "output_type": "display_data",
     "data": {
      "text/plain": "array([ 1. ,  1.1,  1.2,  1.3,  1.4,  1.5,  1.6,  1.7,  1.8,  1.9,  2. ,\n        2.1,  2.2,  2.3,  2.4,  2.5,  2.6,  2.7,  2.8,  2.9,  3. ,  3.1,\n        3.2,  3.3,  3.4,  3.5,  3.6,  3.7,  3.8,  3.9,  4. ,  4.1,  4.2,\n        4.3,  4.4,  4.5,  4.6,  4.7,  4.8,  4.9,  5. ,  5.1,  5.2,  5.3,\n        5.4,  5.5,  5.6,  5.7,  5.8,  5.9,  6. ,  6.1,  6.2,  6.3,  6.4,\n        6.5,  6.6,  6.7,  6.8,  6.9,  7. ,  7.1,  7.2,  7.3,  7.4,  7.5,\n        7.6,  7.7,  7.8,  7.9,  8. ,  8.1,  8.2,  8.3,  8.4,  8.5,  8.6,\n        8.7,  8.8,  8.9,  9. ,  9.1,  9.2,  9.3,  9.4,  9.5,  9.6,  9.7,\n        9.8,  9.9, 10. ])"
     },
     "metadata": {}
    },
    {
     "output_type": "stream",
     "name": "stdout",
     "text": [
      "\n\nAmplitude Range Of Interest:\n"
     ]
    },
    {
     "output_type": "display_data",
     "data": {
      "text/plain": "array([ 20,  21,  22,  23,  24,  25,  26,  27,  28,  29,  30,  31,  32,\n        33,  34,  35,  36,  37,  38,  39,  40,  41,  42,  43,  44,  45,\n        46,  47,  48,  49,  50,  51,  52,  53,  54,  55,  56,  57,  58,\n        59,  60,  61,  62,  63,  64,  65,  66,  67,  68,  69,  70,  71,\n        72,  73,  74,  75,  76,  77,  78,  79,  80,  81,  82,  83,  84,\n        85,  86,  87,  88,  89,  90,  91,  92,  93,  94,  95,  96,  97,\n        98,  99, 100, 101, 102, 103, 104, 105, 106, 107, 108, 109, 110,\n       111, 112, 113, 114, 115, 116, 117, 118, 119, 120, 121, 122, 123,\n       124, 125, 126, 127, 128, 129, 130, 131, 132, 133, 134, 135, 136,\n       137, 138, 139, 140, 141, 142, 143, 144, 145, 146, 147, 148, 149,\n       150], dtype=int64)"
     },
     "metadata": {}
    },
    {
     "output_type": "stream",
     "name": "stdout",
     "text": [
      "\n\nNumber of Datapoints Per GPAC Image: 11921\n\n\n\n---------- EYE BLINKING DATA FORMAT ----------\n\n\nData For Training:\n"
     ]
    },
    {
     "output_type": "display_data",
     "data": {
      "text/plain": "                                                  samples      time\n0       [9.709728321448466, 11.525812172656526, 13.811...  0.000000\n1       [13.009598524570704, 13.692492531665714, 13.11...  0.003906\n2       [9.744855775183703, 11.290155037317742, 12.201...  0.007812\n3       [40.81332724299266, 49.899748469388484, 62.085...  0.011719\n4       [151.66833596629317, 157.53203247940522, 159.1...  0.015625\n...                                                   ...       ...\n893947  [-0.07466539432252636, -0.33331168671831746, -...  3.980469\n893948  [-0.7983416909075477, -0.6307943974575243, -0....  3.984375\n893949  [-1.0631469307127797, -0.9587214956166292, -0....  3.988281\n893950  [-0.4765436059788351, -0.570592790940478, -0.5...  3.992188\n893951  [-0.3224589034947376, -0.2463593809841095, -0....  3.996094\n\n[893952 rows x 2 columns]",
      "text/html": "<div>\n<style scoped>\n    .dataframe tbody tr th:only-of-type {\n        vertical-align: middle;\n    }\n\n    .dataframe tbody tr th {\n        vertical-align: top;\n    }\n\n    .dataframe thead th {\n        text-align: right;\n    }\n</style>\n<table border=\"1\" class=\"dataframe\">\n  <thead>\n    <tr style=\"text-align: right;\">\n      <th></th>\n      <th>samples</th>\n      <th>time</th>\n    </tr>\n  </thead>\n  <tbody>\n    <tr>\n      <th>0</th>\n      <td>[9.709728321448466, 11.525812172656526, 13.811...</td>\n      <td>0.000000</td>\n    </tr>\n    <tr>\n      <th>1</th>\n      <td>[13.009598524570704, 13.692492531665714, 13.11...</td>\n      <td>0.003906</td>\n    </tr>\n    <tr>\n      <th>2</th>\n      <td>[9.744855775183703, 11.290155037317742, 12.201...</td>\n      <td>0.007812</td>\n    </tr>\n    <tr>\n      <th>3</th>\n      <td>[40.81332724299266, 49.899748469388484, 62.085...</td>\n      <td>0.011719</td>\n    </tr>\n    <tr>\n      <th>4</th>\n      <td>[151.66833596629317, 157.53203247940522, 159.1...</td>\n      <td>0.015625</td>\n    </tr>\n    <tr>\n      <th>...</th>\n      <td>...</td>\n      <td>...</td>\n    </tr>\n    <tr>\n      <th>893947</th>\n      <td>[-0.07466539432252636, -0.33331168671831746, -...</td>\n      <td>3.980469</td>\n    </tr>\n    <tr>\n      <th>893948</th>\n      <td>[-0.7983416909075477, -0.6307943974575243, -0....</td>\n      <td>3.984375</td>\n    </tr>\n    <tr>\n      <th>893949</th>\n      <td>[-1.0631469307127797, -0.9587214956166292, -0....</td>\n      <td>3.988281</td>\n    </tr>\n    <tr>\n      <th>893950</th>\n      <td>[-0.4765436059788351, -0.570592790940478, -0.5...</td>\n      <td>3.992188</td>\n    </tr>\n    <tr>\n      <th>893951</th>\n      <td>[-0.3224589034947376, -0.2463593809841095, -0....</td>\n      <td>3.996094</td>\n    </tr>\n  </tbody>\n</table>\n<p>893952 rows × 2 columns</p>\n</div>"
     },
     "metadata": {}
    },
    {
     "output_type": "stream",
     "name": "stdout",
     "text": [
      "\n\nElectrode Names:\n"
     ]
    },
    {
     "output_type": "display_data",
     "data": {
      "text/plain": "array(['FP1', 'FP2', 'F3', 'F4', 'T3', 'C3', 'Cz', 'C4', 'T4', 'P3', 'Pz',\n       'P4', 'O1', 'O2'], dtype='<U3')"
     },
     "metadata": {}
    },
    {
     "output_type": "stream",
     "name": "stdout",
     "text": [
      "\n\nNumber of Channels Per Sample: 14\n\n\n\n---------- HAND MOVEMENT DATA FORMAT ----------\n\n\nData For Training:\n"
     ]
    },
    {
     "output_type": "display_data",
     "data": {
      "text/plain": "                                                 samples      time\n0      [-8795.496, -168015.5, -167905.25, 392687.75, ...  0.000000\n1      [-8674.496, -168004.75, -167760.5, 392804.75, ...  0.001953\n2      [-8550.246, -168029.25, -167880.75, 392784.0, ...  0.003906\n3      [-8206.246, -167617.5, -167718.75, 392882.25, ...  0.005859\n4      [-8042.246, -167546.75, -167698.75, 392884.0, ...  0.007812\n...                                                  ...       ...\n61435  [-24420.746, -164252.0, -165280.5, 372158.5, 4...  2.990234\n61436  [-24517.496, -164330.25, -165492.5, 372145.75,...  2.992188\n61437  [-24435.746, -164441.0, -165577.75, 372174.0, ...  2.994141\n61438  [-24356.996, -164573.25, -165559.5, 372181.25,...  2.996094\n61439  [-24260.246, -164699.75, -165527.75, 372286.5,...  2.998047\n\n[61440 rows x 2 columns]",
      "text/html": "<div>\n<style scoped>\n    .dataframe tbody tr th:only-of-type {\n        vertical-align: middle;\n    }\n\n    .dataframe tbody tr th {\n        vertical-align: top;\n    }\n\n    .dataframe thead th {\n        text-align: right;\n    }\n</style>\n<table border=\"1\" class=\"dataframe\">\n  <thead>\n    <tr style=\"text-align: right;\">\n      <th></th>\n      <th>samples</th>\n      <th>time</th>\n    </tr>\n  </thead>\n  <tbody>\n    <tr>\n      <th>0</th>\n      <td>[-8795.496, -168015.5, -167905.25, 392687.75, ...</td>\n      <td>0.000000</td>\n    </tr>\n    <tr>\n      <th>1</th>\n      <td>[-8674.496, -168004.75, -167760.5, 392804.75, ...</td>\n      <td>0.001953</td>\n    </tr>\n    <tr>\n      <th>2</th>\n      <td>[-8550.246, -168029.25, -167880.75, 392784.0, ...</td>\n      <td>0.003906</td>\n    </tr>\n    <tr>\n      <th>3</th>\n      <td>[-8206.246, -167617.5, -167718.75, 392882.25, ...</td>\n      <td>0.005859</td>\n    </tr>\n    <tr>\n      <th>4</th>\n      <td>[-8042.246, -167546.75, -167698.75, 392884.0, ...</td>\n      <td>0.007812</td>\n    </tr>\n    <tr>\n      <th>...</th>\n      <td>...</td>\n      <td>...</td>\n    </tr>\n    <tr>\n      <th>61435</th>\n      <td>[-24420.746, -164252.0, -165280.5, 372158.5, 4...</td>\n      <td>2.990234</td>\n    </tr>\n    <tr>\n      <th>61436</th>\n      <td>[-24517.496, -164330.25, -165492.5, 372145.75,...</td>\n      <td>2.992188</td>\n    </tr>\n    <tr>\n      <th>61437</th>\n      <td>[-24435.746, -164441.0, -165577.75, 372174.0, ...</td>\n      <td>2.994141</td>\n    </tr>\n    <tr>\n      <th>61438</th>\n      <td>[-24356.996, -164573.25, -165559.5, 372181.25,...</td>\n      <td>2.996094</td>\n    </tr>\n    <tr>\n      <th>61439</th>\n      <td>[-24260.246, -164699.75, -165527.75, 372286.5,...</td>\n      <td>2.998047</td>\n    </tr>\n  </tbody>\n</table>\n<p>61440 rows × 2 columns</p>\n</div>"
     },
     "metadata": {}
    },
    {
     "output_type": "stream",
     "name": "stdout",
     "text": [
      "\n\nNumber of Channels Per Sample: 64\n\n\n\n---------- RESTING STATE DATA FORMAT ----------\n\n\nData For Training:\n"
     ]
    },
    {
     "output_type": "display_data",
     "data": {
      "text/plain": "                                                  samples         time\n0       [-15039.956585881504, -16343.235427751268, -18...     0.000000\n1       [-15042.081581955048, -16348.829167415448, -18...     0.003906\n2       [-15039.644086458924, -16348.95416718448, -180...     0.007812\n3       [-15038.081589346026, -16347.985418974482, -18...     0.011719\n4       [-15042.67533085795, -16351.735412045442, -180...     0.015625\n...                                                   ...          ...\n389883  [-12615.77356515965, -15125.862677148738, -173...  1522.980469\n389884  [-12612.398571395786, -15122.331433673584, -17...  1522.984375\n389885  [-12606.773581789348, -15113.487700014572, -17...  1522.988281\n389886  [-12604.08608675516, -15109.300207752, -17298....  1522.992188\n389887  [-12601.961090681616, -15106.33146323749, -172...  1522.996094\n\n[389888 rows x 2 columns]",
      "text/html": "<div>\n<style scoped>\n    .dataframe tbody tr th:only-of-type {\n        vertical-align: middle;\n    }\n\n    .dataframe tbody tr th {\n        vertical-align: top;\n    }\n\n    .dataframe thead th {\n        text-align: right;\n    }\n</style>\n<table border=\"1\" class=\"dataframe\">\n  <thead>\n    <tr style=\"text-align: right;\">\n      <th></th>\n      <th>samples</th>\n      <th>time</th>\n    </tr>\n  </thead>\n  <tbody>\n    <tr>\n      <th>0</th>\n      <td>[-15039.956585881504, -16343.235427751268, -18...</td>\n      <td>0.000000</td>\n    </tr>\n    <tr>\n      <th>1</th>\n      <td>[-15042.081581955048, -16348.829167415448, -18...</td>\n      <td>0.003906</td>\n    </tr>\n    <tr>\n      <th>2</th>\n      <td>[-15039.644086458924, -16348.95416718448, -180...</td>\n      <td>0.007812</td>\n    </tr>\n    <tr>\n      <th>3</th>\n      <td>[-15038.081589346026, -16347.985418974482, -18...</td>\n      <td>0.011719</td>\n    </tr>\n    <tr>\n      <th>4</th>\n      <td>[-15042.67533085795, -16351.735412045442, -180...</td>\n      <td>0.015625</td>\n    </tr>\n    <tr>\n      <th>...</th>\n      <td>...</td>\n      <td>...</td>\n    </tr>\n    <tr>\n      <th>389883</th>\n      <td>[-12615.77356515965, -15125.862677148738, -173...</td>\n      <td>1522.980469</td>\n    </tr>\n    <tr>\n      <th>389884</th>\n      <td>[-12612.398571395786, -15122.331433673584, -17...</td>\n      <td>1522.984375</td>\n    </tr>\n    <tr>\n      <th>389885</th>\n      <td>[-12606.773581789348, -15113.487700014572, -17...</td>\n      <td>1522.988281</td>\n    </tr>\n    <tr>\n      <th>389886</th>\n      <td>[-12604.08608675516, -15109.300207752, -17298....</td>\n      <td>1522.992188</td>\n    </tr>\n    <tr>\n      <th>389887</th>\n      <td>[-12601.961090681616, -15106.33146323749, -172...</td>\n      <td>1522.996094</td>\n    </tr>\n  </tbody>\n</table>\n<p>389888 rows × 2 columns</p>\n</div>"
     },
     "metadata": {}
    },
    {
     "output_type": "stream",
     "name": "stdout",
     "text": [
      "\n\nElectrode Names:\n"
     ]
    },
    {
     "output_type": "display_data",
     "data": {
      "text/plain": "array(['Fp1', 'AF7', 'AF3', 'F1', 'F3', 'F5', 'F7', 'FT7', 'FC5', 'FC3',\n       'FC1', 'C1', 'C3', 'C5', 'T7', 'TP7', 'CP5', 'CP3', 'CP1', 'P1',\n       'P3', 'P5', 'P7', 'P9', 'PO7', 'PO3', 'O1', 'Iz', 'Oz', 'POz',\n       'Pz', 'CPz', 'Fpz', 'Fp2', 'AF8', 'AF4', 'AFz', 'Fz', 'F2', 'F4',\n       'F6', 'F8', 'FT8', 'FC6', 'FC4', 'FC2', 'FCz', 'Cz', 'C2', 'C4',\n       'C6', 'T8', 'TP8', 'CP6', 'CP4', 'CP2', 'P2', 'P4', 'P6', 'P8',\n       'P10', 'PO8', 'PO4', 'O2', 'M1', 'M2'], dtype='<U3')"
     },
     "metadata": {}
    },
    {
     "output_type": "stream",
     "name": "stdout",
     "text": [
      "\n\nNumber of Channels Per Sample: 66\n"
     ]
    }
   ],
   "source": [
    "# Time series data\n",
    "print(\"---------- TIME SERIES DATA FORMAT ----------\")\n",
    "\n",
    "print(\"\\n\\nData For Training:\")\n",
    "display(test_timeseries_data['data'])\n",
    "\n",
    "print(\"\\n\\nElectrode Names:\")\n",
    "display(test_timeseries_data['electrodes'])\n",
    "\n",
    "print(f\"\\n\\nNumber of Channels Per Sample: {len(test_timeseries_data['data']['samples'][0])}\")\n",
    "\n",
    "\n",
    "# GPAC image data\n",
    "print(\"\\n\\n\\n---------- GPAC IMAGE DATA FORMAT ----------\")\n",
    "\n",
    "print(\"\\n\\nData For Training:\")\n",
    "display(test_gpac_data['data'])\n",
    "\n",
    "print(f\"\\n\\nWindow Length (seconds): {test_gpac_data['window_len'].item()}\")\n",
    "\n",
    "print(\"\\n\\nPhase Range Of Interest:\")\n",
    "display(test_gpac_data['lf'])\n",
    "\n",
    "print(\"\\n\\nAmplitude Range Of Interest:\")\n",
    "display(test_gpac_data['hf'])\n",
    "\n",
    "print(f\"\\n\\nNumber of Datapoints Per GPAC Image: {len(test_gpac_data['data']['fv'][0])}\")\n",
    "\n",
    "\n",
    "# Eye blinking data\n",
    "print(\"\\n\\n\\n---------- EYE BLINKING DATA FORMAT ----------\")\n",
    "\n",
    "# Note that for the eye blinking data, multiple windows from different sessions live together in the same\n",
    "# data structure. Each of these windows is 4s in length. As a result, time does not increase in each\n",
    "# successful row in the data structure indefinitely, but rather increases from 0 to (4 - 1/256) and then\n",
    "# will reset to 0 for the next row.\n",
    "print(\"\\n\\nData For Training:\")\n",
    "display(test_eye_blinking_data['data'])\n",
    "\n",
    "print(\"\\n\\nElectrode Names:\")\n",
    "display(test_eye_blinking_data['electrodes'])\n",
    "\n",
    "print(f\"\\n\\nNumber of Channels Per Sample: {len(test_eye_blinking_data['data']['samples'][0])}\")\n",
    "\n",
    "\n",
    "# Hand movement data\n",
    "print(\"\\n\\n\\n---------- HAND MOVEMENT DATA FORMAT ----------\")\n",
    "\n",
    "# Note that for the hand movement data, multiple windows from different sessions live together in the same\n",
    "# data structure. Each of these windows is 3s in length. As a result, time does not increase in each\n",
    "# successful row in the data structure indefinitely, but rather increases from 0 to (3 - 1/512) and then\n",
    "# will reset to 0 for the next row.\n",
    "print(\"\\n\\nData For Training:\")\n",
    "display(test_hand_movement_data['data'])\n",
    "\n",
    "print(f\"\\n\\nNumber of Channels Per Sample: {len(test_hand_movement_data['data']['samples'][0])}\")\n",
    "\n",
    "\n",
    "# Resting state data\n",
    "print(\"\\n\\n\\n---------- RESTING STATE DATA FORMAT ----------\")\n",
    "\n",
    "print(\"\\n\\nData For Training:\")\n",
    "display(test_resting_state_data['data'])\n",
    "\n",
    "print(\"\\n\\nElectrode Names:\")\n",
    "display(test_resting_state_data['electrodes'])\n",
    "\n",
    "print(f\"\\n\\nNumber of Channels Per Sample: {len(test_resting_state_data['data']['samples'][0])}\")"
   ]
  },
  {
   "cell_type": "code",
   "execution_count": 5,
   "metadata": {},
   "outputs": [
    {
     "output_type": "stream",
     "name": "stdout",
     "text": [
      "\n\nAs seen in the GPAC Dataframe in the previous cell, the label begins at t=1436, and below you can see that change:\n"
     ]
    },
    {
     "output_type": "display_data",
     "data": {
      "text/plain": "                                                samples   time  label\n1433  [-3.918726818570923e-05, 3.1590051061025356e-0...  2.866     -1\n1434  [-2.7482217912228493e-05, 3.294411591614816e-0...  2.868     -1\n1435  [-3.871242545568842e-05, 3.251909070927831e-05...  2.870     -1\n1436  [-4.014147248365788e-05, 3.043857439682265e-05...  2.872      0\n1437  [-3.478690402970244e-05, 3.202987604497138e-05...  2.874      0\n1438  [-3.337380150125322e-05, 3.7954873986926406e-0...  2.876      0",
      "text/html": "<div>\n<style scoped>\n    .dataframe tbody tr th:only-of-type {\n        vertical-align: middle;\n    }\n\n    .dataframe tbody tr th {\n        vertical-align: top;\n    }\n\n    .dataframe thead th {\n        text-align: right;\n    }\n</style>\n<table border=\"1\" class=\"dataframe\">\n  <thead>\n    <tr style=\"text-align: right;\">\n      <th></th>\n      <th>samples</th>\n      <th>time</th>\n      <th>label</th>\n    </tr>\n  </thead>\n  <tbody>\n    <tr>\n      <th>1433</th>\n      <td>[-3.918726818570923e-05, 3.1590051061025356e-0...</td>\n      <td>2.866</td>\n      <td>-1</td>\n    </tr>\n    <tr>\n      <th>1434</th>\n      <td>[-2.7482217912228493e-05, 3.294411591614816e-0...</td>\n      <td>2.868</td>\n      <td>-1</td>\n    </tr>\n    <tr>\n      <th>1435</th>\n      <td>[-3.871242545568842e-05, 3.251909070927831e-05...</td>\n      <td>2.870</td>\n      <td>-1</td>\n    </tr>\n    <tr>\n      <th>1436</th>\n      <td>[-4.014147248365788e-05, 3.043857439682265e-05...</td>\n      <td>2.872</td>\n      <td>0</td>\n    </tr>\n    <tr>\n      <th>1437</th>\n      <td>[-3.478690402970244e-05, 3.202987604497138e-05...</td>\n      <td>2.874</td>\n      <td>0</td>\n    </tr>\n    <tr>\n      <th>1438</th>\n      <td>[-3.337380150125322e-05, 3.7954873986926406e-0...</td>\n      <td>2.876</td>\n      <td>0</td>\n    </tr>\n  </tbody>\n</table>\n</div>"
     },
     "metadata": {}
    },
    {
     "output_type": "stream",
     "name": "stdout",
     "text": [
      "\n\nSimilarly, the second label begins at t=2436, and below you can see that change:\n"
     ]
    },
    {
     "output_type": "display_data",
     "data": {
      "text/plain": "                                                samples   time  label\n2433  [6.336374464748228e-05, 6.706071296848414e-05,...  4.866      0\n2434  [5.307997547277073e-05, 6.623601097400111e-05,...  4.868      0\n2435  [5.416560886950276e-05, 6.953586163041345e-05,...  4.870      0\n2436  [6.708489008597993e-05, 7.019486785538814e-05,...  4.872      3\n2437  [7.915946937218587e-05, 7.136690139654629e-05,...  4.874      3\n2438  [7.392872574665033e-05, 7.387425424376896e-05,...  4.876      3",
      "text/html": "<div>\n<style scoped>\n    .dataframe tbody tr th:only-of-type {\n        vertical-align: middle;\n    }\n\n    .dataframe tbody tr th {\n        vertical-align: top;\n    }\n\n    .dataframe thead th {\n        text-align: right;\n    }\n</style>\n<table border=\"1\" class=\"dataframe\">\n  <thead>\n    <tr style=\"text-align: right;\">\n      <th></th>\n      <th>samples</th>\n      <th>time</th>\n      <th>label</th>\n    </tr>\n  </thead>\n  <tbody>\n    <tr>\n      <th>2433</th>\n      <td>[6.336374464748228e-05, 6.706071296848414e-05,...</td>\n      <td>4.866</td>\n      <td>0</td>\n    </tr>\n    <tr>\n      <th>2434</th>\n      <td>[5.307997547277073e-05, 6.623601097400111e-05,...</td>\n      <td>4.868</td>\n      <td>0</td>\n    </tr>\n    <tr>\n      <th>2435</th>\n      <td>[5.416560886950276e-05, 6.953586163041345e-05,...</td>\n      <td>4.870</td>\n      <td>0</td>\n    </tr>\n    <tr>\n      <th>2436</th>\n      <td>[6.708489008597993e-05, 7.019486785538814e-05,...</td>\n      <td>4.872</td>\n      <td>3</td>\n    </tr>\n    <tr>\n      <th>2437</th>\n      <td>[7.915946937218587e-05, 7.136690139654629e-05,...</td>\n      <td>4.874</td>\n      <td>3</td>\n    </tr>\n    <tr>\n      <th>2438</th>\n      <td>[7.392872574665033e-05, 7.387425424376896e-05,...</td>\n      <td>4.876</td>\n      <td>3</td>\n    </tr>\n  </tbody>\n</table>\n</div>"
     },
     "metadata": {}
    },
    {
     "output_type": "stream",
     "name": "stdout",
     "text": [
      "\n\nLabel value statistics of the time-series data:\n-1    889499\n 3     15000\n 2     15000\n 1     15000\n 0     15000\nName: label, dtype: int64\n\n\nLabel value statistics of the GPAC data:\n-1    886\n 3     15\n 2     15\n 1     15\n 0     15\nName: label, dtype: int64\n"
     ]
    }
   ],
   "source": [
    "def label_time_series(time_series, GPAC_series):\n",
    "    \"\"\"\n",
    "    Fucntion that will translate the labels from the GPAC Dataframe to the Time-Series DataFrame \n",
    "    \"\"\"\n",
    "    \n",
    "    # Initial label value for all rows in the time_series\n",
    "    time_series['data']['label'] = -1\n",
    "    \n",
    "    # Iterate through the GPAC rows to obtain the window value and the label \n",
    "    for index, row in GPAC_series['data'].iterrows():\n",
    "        window_start = int(row['window_start'])\n",
    "        label_value = row['label']\n",
    "        \n",
    "        # Set the 'label' value for the time series Dataframe\n",
    "        # Add 1000 to window_start because in time_series it is separated by intervals of 0.002 s.\n",
    "        # 1 window size = 2s, 2 / 0.002 = 1000 rows \n",
    "        time_series['data'].loc[window_start : window_start+1000, 'label'] = label_value\n",
    "    \n",
    "    return time_series\n",
    "    \n",
    "test_timeseries_data_labelled = label_time_series(test_timeseries_data, test_gpac_data)\n",
    "\n",
    "print(\"\\n\\nAs seen in the GPAC Dataframe in the previous cell, the label begins at t=1436, and below you can see that change:\")\n",
    "display(test_timeseries_data_labelled['data'].iloc[1433:1439])\n",
    "\n",
    "print(\"\\n\\nSimilarly, the second label begins at t=2436, and below you can see that change:\")\n",
    "display(test_timeseries_data_labelled['data'].iloc[2433:2439])\n",
    "\n",
    "print(\"\\n\\nLabel value statistics of the time-series data:\")\n",
    "print(test_timeseries_data_labelled['data']['label'].value_counts())\n",
    "\n",
    "print(\"\\n\\nLabel value statistics of the GPAC data:\")\n",
    "print(test_gpac_data['data']['label'].value_counts())"
   ]
  },
  {
   "cell_type": "code",
   "execution_count": 6,
   "metadata": {},
   "outputs": [
    {
     "output_type": "stream",
     "name": "stdout",
     "text": [
      "\n\n\nTraining DataFrame and class breakdown\n"
     ]
    },
    {
     "output_type": "display_data",
     "data": {
      "text/plain": "                                                    fv label\n23   [0.018301559404177783, 0.016191050183418685, 0...     0\n25   [0.01994675806197388, 0.01836840894162138, 0.0...     1\n3    [0.027993013047380923, 0.027283257408556676, 0...     3\n57   [0.062484502857957896, 0.06227094366153695, 0....     2\n116  [0.036048090198878564, 0.03346645338383887, 0....     0\n..                                                 ...   ...\n301  [0.04243789441092988, 0.031468892938120184, 0....     2\n78   [0.01867367673840801, 0.018222437391824706, 0....     3\n111  [0.030582777834395232, 0.027439392712002166, 0...     0\n67   [0.023998793777635818, 0.023887692881069233, 0...     2\n45   [0.022246524919926885, 0.02076634122058533, 0....     1\n\n[713 rows x 2 columns]",
      "text/html": "<div>\n<style scoped>\n    .dataframe tbody tr th:only-of-type {\n        vertical-align: middle;\n    }\n\n    .dataframe tbody tr th {\n        vertical-align: top;\n    }\n\n    .dataframe thead th {\n        text-align: right;\n    }\n</style>\n<table border=\"1\" class=\"dataframe\">\n  <thead>\n    <tr style=\"text-align: right;\">\n      <th></th>\n      <th>fv</th>\n      <th>label</th>\n    </tr>\n  </thead>\n  <tbody>\n    <tr>\n      <th>23</th>\n      <td>[0.018301559404177783, 0.016191050183418685, 0...</td>\n      <td>0</td>\n    </tr>\n    <tr>\n      <th>25</th>\n      <td>[0.01994675806197388, 0.01836840894162138, 0.0...</td>\n      <td>1</td>\n    </tr>\n    <tr>\n      <th>3</th>\n      <td>[0.027993013047380923, 0.027283257408556676, 0...</td>\n      <td>3</td>\n    </tr>\n    <tr>\n      <th>57</th>\n      <td>[0.062484502857957896, 0.06227094366153695, 0....</td>\n      <td>2</td>\n    </tr>\n    <tr>\n      <th>116</th>\n      <td>[0.036048090198878564, 0.03346645338383887, 0....</td>\n      <td>0</td>\n    </tr>\n    <tr>\n      <th>...</th>\n      <td>...</td>\n      <td>...</td>\n    </tr>\n    <tr>\n      <th>301</th>\n      <td>[0.04243789441092988, 0.031468892938120184, 0....</td>\n      <td>2</td>\n    </tr>\n    <tr>\n      <th>78</th>\n      <td>[0.01867367673840801, 0.018222437391824706, 0....</td>\n      <td>3</td>\n    </tr>\n    <tr>\n      <th>111</th>\n      <td>[0.030582777834395232, 0.027439392712002166, 0...</td>\n      <td>0</td>\n    </tr>\n    <tr>\n      <th>67</th>\n      <td>[0.023998793777635818, 0.023887692881069233, 0...</td>\n      <td>2</td>\n    </tr>\n    <tr>\n      <th>45</th>\n      <td>[0.022246524919926885, 0.02076634122058533, 0....</td>\n      <td>1</td>\n    </tr>\n  </tbody>\n</table>\n<p>713 rows × 2 columns</p>\n</div>"
     },
     "metadata": {}
    },
    {
     "output_type": "stream",
     "name": "stdout",
     "text": [
      "1    185\n0    185\n2    175\n3    168\nName: label, dtype: int64\n\n\n\nValidation DataFrame and class breakdown\n"
     ]
    },
    {
     "output_type": "display_data",
     "data": {
      "text/plain": "                                                    fv label\n57   [0.023210768120139995, 0.02397481439445296, 0....     0\n391  [0.012000751484808949, 0.014668486885496884, 0...     2\n141  [0.02297273660933318, 0.028571106234670976, 0....     3\n659  [0.018681566582652482, 0.02137612430195521, 0....     2\n51   [0.01742880927542176, 0.01727879289693374, 0.0...     0\n..                                                 ...   ...\n294  [0.019274734963773667, 0.01964530289860449, 0....     3\n74   [0.017314829640633116, 0.019576010425275958, 0...     0\n30   [0.021855765364977152, 0.02317689953382368, 0....     3\n3    [0.025761694022292014, 0.02667989210991661, 0....     0\n118  [0.027445126989337293, 0.024770809675552504, 0...     1\n\n[153 rows x 2 columns]",
      "text/html": "<div>\n<style scoped>\n    .dataframe tbody tr th:only-of-type {\n        vertical-align: middle;\n    }\n\n    .dataframe tbody tr th {\n        vertical-align: top;\n    }\n\n    .dataframe thead th {\n        text-align: right;\n    }\n</style>\n<table border=\"1\" class=\"dataframe\">\n  <thead>\n    <tr style=\"text-align: right;\">\n      <th></th>\n      <th>fv</th>\n      <th>label</th>\n    </tr>\n  </thead>\n  <tbody>\n    <tr>\n      <th>57</th>\n      <td>[0.023210768120139995, 0.02397481439445296, 0....</td>\n      <td>0</td>\n    </tr>\n    <tr>\n      <th>391</th>\n      <td>[0.012000751484808949, 0.014668486885496884, 0...</td>\n      <td>2</td>\n    </tr>\n    <tr>\n      <th>141</th>\n      <td>[0.02297273660933318, 0.028571106234670976, 0....</td>\n      <td>3</td>\n    </tr>\n    <tr>\n      <th>659</th>\n      <td>[0.018681566582652482, 0.02137612430195521, 0....</td>\n      <td>2</td>\n    </tr>\n    <tr>\n      <th>51</th>\n      <td>[0.01742880927542176, 0.01727879289693374, 0.0...</td>\n      <td>0</td>\n    </tr>\n    <tr>\n      <th>...</th>\n      <td>...</td>\n      <td>...</td>\n    </tr>\n    <tr>\n      <th>294</th>\n      <td>[0.019274734963773667, 0.01964530289860449, 0....</td>\n      <td>3</td>\n    </tr>\n    <tr>\n      <th>74</th>\n      <td>[0.017314829640633116, 0.019576010425275958, 0...</td>\n      <td>0</td>\n    </tr>\n    <tr>\n      <th>30</th>\n      <td>[0.021855765364977152, 0.02317689953382368, 0....</td>\n      <td>3</td>\n    </tr>\n    <tr>\n      <th>3</th>\n      <td>[0.025761694022292014, 0.02667989210991661, 0....</td>\n      <td>0</td>\n    </tr>\n    <tr>\n      <th>118</th>\n      <td>[0.027445126989337293, 0.024770809675552504, 0...</td>\n      <td>1</td>\n    </tr>\n  </tbody>\n</table>\n<p>153 rows × 2 columns</p>\n</div>"
     },
     "metadata": {}
    },
    {
     "output_type": "stream",
     "name": "stdout",
     "text": [
      "3    47\n1    38\n2    36\n0    32\nName: label, dtype: int64\n\n\n\nTesting DataFrame and class breakdown\n"
     ]
    },
    {
     "output_type": "display_data",
     "data": {
      "text/plain": "                                                    fv label\n59   [0.01873868774702581, 0.019221709357276837, 0....     1\n362  [0.011255097478693965, 0.010094310805970149, 0...     3\n449  [0.02641322268470771, 0.02416144737316132, 0.0...     2\n107  [0.015150718532073403, 0.019016164209349193, 0...     0\n41   [0.014017843437453499, 0.014647994612369902, 0...     1\n..                                                 ...   ...\n13   [0.02246842926240328, 0.020827275156348645, 0....     0\n96   [0.020721969920910452, 0.02032751075864317, 0....     3\n478  [0.03105682494659574, 0.030114205713642136, 0....     1\n97   [0.013754220693483293, 0.015193689500375317, 0...     3\n9    [0.033519125482464676, 0.030267071013703753, 0...     1\n\n[153 rows x 2 columns]",
      "text/html": "<div>\n<style scoped>\n    .dataframe tbody tr th:only-of-type {\n        vertical-align: middle;\n    }\n\n    .dataframe tbody tr th {\n        vertical-align: top;\n    }\n\n    .dataframe thead th {\n        text-align: right;\n    }\n</style>\n<table border=\"1\" class=\"dataframe\">\n  <thead>\n    <tr style=\"text-align: right;\">\n      <th></th>\n      <th>fv</th>\n      <th>label</th>\n    </tr>\n  </thead>\n  <tbody>\n    <tr>\n      <th>59</th>\n      <td>[0.01873868774702581, 0.019221709357276837, 0....</td>\n      <td>1</td>\n    </tr>\n    <tr>\n      <th>362</th>\n      <td>[0.011255097478693965, 0.010094310805970149, 0...</td>\n      <td>3</td>\n    </tr>\n    <tr>\n      <th>449</th>\n      <td>[0.02641322268470771, 0.02416144737316132, 0.0...</td>\n      <td>2</td>\n    </tr>\n    <tr>\n      <th>107</th>\n      <td>[0.015150718532073403, 0.019016164209349193, 0...</td>\n      <td>0</td>\n    </tr>\n    <tr>\n      <th>41</th>\n      <td>[0.014017843437453499, 0.014647994612369902, 0...</td>\n      <td>1</td>\n    </tr>\n    <tr>\n      <th>...</th>\n      <td>...</td>\n      <td>...</td>\n    </tr>\n    <tr>\n      <th>13</th>\n      <td>[0.02246842926240328, 0.020827275156348645, 0....</td>\n      <td>0</td>\n    </tr>\n    <tr>\n      <th>96</th>\n      <td>[0.020721969920910452, 0.02032751075864317, 0....</td>\n      <td>3</td>\n    </tr>\n    <tr>\n      <th>478</th>\n      <td>[0.03105682494659574, 0.030114205713642136, 0....</td>\n      <td>1</td>\n    </tr>\n    <tr>\n      <th>97</th>\n      <td>[0.013754220693483293, 0.015193689500375317, 0...</td>\n      <td>3</td>\n    </tr>\n    <tr>\n      <th>9</th>\n      <td>[0.033519125482464676, 0.030267071013703753, 0...</td>\n      <td>1</td>\n    </tr>\n  </tbody>\n</table>\n<p>153 rows × 2 columns</p>\n</div>"
     },
     "metadata": {}
    },
    {
     "output_type": "stream",
     "name": "stdout",
     "text": [
      "2    44\n3    40\n0    37\n1    32\nName: label, dtype: int64\n"
     ]
    }
   ],
   "source": [
    "def split_gpac_data(gpac_image_data):\n",
    "    \"\"\"\n",
    "    Function that takes all of the data, filters out the rows w/ a label of -1, and then splits \n",
    "    the data into Training, Validation, and Test \n",
    "    \"\"\"\n",
    "    \n",
    "    all_data = pd.DataFrame(data=None, columns=['fv', 'label'])\n",
    "    for data_file in gpac_image_data:\n",
    "        \n",
    "        # Isolate the image data portion of each dataset\n",
    "        sub_data = gpac_image_data[data_file]['data']\n",
    "        sub_data = sub_data.drop(['window_start'], axis=1)\n",
    "        \n",
    "        # Now we need to filter out the rows where the 'label' value is -1\n",
    "        all_data = all_data.append(sub_data[sub_data['label'] > -1])\n",
    " \n",
    "    # Now is the splitting of the dataframe into train, test, and validation datafames\n",
    "    train_data, valid_data, test_data = np.split(all_data.sample(frac=1, random_state=42),\n",
    "                                                [int(0.7 * len(all_data)), int(0.85 * len(all_data))])\n",
    "\n",
    "    return train_data, valid_data, test_data\n",
    "\n",
    "train_GPAC_data, valid_GPAC_data, test_GPAC_data = split_gpac_data(gpac_image_data)\n",
    "\n",
    "print('\\n\\n\\nTraining DataFrame and class breakdown')\n",
    "display(train_GPAC_data)\n",
    "print(train_GPAC_data['label'].value_counts())\n",
    "\n",
    "print('\\n\\n\\nValidation DataFrame and class breakdown')\n",
    "display(valid_GPAC_data)\n",
    "print(valid_GPAC_data['label'].value_counts())\n",
    "\n",
    "\n",
    "print('\\n\\n\\nTesting DataFrame and class breakdown')\n",
    "display(test_GPAC_data)\n",
    "print(test_GPAC_data['label'].value_counts())"
   ]
  }
 ],
 "metadata": {
  "kernelspec": {
   "name": "python3",
   "display_name": "Python 3.8.6 64-bit ('venv')",
   "metadata": {
    "interpreter": {
     "hash": "46b762b141216913ac00d1c9567a70cd354f233db3364335f7579c11f1217546"
    }
   }
  },
  "language_info": {
   "codemirror_mode": {
    "name": "ipython",
    "version": 3
   },
   "file_extension": ".py",
   "mimetype": "text/x-python",
   "name": "python",
   "nbconvert_exporter": "python",
   "pygments_lexer": "ipython3",
   "version": "3.8.6-final"
  }
 },
 "nbformat": 4,
 "nbformat_minor": 2
}