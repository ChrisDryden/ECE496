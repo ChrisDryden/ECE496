{
 "metadata": {
  "language_info": {
   "codemirror_mode": {
    "name": "ipython",
    "version": 3
   },
   "file_extension": ".py",
   "mimetype": "text/x-python",
   "name": "python",
   "nbconvert_exporter": "python",
   "pygments_lexer": "ipython3",
   "version": "3.8.6-final"
   "version": "3.8.3-final"
  },
  "orig_nbformat": 2,
  "kernelspec": {
   "name": "python3",
   "display_name": "Python 3"
  }
 },
 "nbformat": 4,
 "nbformat_minor": 2,
 "cells": [
  {
   "source": [
    "## Part 1: Data Processing"
   ],
   "cell_type": "markdown",
   "metadata": {}
  },
  {
   "source": [
    "### Process both time series and gamma phase-amplitude coupling (GPAC) images into dataframes"
   ],
   "cell_type": "markdown",
   "metadata": {}
  },
  {
   "cell_type": "code",
   "execution_count": 103,
   "metadata": {},
   "outputs": [],
   "source": [
    "import numpy as np\n",
    "import os\n",
    "import pandas as pd\n",
    "import scipy.io as sio\n",
    "\n",
    "from IPython.display import display"
   ]
  },
  {
   "source": [
    "def process_timeseries_data(path):\n",
    "    \"\"\" Reads and processes all time series data from MATLAB files in the provided\n",
    "    path. Only relevant data will be stored for use here.\n",
    "    \"\"\"\n",
    "    all_data = {}\n",
    "\n",
    "    for file_name in os.listdir(path):\n",
    "        # 'data' will contain all relevant data that should be used for training.\n",
    "        # Other keys will hold other useful information that shouldn't be directly\n",
    "        # needed for training.\n",
    "        data = {'data': {}}\n",
    "        \n",
    "        full_file_path = os.path.join(path, file_name)\n",
    "        mat_data = sio.loadmat(full_file_path)\n",
    "\n",
    "        # Time series data with size equal to the number of channels (i.e. electrodes).\n",
    "        # The electrode names can be indexed to find the electrode that a specific\n",
    "        # value in this time series data belongs to.\n",
    "        data['data']['samples'] = list(np.swapaxes(np.array(mat_data['Data']), 0, 1))\n",
    "\n",
    "        # Time points in seconds\n",
    "        data['data']['time'] = np.array(mat_data['Time'][0])\n",
    "\n",
    "        data['data'] = pd.DataFrame(data['data'])\n",
    "        \n",
    "        # List of electrode names following the 10-20 EEG recording system\n",
    "        data['electrodes'] = np.array([item.item() for item in mat_data['Electrodes'][0]])\n",
    "\n",
    "        all_data[full_file_path] = data\n",
    "\n",
    "    return all_data\n",
    "\n",
    "\n",
    "def process_gpac_image_data(path):\n",
    "    \"\"\" Reads and processes all GPAC image data from MATLAB files in the provided\n",
    "    path. Only relevant data will be stored for use here.\n",
    "    \"\"\"\n",
    "    all_data = {}\n",
    "\n",
    "    for file_name in os.listdir(path):\n",
    "        # 'data' will contain all relevant data that should be used for training.\n",
    "        # Other keys will hold other useful information that shouldn't be directly\n",
    "        # needed for training.\n",
    "        data = {'data': {}}\n",
    "        \n",
    "        full_file_path = os.path.join(path, file_name)\n",
    "        mat_data = sio.loadmat(full_file_path)\n",
    "\n",
    "        # Sample point number corresponding to the start of each 2s window\n",
    "        data['data']['window_start'] = np.array(mat_data['data']['wind'][0][0][0])\n",
    "\n",
    "        # GPAC data of size lf x hf, where lf and hf are the dimensions of the GPAC image\n",
    "        # Note that each window has its data flattened to one list of size lf x hf. We need\n",
    "        # to cast the reshaped data as a list so that, for this column, each row contains a\n",
    "        # list of the lf x hf data.\n",
    "        data['data']['fv'] = np.array(mat_data['data']['fv'][0][0])\n",
    "        data['data']['fv'] = list(data['data']['fv'].reshape(data['data']['fv'].shape[0], -1))\n",
    "\n",
    "        # Window labels: baseline interictal (0), blink (1), movement (2), or EMG (3). -1\n",
    "        # means the window wasn't labelled.\n",
    "        data['data']['label'] = np.squeeze(np.array(mat_data['training_labels']), axis=1)\n",
    "\n",
    "        data['data'] = pd.DataFrame(data['data'])\n",
    "\n",
    "        # The duration of the window chosen for analysis, which should always be 2s\n",
    "        data['window_len'] = np.array(mat_data['ws'][0])\n",
    "        \n",
    "        # lf and hf are the frequency values corresponding to the phase range and amplitude\n",
    "        # range of interest in the GPAC feature, respectively.\n",
    "        data['lf'] = np.array(mat_data['lf'][0])\n",
    "        data['hf'] = np.array(mat_data['hf'][0])\n",
    "\n",
    "        all_data[full_file_path] = data\n",
    "\n",
    "    return all_data"
   ],
   "cell_type": "code",
   "metadata": {},
   "execution_count": 436,
   "outputs": []
  },
  {
   "cell_type": "code",
   "execution_count": 437,
   "metadata": {
    "tags": []
   },
   "outputs": [],
   "source": [
    "# Read all relevant data from the MATLAB files\n",
    "BASE_DATA_PATH = \"data\"\n",
    "TIME_SERIES_DATA_PATH = os.path.join(BASE_DATA_PATH, \"TimeSeries\")\n",
    "GPAC_IMAGES_DATA_PATH = os.path.join(BASE_DATA_PATH, \"GPAC_Images_Labelled\")\n",
    "\n",
    "timeseries_data = process_timeseries_data(TIME_SERIES_DATA_PATH)\n",
    "gpac_image_data = process_gpac_image_data(GPAC_IMAGES_DATA_PATH)"
   ]
  },
  {
   "cell_type": "code",
   "execution_count": 453,
   "metadata": {},
   "outputs": [
    {
     "output_type": "stream",
     "name": "stdout",
     "text": [
      "---------- TIME SERIES DATA FORMAT ----------\n\n\nData For Training:\n"
     ]
    },
    {
     "output_type": "display_data",
     "data": {
      "text/plain": "                                                  samples      time\n0       [6.108219724308253e-05, 4.1935847751014113e-05...     0.000\n1       [6.0519399017154524e-05, 4.2618500927900726e-0...     0.002\n2       [6.742417259467301e-05, 4.1556992611811064e-05...     0.004\n3       [5.537121535626189e-05, 4.2360979111764424e-05...     0.006\n4       [5.912841684511108e-05, 4.846190553369728e-05,...     0.008\n...                                                   ...       ...\n949494  [-3.11911321717285e-05, 2.3324337114086137e-05...  1898.988\n949495  [-2.9876694427662773e-05, 2.2369713074451038e-...  1898.990\n949496  [-3.09238426711861e-05, 2.1764404072353062e-05...  1898.992\n949497  [-3.018560838381861e-05, 1.9767057467827266e-0...  1898.994\n949498  [-3.111780275691797e-05, 2.0135847751014464e-0...  1898.996\n\n[949499 rows x 2 columns]",
      "text/html": "<div>\n<style scoped>\n    .dataframe tbody tr th:only-of-type {\n        vertical-align: middle;\n    }\n\n    .dataframe tbody tr th {\n        vertical-align: top;\n    }\n\n    .dataframe thead th {\n        text-align: right;\n    }\n</style>\n<table border=\"1\" class=\"dataframe\">\n  <thead>\n    <tr style=\"text-align: right;\">\n      <th></th>\n      <th>samples</th>\n      <th>time</th>\n    </tr>\n  </thead>\n  <tbody>\n    <tr>\n      <th>0</th>\n      <td>[6.108219724308253e-05, 4.1935847751014113e-05...</td>\n      <td>0.000</td>\n    </tr>\n    <tr>\n      <th>1</th>\n      <td>[6.0519399017154524e-05, 4.2618500927900726e-0...</td>\n      <td>0.002</td>\n    </tr>\n    <tr>\n      <th>2</th>\n      <td>[6.742417259467301e-05, 4.1556992611811064e-05...</td>\n      <td>0.004</td>\n    </tr>\n    <tr>\n      <th>3</th>\n      <td>[5.537121535626189e-05, 4.2360979111764424e-05...</td>\n      <td>0.006</td>\n    </tr>\n    <tr>\n      <th>4</th>\n      <td>[5.912841684511108e-05, 4.846190553369728e-05,...</td>\n      <td>0.008</td>\n    </tr>\n    <tr>\n      <th>...</th>\n      <td>...</td>\n      <td>...</td>\n    </tr>\n    <tr>\n      <th>949494</th>\n      <td>[-3.11911321717285e-05, 2.3324337114086137e-05...</td>\n      <td>1898.988</td>\n    </tr>\n    <tr>\n      <th>949495</th>\n      <td>[-2.9876694427662773e-05, 2.2369713074451038e-...</td>\n      <td>1898.990</td>\n    </tr>\n    <tr>\n      <th>949496</th>\n      <td>[-3.09238426711861e-05, 2.1764404072353062e-05...</td>\n      <td>1898.992</td>\n    </tr>\n    <tr>\n      <th>949497</th>\n      <td>[-3.018560838381861e-05, 1.9767057467827266e-0...</td>\n      <td>1898.994</td>\n    </tr>\n    <tr>\n      <th>949498</th>\n      <td>[-3.111780275691797e-05, 2.0135847751014464e-0...</td>\n      <td>1898.996</td>\n    </tr>\n  </tbody>\n</table>\n<p>949499 rows × 2 columns</p>\n</div>"
     },
     "metadata": {}
    },
    {
     "output_type": "stream",
     "name": "stdout",
     "text": [
      "\n\nElectrode Names:\n"
     ]
    },
    {
     "output_type": "display_data",
     "data": {
      "text/plain": "array(['FP1', 'F3', 'C3', 'P3', 'O1', 'F7', 'T3', 'T5', 'F9', 'T9', 'P9',\n       'Fz', 'Cz', 'Pz', 'FP2', 'F8', 'T4', 'T6', 'O2', 'F4', 'C4', 'P4',\n       'F10', 'T10', 'P10'], dtype='<U3')"
     },
     "metadata": {}
    },
    {
     "output_type": "stream",
     "name": "stdout",
     "text": [
      "\n\nNumber of Channels Per Sample: 25\n\n\n\n---------- GPAC IMAGE DATA FORMAT ----------\n\n\nData For Training:\n"
     ]
    },
    {
     "output_type": "display_data",
     "data": {
      "text/plain": "     window_start                                                 fv  label\n0          1436.0  [0.025656345787360417, 0.032179734517346216, 0...      0\n1          2436.0  [0.025213492886223276, 0.025289140962647953, 0...      3\n2          3436.0  [0.023487781808931615, 0.01826561582104771, 0....      1\n3          4436.0  [0.06850261987711749, 0.07487524108974554, 0.0...      2\n4          5436.0  [0.028818125484047188, 0.02471954469685771, 0....      0\n..            ...                                                ...    ...\n941      942436.0  [0.02258746497266887, 0.018580595931532815, 0....     -1\n942      943436.0  [0.03575053160503277, 0.03564018155802227, 0.0...     -1\n943      944436.0  [0.030996596628728112, 0.028858710017469907, 0...     -1\n944      945436.0  [0.030891367009021852, 0.030663095755187705, 0...     -1\n945      946436.0  [0.023734211767239888, 0.02161133872695974, 0....     -1\n\n[946 rows x 3 columns]",
      "text/html": "<div>\n<style scoped>\n    .dataframe tbody tr th:only-of-type {\n        vertical-align: middle;\n    }\n\n    .dataframe tbody tr th {\n        vertical-align: top;\n    }\n\n    .dataframe thead th {\n        text-align: right;\n    }\n</style>\n<table border=\"1\" class=\"dataframe\">\n  <thead>\n    <tr style=\"text-align: right;\">\n      <th></th>\n      <th>window_start</th>\n      <th>fv</th>\n      <th>label</th>\n    </tr>\n  </thead>\n  <tbody>\n    <tr>\n      <th>0</th>\n      <td>1436.0</td>\n      <td>[0.025656345787360417, 0.032179734517346216, 0...</td>\n      <td>0</td>\n    </tr>\n    <tr>\n      <th>1</th>\n      <td>2436.0</td>\n      <td>[0.025213492886223276, 0.025289140962647953, 0...</td>\n      <td>3</td>\n    </tr>\n    <tr>\n      <th>2</th>\n      <td>3436.0</td>\n      <td>[0.023487781808931615, 0.01826561582104771, 0....</td>\n      <td>1</td>\n    </tr>\n    <tr>\n      <th>3</th>\n      <td>4436.0</td>\n      <td>[0.06850261987711749, 0.07487524108974554, 0.0...</td>\n      <td>2</td>\n    </tr>\n    <tr>\n      <th>4</th>\n      <td>5436.0</td>\n      <td>[0.028818125484047188, 0.02471954469685771, 0....</td>\n      <td>0</td>\n    </tr>\n    <tr>\n      <th>...</th>\n      <td>...</td>\n      <td>...</td>\n      <td>...</td>\n    </tr>\n    <tr>\n      <th>941</th>\n      <td>942436.0</td>\n      <td>[0.02258746497266887, 0.018580595931532815, 0....</td>\n      <td>-1</td>\n    </tr>\n    <tr>\n      <th>942</th>\n      <td>943436.0</td>\n      <td>[0.03575053160503277, 0.03564018155802227, 0.0...</td>\n      <td>-1</td>\n    </tr>\n    <tr>\n      <th>943</th>\n      <td>944436.0</td>\n      <td>[0.030996596628728112, 0.028858710017469907, 0...</td>\n      <td>-1</td>\n    </tr>\n    <tr>\n      <th>944</th>\n      <td>945436.0</td>\n      <td>[0.030891367009021852, 0.030663095755187705, 0...</td>\n      <td>-1</td>\n    </tr>\n    <tr>\n      <th>945</th>\n      <td>946436.0</td>\n      <td>[0.023734211767239888, 0.02161133872695974, 0....</td>\n      <td>-1</td>\n    </tr>\n  </tbody>\n</table>\n<p>946 rows × 3 columns</p>\n</div>"
     },
     "metadata": {}
    },
    {
     "output_type": "stream",
     "name": "stdout",
     "text": [
      "\n\nWindow Length (seconds): 2\n\n\nPhase Range Of Interest:\n"
     ]
    },
    {
     "output_type": "display_data",
     "data": {
      "text/plain": "array([ 1. ,  1.1,  1.2,  1.3,  1.4,  1.5,  1.6,  1.7,  1.8,  1.9,  2. ,\n        2.1,  2.2,  2.3,  2.4,  2.5,  2.6,  2.7,  2.8,  2.9,  3. ,  3.1,\n        3.2,  3.3,  3.4,  3.5,  3.6,  3.7,  3.8,  3.9,  4. ,  4.1,  4.2,\n        4.3,  4.4,  4.5,  4.6,  4.7,  4.8,  4.9,  5. ,  5.1,  5.2,  5.3,\n        5.4,  5.5,  5.6,  5.7,  5.8,  5.9,  6. ,  6.1,  6.2,  6.3,  6.4,\n        6.5,  6.6,  6.7,  6.8,  6.9,  7. ,  7.1,  7.2,  7.3,  7.4,  7.5,\n        7.6,  7.7,  7.8,  7.9,  8. ,  8.1,  8.2,  8.3,  8.4,  8.5,  8.6,\n        8.7,  8.8,  8.9,  9. ,  9.1,  9.2,  9.3,  9.4,  9.5,  9.6,  9.7,\n        9.8,  9.9, 10. ])"
     },
     "metadata": {}
    },
    {
     "output_type": "stream",
     "name": "stdout",
     "text": [
      "\n\nAmplitude Range Of Interest:\n"
     ]
    },
    {
     "output_type": "display_data",
     "data": {
      "text/plain": "array([ 20,  21,  22,  23,  24,  25,  26,  27,  28,  29,  30,  31,  32,\n        33,  34,  35,  36,  37,  38,  39,  40,  41,  42,  43,  44,  45,\n        46,  47,  48,  49,  50,  51,  52,  53,  54,  55,  56,  57,  58,\n        59,  60,  61,  62,  63,  64,  65,  66,  67,  68,  69,  70,  71,\n        72,  73,  74,  75,  76,  77,  78,  79,  80,  81,  82,  83,  84,\n        85,  86,  87,  88,  89,  90,  91,  92,  93,  94,  95,  96,  97,\n        98,  99, 100, 101, 102, 103, 104, 105, 106, 107, 108, 109, 110,\n       111, 112, 113, 114, 115, 116, 117, 118, 119, 120, 121, 122, 123,\n       124, 125, 126, 127, 128, 129, 130, 131, 132, 133, 134, 135, 136,\n       137, 138, 139, 140, 141, 142, 143, 144, 145, 146, 147, 148, 149,\n       150], dtype=int64)"
     },
     "metadata": {}
    },
    {
     "output_type": "stream",
     "name": "stdout",
     "text": [
      "\n\nNumber of Datapoints Per GPAC Image: 11921\n"
     ]
    }
   ],
   "source": [
    "test_file = 'data_AL_D6_2_1_export.mat'\n",
    "test_gpac_data = gpac_image_data[os.path.join(GPAC_IMAGES_DATA_PATH, test_file)]\n",
    "test_timeseries_data = timeseries_data[os.path.join(TIME_SERIES_DATA_PATH, test_file)]\n",
    "\n",
    "# Time series data\n",
    "print(\"---------- TIME SERIES DATA FORMAT ----------\")\n",
    "\n",
    "print(\"\\n\\nData For Training:\")\n",
    "display(test_timeseries_data['data'])\n",
    "\n",
    "print(\"\\n\\nElectrode Names:\")\n",
    "display(test_timeseries_data['electrodes'])\n",
    "\n",
    "print(f\"\\n\\nNumber of Channels Per Sample: {len(test_timeseries_data['data']['samples'][0])}\")\n",
    "\n",
    "\n",
    "# GPAC image data\n",
    "print(\"\\n\\n\\n---------- GPAC IMAGE DATA FORMAT ----------\")\n",
    "\n",
    "print(\"\\n\\nData For Training:\")\n",
    "display(test_gpac_data['data'])\n",
    "\n",
    "print(f\"\\n\\nWindow Length (seconds): {test_gpac_data['window_len'].item()}\")\n",
    "\n",
    "print(\"\\n\\nPhase Range Of Interest:\")\n",
    "display(test_gpac_data['lf'])\n",
    "\n",
    "print(\"\\n\\nAmplitude Range Of Interest:\")\n",
    "display(test_gpac_data['hf'])\n",
    "\n",
    "print(f\"\\n\\nNumber of Datapoints Per GPAC Image: {len(test_gpac_data['data']['fv'][0])}\")\n"
   ]
   "cell_type": "code",
   "execution_count": null,
   "metadata": {},
   "outputs": [],
   "source": []
  }
 ]
}